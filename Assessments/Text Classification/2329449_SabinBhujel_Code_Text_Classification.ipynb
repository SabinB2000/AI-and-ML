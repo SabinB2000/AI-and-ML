{
  "cells": [
    {
      "cell_type": "markdown",
      "id": "7Clp2idOjNyG",
      "metadata": {
        "id": "7Clp2idOjNyG"
      },
      "source": [
        "# **3.1 Text Preprocessing, Tokenization, and Sequence Padding:**"
      ]
    },
    {
      "cell_type": "code",
      "execution_count": null,
      "id": "HC7oLrz8rKNt",
      "metadata": {
        "colab": {
          "base_uri": "https://localhost:8080/"
        },
        "id": "HC7oLrz8rKNt",
        "outputId": "b64e0d9d-6490-4250-a79b-56ea2cb082f3"
      },
      "outputs": [
        {
          "output_type": "stream",
          "name": "stdout",
          "text": [
            "Found existing installation: jax 0.5.2\n",
            "Uninstalling jax-0.5.2:\n",
            "  Would remove:\n",
            "    /usr/local/lib/python3.11/dist-packages/jax-0.5.2.dist-info/*\n",
            "    /usr/local/lib/python3.11/dist-packages/jax/*\n",
            "Proceed (Y/n)? y\n",
            "  Successfully uninstalled jax-0.5.2\n",
            "Found existing installation: jaxlib 0.5.1\n",
            "Uninstalling jaxlib-0.5.1:\n",
            "  Would remove:\n",
            "    /usr/local/lib/python3.11/dist-packages/jaxlib-0.5.1.dist-info/*\n",
            "    /usr/local/lib/python3.11/dist-packages/jaxlib/*\n",
            "Proceed (Y/n)? y\n",
            "  Successfully uninstalled jaxlib-0.5.1\n"
          ]
        }
      ],
      "source": [
        "!pip uninstall jax jaxlib"
      ]
    },
    {
      "cell_type": "code",
      "execution_count": null,
      "id": "AX_KIF-7o6d-",
      "metadata": {
        "colab": {
          "base_uri": "https://localhost:8080/"
        },
        "id": "AX_KIF-7o6d-",
        "outputId": "b70891cb-5c78-40a4-9b1f-95b9d5876e9c"
      },
      "outputs": [
        {
          "output_type": "stream",
          "name": "stdout",
          "text": [
            "Requirement already satisfied: numpy==1.23.5 in /usr/local/lib/python3.11/dist-packages (1.23.5)\n",
            "Collecting gensim\n",
            "  Using cached gensim-4.3.3-cp311-cp311-manylinux_2_17_x86_64.manylinux2014_x86_64.whl.metadata (8.1 kB)\n",
            "Requirement already satisfied: numpy<2.0,>=1.18.5 in /usr/local/lib/python3.11/dist-packages (from gensim) (1.23.5)\n",
            "Collecting scipy<1.14.0,>=1.7.0 (from gensim)\n",
            "  Using cached scipy-1.13.1-cp311-cp311-manylinux_2_17_x86_64.manylinux2014_x86_64.whl.metadata (60 kB)\n",
            "Requirement already satisfied: smart-open>=1.8.1 in /usr/local/lib/python3.11/dist-packages (from gensim) (7.1.0)\n",
            "Requirement already satisfied: wrapt in /usr/local/lib/python3.11/dist-packages (from smart-open>=1.8.1->gensim) (1.17.2)\n",
            "Using cached gensim-4.3.3-cp311-cp311-manylinux_2_17_x86_64.manylinux2014_x86_64.whl (26.7 MB)\n",
            "Downloading scipy-1.13.1-cp311-cp311-manylinux_2_17_x86_64.manylinux2014_x86_64.whl (38.6 MB)\n",
            "\u001b[2K   \u001b[90m━━━━━━━━━━━━━━━━━━━━━━━━━━━━━━━━━━━━━━━━\u001b[0m \u001b[32m38.6/38.6 MB\u001b[0m \u001b[31m14.4 MB/s\u001b[0m eta \u001b[36m0:00:00\u001b[0m\n",
            "\u001b[?25hInstalling collected packages: scipy, gensim\n",
            "  Attempting uninstall: scipy\n",
            "    Found existing installation: scipy 1.15.3\n",
            "    Uninstalling scipy-1.15.3:\n",
            "      Successfully uninstalled scipy-1.15.3\n",
            "\u001b[31mERROR: pip's dependency resolver does not currently take into account all the packages that are installed. This behaviour is the source of the following dependency conflicts.\n",
            "scikit-image 0.25.2 requires numpy>=1.24, but you have numpy 1.23.5 which is incompatible.\n",
            "pymc 5.22.0 requires numpy>=1.25.0, but you have numpy 1.23.5 which is incompatible.\n",
            "albumentations 2.0.6 requires numpy>=1.24.4, but you have numpy 1.23.5 which is incompatible.\n",
            "imbalanced-learn 0.13.0 requires numpy<3,>=1.24.3, but you have numpy 1.23.5 which is incompatible.\n",
            "tsfresh 0.21.0 requires scipy>=1.14.0; python_version >= \"3.10\", but you have scipy 1.13.1 which is incompatible.\u001b[0m\u001b[31m\n",
            "\u001b[0mSuccessfully installed gensim-4.3.3 scipy-1.13.1\n",
            "Collecting jax==0.4.13\n",
            "  Downloading jax-0.4.13.tar.gz (1.3 MB)\n",
            "\u001b[2K     \u001b[90m━━━━━━━━━━━━━━━━━━━━━━━━━━━━━━━━━━━━━━━━\u001b[0m \u001b[32m1.3/1.3 MB\u001b[0m \u001b[31m14.4 MB/s\u001b[0m eta \u001b[36m0:00:00\u001b[0m\n",
            "\u001b[?25h  Installing build dependencies ... \u001b[?25l\u001b[?25hdone\n",
            "  Getting requirements to build wheel ... \u001b[?25l\u001b[?25hdone\n",
            "  Preparing metadata (pyproject.toml) ... \u001b[?25l\u001b[?25hdone\n",
            "Requirement already satisfied: ml_dtypes>=0.1.0 in /usr/local/lib/python3.11/dist-packages (from jax==0.4.13) (0.4.1)\n",
            "Requirement already satisfied: numpy>=1.21 in /usr/local/lib/python3.11/dist-packages (from jax==0.4.13) (1.23.5)\n",
            "Requirement already satisfied: opt_einsum in /usr/local/lib/python3.11/dist-packages (from jax==0.4.13) (3.4.0)\n",
            "Requirement already satisfied: scipy>=1.7 in /usr/local/lib/python3.11/dist-packages (from jax==0.4.13) (1.13.1)\n",
            "Building wheels for collected packages: jax\n",
            "  Building wheel for jax (pyproject.toml) ... \u001b[?25l\u001b[?25hdone\n",
            "  Created wheel for jax: filename=jax-0.4.13-py3-none-any.whl size=1518817 sha256=3fd563ee3193283eb08c5d0084d7eabb72eae2e7684a0513d86b49e1e8fda09c\n",
            "  Stored in directory: /root/.cache/pip/wheels/27/92/71/d84a9839f7b65be96d83697684a7e6d5d2db73cd9e4ce4e9a1\n",
            "Successfully built jax\n",
            "Installing collected packages: jax\n",
            "\u001b[31mERROR: pip's dependency resolver does not currently take into account all the packages that are installed. This behaviour is the source of the following dependency conflicts.\n",
            "chex 0.1.89 requires jaxlib>=0.4.27, which is not installed.\n",
            "optax 0.2.4 requires jaxlib>=0.4.27, which is not installed.\n",
            "dopamine-rl 4.1.2 requires jaxlib>=0.1.51, which is not installed.\n",
            "chex 0.1.89 requires jax>=0.4.27, but you have jax 0.4.13 which is incompatible.\n",
            "chex 0.1.89 requires numpy>=1.24.1, but you have numpy 1.23.5 which is incompatible.\n",
            "flax 0.10.6 requires jax>=0.5.1, but you have jax 0.4.13 which is incompatible.\n",
            "optax 0.2.4 requires jax>=0.4.27, but you have jax 0.4.13 which is incompatible.\n",
            "orbax-checkpoint 0.11.13 requires jax>=0.5.0, but you have jax 0.4.13 which is incompatible.\u001b[0m\u001b[31m\n",
            "\u001b[0mSuccessfully installed jax-0.4.13\n",
            "/bin/bash: -c: line 1: syntax error near unexpected token `('\n",
            "/bin/bash: -c: line 1: `pip install jaxlib==0.4.13# JAXLIB works together with JAX, providing hardware acceleration (like GPU/TPU support).'\n"
          ]
        }
      ],
      "source": [
        "\n",
        "!pip install numpy==1.23.5 # Installing a specific version of NumPy (1.23.5)\n",
        "\n",
        "!pip install gensim # Gensim is used for natural language processing tasks, especially for working with Word2Vec and other word embeddings.\n",
        "\n",
        "!pip install jax==0.4.13 # JAX is a high-performance library for numerical computing and machine learning.\n",
        "\n",
        "!pip install jaxlib==0.4.13# JAXLIB works together with JAX, providing hardware acceleration (like GPU/TPU support).\n"
      ]
    },
    {
      "cell_type": "markdown",
      "id": "_r_9FbUCjV5N",
      "metadata": {
        "id": "_r_9FbUCjV5N"
      },
      "source": [
        "## **3.3.1 Loading Dataset**"
      ]
    },
    {
      "cell_type": "code",
      "execution_count": null,
      "id": "6e1a7ff43b466a07",
      "metadata": {
        "colab": {
          "base_uri": "https://localhost:8080/"
        },
        "id": "6e1a7ff43b466a07",
        "outputId": "4f3046e3-545b-4d13-8586-36c3428808d0"
      },
      "outputs": [
        {
          "output_type": "stream",
          "name": "stderr",
          "text": [
            "[nltk_data] Downloading package stopwords to /root/nltk_data...\n",
            "[nltk_data]   Unzipping corpora/stopwords.zip.\n",
            "[nltk_data] Downloading package wordnet to /root/nltk_data...\n"
          ]
        },
        {
          "output_type": "execute_result",
          "data": {
            "text/plain": [
              "True"
            ]
          },
          "metadata": {},
          "execution_count": 3
        }
      ],
      "source": [
        "import keras\n",
        "import numpy as np\n",
        "import pandas as pd\n",
        "import matplotlib.pyplot as plt\n",
        "from sklearn.model_selection import train_test_split\n",
        "#from sklearn.preprocessing import is_sarcasticEncoder\n",
        "from tensorflow.keras.preprocessing.text import Tokenizer\n",
        "from tensorflow.keras.preprocessing.sequence import pad_sequences\n",
        "from tensorflow.keras.models import Sequential\n",
        "from tensorflow.keras.layers import Embedding, SimpleRNN, LSTM, Dense, Dropout\n",
        "import re\n",
        "import nltk\n",
        "from nltk.corpus import stopwords\n",
        "from nltk.stem import WordNetLemmatizer\n",
        "nltk.download('stopwords')\n",
        "nltk.download('wordnet')"
      ]
    },
    {
      "cell_type": "code",
      "execution_count": null,
      "id": "w8IkSxHjjlCB",
      "metadata": {
        "colab": {
          "base_uri": "https://localhost:8080/"
        },
        "id": "w8IkSxHjjlCB",
        "outputId": "a28fd864-c21a-4e2f-c7f0-33280018bb7d"
      },
      "outputs": [
        {
          "output_type": "stream",
          "name": "stdout",
          "text": [
            "Mounted at /content/drive\n"
          ]
        }
      ],
      "source": [
        "from google.colab import drive\n",
        "drive.mount('/content/drive')"
      ]
    },
    {
      "cell_type": "code",
      "execution_count": null,
      "id": "261fd628e2184cc5",
      "metadata": {
        "id": "261fd628e2184cc5"
      },
      "outputs": [],
      "source": [
        "train_dataset_path = '/content/drive/MyDrive/2025 - 6CS012 - AI and ML - Student/Collection of Dataset for Text Classification/8. Sarcastic or Not Sarcastic Dataset/sarcastic_headlines.csv'\n",
        "test_dataset_path = '/content/drive/MyDrive/AI and ML/Assessment/Assessment_2/test_sarcastic_headlines.csv'"
      ]
    },
    {
      "cell_type": "code",
      "execution_count": null,
      "id": "8ca659a0dcfc36c1",
      "metadata": {
        "id": "8ca659a0dcfc36c1",
        "colab": {
          "base_uri": "https://localhost:8080/",
          "height": 172
        },
        "outputId": "fb1449a4-e066-4c22-b295-55148a374108"
      },
      "outputs": [
        {
          "output_type": "execute_result",
          "data": {
            "text/plain": [
              "                                            headline  is_sarcastic\n",
              "0  thirtysomething scientists unveil doomsday clo...             1\n",
              "1  dem rep. totally nails why congress is falling...             0\n",
              "2  eat your veggies: 9 deliciously different recipes             0\n",
              "3  inclement weather prevents liar from getting t...             1\n",
              "4  mother comes pretty close to using word 'strea...             1"
            ],
            "text/html": [
              "\n",
              "  <div id=\"df-4ba5aed9-da61-4cc4-9998-104d4dc741fd\" class=\"colab-df-container\">\n",
              "    <div>\n",
              "<style scoped>\n",
              "    .dataframe tbody tr th:only-of-type {\n",
              "        vertical-align: middle;\n",
              "    }\n",
              "\n",
              "    .dataframe tbody tr th {\n",
              "        vertical-align: top;\n",
              "    }\n",
              "\n",
              "    .dataframe thead th {\n",
              "        text-align: right;\n",
              "    }\n",
              "</style>\n",
              "<table border=\"1\" class=\"dataframe\">\n",
              "  <thead>\n",
              "    <tr style=\"text-align: right;\">\n",
              "      <th></th>\n",
              "      <th>headline</th>\n",
              "      <th>is_sarcastic</th>\n",
              "    </tr>\n",
              "  </thead>\n",
              "  <tbody>\n",
              "    <tr>\n",
              "      <th>0</th>\n",
              "      <td>thirtysomething scientists unveil doomsday clo...</td>\n",
              "      <td>1</td>\n",
              "    </tr>\n",
              "    <tr>\n",
              "      <th>1</th>\n",
              "      <td>dem rep. totally nails why congress is falling...</td>\n",
              "      <td>0</td>\n",
              "    </tr>\n",
              "    <tr>\n",
              "      <th>2</th>\n",
              "      <td>eat your veggies: 9 deliciously different recipes</td>\n",
              "      <td>0</td>\n",
              "    </tr>\n",
              "    <tr>\n",
              "      <th>3</th>\n",
              "      <td>inclement weather prevents liar from getting t...</td>\n",
              "      <td>1</td>\n",
              "    </tr>\n",
              "    <tr>\n",
              "      <th>4</th>\n",
              "      <td>mother comes pretty close to using word 'strea...</td>\n",
              "      <td>1</td>\n",
              "    </tr>\n",
              "  </tbody>\n",
              "</table>\n",
              "</div>\n",
              "    <div class=\"colab-df-buttons\">\n",
              "\n",
              "  <div class=\"colab-df-container\">\n",
              "    <button class=\"colab-df-convert\" onclick=\"convertToInteractive('df-4ba5aed9-da61-4cc4-9998-104d4dc741fd')\"\n",
              "            title=\"Convert this dataframe to an interactive table.\"\n",
              "            style=\"display:none;\">\n",
              "\n",
              "  <svg xmlns=\"http://www.w3.org/2000/svg\" height=\"24px\" viewBox=\"0 -960 960 960\">\n",
              "    <path d=\"M120-120v-720h720v720H120Zm60-500h600v-160H180v160Zm220 220h160v-160H400v160Zm0 220h160v-160H400v160ZM180-400h160v-160H180v160Zm440 0h160v-160H620v160ZM180-180h160v-160H180v160Zm440 0h160v-160H620v160Z\"/>\n",
              "  </svg>\n",
              "    </button>\n",
              "\n",
              "  <style>\n",
              "    .colab-df-container {\n",
              "      display:flex;\n",
              "      gap: 12px;\n",
              "    }\n",
              "\n",
              "    .colab-df-convert {\n",
              "      background-color: #E8F0FE;\n",
              "      border: none;\n",
              "      border-radius: 50%;\n",
              "      cursor: pointer;\n",
              "      display: none;\n",
              "      fill: #1967D2;\n",
              "      height: 32px;\n",
              "      padding: 0 0 0 0;\n",
              "      width: 32px;\n",
              "    }\n",
              "\n",
              "    .colab-df-convert:hover {\n",
              "      background-color: #E2EBFA;\n",
              "      box-shadow: 0px 1px 2px rgba(60, 64, 67, 0.3), 0px 1px 3px 1px rgba(60, 64, 67, 0.15);\n",
              "      fill: #174EA6;\n",
              "    }\n",
              "\n",
              "    .colab-df-buttons div {\n",
              "      margin-bottom: 4px;\n",
              "    }\n",
              "\n",
              "    [theme=dark] .colab-df-convert {\n",
              "      background-color: #3B4455;\n",
              "      fill: #D2E3FC;\n",
              "    }\n",
              "\n",
              "    [theme=dark] .colab-df-convert:hover {\n",
              "      background-color: #434B5C;\n",
              "      box-shadow: 0px 1px 3px 1px rgba(0, 0, 0, 0.15);\n",
              "      filter: drop-shadow(0px 1px 2px rgba(0, 0, 0, 0.3));\n",
              "      fill: #FFFFFF;\n",
              "    }\n",
              "  </style>\n",
              "\n",
              "    <script>\n",
              "      const buttonEl =\n",
              "        document.querySelector('#df-4ba5aed9-da61-4cc4-9998-104d4dc741fd button.colab-df-convert');\n",
              "      buttonEl.style.display =\n",
              "        google.colab.kernel.accessAllowed ? 'block' : 'none';\n",
              "\n",
              "      async function convertToInteractive(key) {\n",
              "        const element = document.querySelector('#df-4ba5aed9-da61-4cc4-9998-104d4dc741fd');\n",
              "        const dataTable =\n",
              "          await google.colab.kernel.invokeFunction('convertToInteractive',\n",
              "                                                    [key], {});\n",
              "        if (!dataTable) return;\n",
              "\n",
              "        const docLinkHtml = 'Like what you see? Visit the ' +\n",
              "          '<a target=\"_blank\" href=https://colab.research.google.com/notebooks/data_table.ipynb>data table notebook</a>'\n",
              "          + ' to learn more about interactive tables.';\n",
              "        element.innerHTML = '';\n",
              "        dataTable['output_type'] = 'display_data';\n",
              "        await google.colab.output.renderOutput(dataTable, element);\n",
              "        const docLink = document.createElement('div');\n",
              "        docLink.innerHTML = docLinkHtml;\n",
              "        element.appendChild(docLink);\n",
              "      }\n",
              "    </script>\n",
              "  </div>\n",
              "\n",
              "\n",
              "    <div id=\"df-8dd05c56-e44e-46dd-a659-d28411537d14\">\n",
              "      <button class=\"colab-df-quickchart\" onclick=\"quickchart('df-8dd05c56-e44e-46dd-a659-d28411537d14')\"\n",
              "                title=\"Suggest charts\"\n",
              "                style=\"display:none;\">\n",
              "\n",
              "<svg xmlns=\"http://www.w3.org/2000/svg\" height=\"24px\"viewBox=\"0 0 24 24\"\n",
              "     width=\"24px\">\n",
              "    <g>\n",
              "        <path d=\"M19 3H5c-1.1 0-2 .9-2 2v14c0 1.1.9 2 2 2h14c1.1 0 2-.9 2-2V5c0-1.1-.9-2-2-2zM9 17H7v-7h2v7zm4 0h-2V7h2v10zm4 0h-2v-4h2v4z\"/>\n",
              "    </g>\n",
              "</svg>\n",
              "      </button>\n",
              "\n",
              "<style>\n",
              "  .colab-df-quickchart {\n",
              "      --bg-color: #E8F0FE;\n",
              "      --fill-color: #1967D2;\n",
              "      --hover-bg-color: #E2EBFA;\n",
              "      --hover-fill-color: #174EA6;\n",
              "      --disabled-fill-color: #AAA;\n",
              "      --disabled-bg-color: #DDD;\n",
              "  }\n",
              "\n",
              "  [theme=dark] .colab-df-quickchart {\n",
              "      --bg-color: #3B4455;\n",
              "      --fill-color: #D2E3FC;\n",
              "      --hover-bg-color: #434B5C;\n",
              "      --hover-fill-color: #FFFFFF;\n",
              "      --disabled-bg-color: #3B4455;\n",
              "      --disabled-fill-color: #666;\n",
              "  }\n",
              "\n",
              "  .colab-df-quickchart {\n",
              "    background-color: var(--bg-color);\n",
              "    border: none;\n",
              "    border-radius: 50%;\n",
              "    cursor: pointer;\n",
              "    display: none;\n",
              "    fill: var(--fill-color);\n",
              "    height: 32px;\n",
              "    padding: 0;\n",
              "    width: 32px;\n",
              "  }\n",
              "\n",
              "  .colab-df-quickchart:hover {\n",
              "    background-color: var(--hover-bg-color);\n",
              "    box-shadow: 0 1px 2px rgba(60, 64, 67, 0.3), 0 1px 3px 1px rgba(60, 64, 67, 0.15);\n",
              "    fill: var(--button-hover-fill-color);\n",
              "  }\n",
              "\n",
              "  .colab-df-quickchart-complete:disabled,\n",
              "  .colab-df-quickchart-complete:disabled:hover {\n",
              "    background-color: var(--disabled-bg-color);\n",
              "    fill: var(--disabled-fill-color);\n",
              "    box-shadow: none;\n",
              "  }\n",
              "\n",
              "  .colab-df-spinner {\n",
              "    border: 2px solid var(--fill-color);\n",
              "    border-color: transparent;\n",
              "    border-bottom-color: var(--fill-color);\n",
              "    animation:\n",
              "      spin 1s steps(1) infinite;\n",
              "  }\n",
              "\n",
              "  @keyframes spin {\n",
              "    0% {\n",
              "      border-color: transparent;\n",
              "      border-bottom-color: var(--fill-color);\n",
              "      border-left-color: var(--fill-color);\n",
              "    }\n",
              "    20% {\n",
              "      border-color: transparent;\n",
              "      border-left-color: var(--fill-color);\n",
              "      border-top-color: var(--fill-color);\n",
              "    }\n",
              "    30% {\n",
              "      border-color: transparent;\n",
              "      border-left-color: var(--fill-color);\n",
              "      border-top-color: var(--fill-color);\n",
              "      border-right-color: var(--fill-color);\n",
              "    }\n",
              "    40% {\n",
              "      border-color: transparent;\n",
              "      border-right-color: var(--fill-color);\n",
              "      border-top-color: var(--fill-color);\n",
              "    }\n",
              "    60% {\n",
              "      border-color: transparent;\n",
              "      border-right-color: var(--fill-color);\n",
              "    }\n",
              "    80% {\n",
              "      border-color: transparent;\n",
              "      border-right-color: var(--fill-color);\n",
              "      border-bottom-color: var(--fill-color);\n",
              "    }\n",
              "    90% {\n",
              "      border-color: transparent;\n",
              "      border-bottom-color: var(--fill-color);\n",
              "    }\n",
              "  }\n",
              "</style>\n",
              "\n",
              "      <script>\n",
              "        async function quickchart(key) {\n",
              "          const quickchartButtonEl =\n",
              "            document.querySelector('#' + key + ' button');\n",
              "          quickchartButtonEl.disabled = true;  // To prevent multiple clicks.\n",
              "          quickchartButtonEl.classList.add('colab-df-spinner');\n",
              "          try {\n",
              "            const charts = await google.colab.kernel.invokeFunction(\n",
              "                'suggestCharts', [key], {});\n",
              "          } catch (error) {\n",
              "            console.error('Error during call to suggestCharts:', error);\n",
              "          }\n",
              "          quickchartButtonEl.classList.remove('colab-df-spinner');\n",
              "          quickchartButtonEl.classList.add('colab-df-quickchart-complete');\n",
              "        }\n",
              "        (() => {\n",
              "          let quickchartButtonEl =\n",
              "            document.querySelector('#df-8dd05c56-e44e-46dd-a659-d28411537d14 button');\n",
              "          quickchartButtonEl.style.display =\n",
              "            google.colab.kernel.accessAllowed ? 'block' : 'none';\n",
              "        })();\n",
              "      </script>\n",
              "    </div>\n",
              "\n",
              "    </div>\n",
              "  </div>\n"
            ],
            "application/vnd.google.colaboratory.intrinsic+json": {
              "type": "dataframe",
              "variable_name": "df",
              "summary": "{\n  \"name\": \"df\",\n  \"rows\": 28619,\n  \"fields\": [\n    {\n      \"column\": \"headline\",\n      \"properties\": {\n        \"dtype\": \"string\",\n        \"num_unique_values\": 28503,\n        \"samples\": [\n          \"marco rubio nabs his first 2016 win in minnesota gop presidential caucus\",\n          \"oops: hot mic broadcasts al roker going to the bathroom\",\n          \"white house pretty sure uzbekistan diplomat stole a bunch of soap\"\n        ],\n        \"semantic_type\": \"\",\n        \"description\": \"\"\n      }\n    },\n    {\n      \"column\": \"is_sarcastic\",\n      \"properties\": {\n        \"dtype\": \"number\",\n        \"std\": 0,\n        \"min\": 0,\n        \"max\": 1,\n        \"num_unique_values\": 2,\n        \"samples\": [\n          0,\n          1\n        ],\n        \"semantic_type\": \"\",\n        \"description\": \"\"\n      }\n    }\n  ]\n}"
            }
          },
          "metadata": {},
          "execution_count": 6
        }
      ],
      "source": [
        "df = pd.read_csv(train_dataset_path)\n",
        "df.head()"
      ]
    },
    {
      "cell_type": "code",
      "execution_count": null,
      "id": "NmvZQ2mOZlz9",
      "metadata": {
        "id": "NmvZQ2mOZlz9",
        "colab": {
          "base_uri": "https://localhost:8080/",
          "height": 380
        },
        "outputId": "f8034680-9dfc-4bde-a114-158109b6ea95"
      },
      "outputs": [
        {
          "output_type": "execute_result",
          "data": {
            "text/plain": [
              "0        thirtysomething scientists unveil doomsday clo...\n",
              "3        inclement weather prevents liar from getting t...\n",
              "4        mother comes pretty close to using word 'strea...\n",
              "7        richard branson's global-warming donation near...\n",
              "8        shadow government getting too large to meet in...\n",
              "                               ...                        \n",
              "28612    polish rapper under fire for use of the word '...\n",
              "28614         jews to celebrate rosh hashasha or something\n",
              "28615    internal affairs investigator disappointed con...\n",
              "28617    mars probe destroyed by orbiting spielberg-gat...\n",
              "28618                   dad clarifies this not a food stop\n",
              "Name: headline, Length: 13634, dtype: object"
            ],
            "text/html": [
              "<div>\n",
              "<style scoped>\n",
              "    .dataframe tbody tr th:only-of-type {\n",
              "        vertical-align: middle;\n",
              "    }\n",
              "\n",
              "    .dataframe tbody tr th {\n",
              "        vertical-align: top;\n",
              "    }\n",
              "\n",
              "    .dataframe thead th {\n",
              "        text-align: right;\n",
              "    }\n",
              "</style>\n",
              "<table border=\"1\" class=\"dataframe\">\n",
              "  <thead>\n",
              "    <tr style=\"text-align: right;\">\n",
              "      <th></th>\n",
              "      <th>headline</th>\n",
              "    </tr>\n",
              "  </thead>\n",
              "  <tbody>\n",
              "    <tr>\n",
              "      <th>0</th>\n",
              "      <td>thirtysomething scientists unveil doomsday clo...</td>\n",
              "    </tr>\n",
              "    <tr>\n",
              "      <th>3</th>\n",
              "      <td>inclement weather prevents liar from getting t...</td>\n",
              "    </tr>\n",
              "    <tr>\n",
              "      <th>4</th>\n",
              "      <td>mother comes pretty close to using word 'strea...</td>\n",
              "    </tr>\n",
              "    <tr>\n",
              "      <th>7</th>\n",
              "      <td>richard branson's global-warming donation near...</td>\n",
              "    </tr>\n",
              "    <tr>\n",
              "      <th>8</th>\n",
              "      <td>shadow government getting too large to meet in...</td>\n",
              "    </tr>\n",
              "    <tr>\n",
              "      <th>...</th>\n",
              "      <td>...</td>\n",
              "    </tr>\n",
              "    <tr>\n",
              "      <th>28612</th>\n",
              "      <td>polish rapper under fire for use of the word '...</td>\n",
              "    </tr>\n",
              "    <tr>\n",
              "      <th>28614</th>\n",
              "      <td>jews to celebrate rosh hashasha or something</td>\n",
              "    </tr>\n",
              "    <tr>\n",
              "      <th>28615</th>\n",
              "      <td>internal affairs investigator disappointed con...</td>\n",
              "    </tr>\n",
              "    <tr>\n",
              "      <th>28617</th>\n",
              "      <td>mars probe destroyed by orbiting spielberg-gat...</td>\n",
              "    </tr>\n",
              "    <tr>\n",
              "      <th>28618</th>\n",
              "      <td>dad clarifies this not a food stop</td>\n",
              "    </tr>\n",
              "  </tbody>\n",
              "</table>\n",
              "<p>13634 rows × 1 columns</p>\n",
              "</div><br><label><b>dtype:</b> object</label>"
            ]
          },
          "metadata": {},
          "execution_count": 7
        }
      ],
      "source": [
        "df[df['is_sarcastic'] == 1]['headline']"
      ]
    },
    {
      "cell_type": "code",
      "execution_count": null,
      "id": "d37211a46587b18a",
      "metadata": {
        "id": "d37211a46587b18a",
        "colab": {
          "base_uri": "https://localhost:8080/"
        },
        "outputId": "5b41c854-2788-4964-bdc7-6195cd9bef72"
      },
      "outputs": [
        {
          "output_type": "stream",
          "name": "stdout",
          "text": [
            "<class 'pandas.core.frame.DataFrame'>\n",
            "RangeIndex: 28619 entries, 0 to 28618\n",
            "Data columns (total 2 columns):\n",
            " #   Column        Non-Null Count  Dtype \n",
            "---  ------        --------------  ----- \n",
            " 0   headline      28619 non-null  object\n",
            " 1   is_sarcastic  28619 non-null  int64 \n",
            "dtypes: int64(1), object(1)\n",
            "memory usage: 447.3+ KB\n"
          ]
        }
      ],
      "source": [
        "df.info()"
      ]
    },
    {
      "cell_type": "code",
      "execution_count": null,
      "id": "537089ab75b93f48",
      "metadata": {
        "id": "537089ab75b93f48",
        "colab": {
          "base_uri": "https://localhost:8080/",
          "height": 564
        },
        "outputId": "d20010d6-12e0-4992-9430-f0e56a4e22f6"
      },
      "outputs": [
        {
          "output_type": "display_data",
          "data": {
            "text/plain": [
              "<Figure size 800x600 with 1 Axes>"
            ],
            "image/png": "[encoded data removed]"
          },
          "metadata": {}
        }
      ],
      "source": [
        "import matplotlib.pyplot as plt\n",
        "import seaborn as sns\n",
        "\n",
        "plt.figure(figsize=(8, 6))\n",
        "sns.countplot(data=df, x='is_sarcastic')\n",
        "plt.title(\"Class Distribution\")\n",
        "plt.xlabel(\"is_sarcastic\")\n",
        "plt.ylabel(\"Count\")\n",
        "plt.show()"
      ]
    },
    {
      "cell_type": "code",
      "execution_count": null,
      "id": "e5d09d734b9bc9b6",
      "metadata": {
        "id": "e5d09d734b9bc9b6",
        "colab": {
          "base_uri": "https://localhost:8080/",
          "height": 172
        },
        "outputId": "d333f330-75ba-4fe3-a93c-6637c7523665"
      },
      "outputs": [
        {
          "output_type": "execute_result",
          "data": {
            "text/plain": [
              "                                            headline  is_sarcastic\n",
              "0  thirtysomething scientists unveil doomsday clo...             1\n",
              "1  dem rep. totally nails why congress is falling...             0\n",
              "2  eat your veggies: 9 deliciously different recipes             0\n",
              "3  inclement weather prevents liar from getting t...             1\n",
              "4  mother comes pretty close to using word 'strea...             1"
            ],
            "text/html": [
              "\n",
              "  <div id=\"df-8936b3f5-bdbf-47ca-a0d7-31e5d9d04a13\" class=\"colab-df-container\">\n",
              "    <div>\n",
              "<style scoped>\n",
              "    .dataframe tbody tr th:only-of-type {\n",
              "        vertical-align: middle;\n",
              "    }\n",
              "\n",
              "    .dataframe tbody tr th {\n",
              "        vertical-align: top;\n",
              "    }\n",
              "\n",
              "    .dataframe thead th {\n",
              "        text-align: right;\n",
              "    }\n",
              "</style>\n",
              "<table border=\"1\" class=\"dataframe\">\n",
              "  <thead>\n",
              "    <tr style=\"text-align: right;\">\n",
              "      <th></th>\n",
              "      <th>headline</th>\n",
              "      <th>is_sarcastic</th>\n",
              "    </tr>\n",
              "  </thead>\n",
              "  <tbody>\n",
              "    <tr>\n",
              "      <th>0</th>\n",
              "      <td>thirtysomething scientists unveil doomsday clo...</td>\n",
              "      <td>1</td>\n",
              "    </tr>\n",
              "    <tr>\n",
              "      <th>1</th>\n",
              "      <td>dem rep. totally nails why congress is falling...</td>\n",
              "      <td>0</td>\n",
              "    </tr>\n",
              "    <tr>\n",
              "      <th>2</th>\n",
              "      <td>eat your veggies: 9 deliciously different recipes</td>\n",
              "      <td>0</td>\n",
              "    </tr>\n",
              "    <tr>\n",
              "      <th>3</th>\n",
              "      <td>inclement weather prevents liar from getting t...</td>\n",
              "      <td>1</td>\n",
              "    </tr>\n",
              "    <tr>\n",
              "      <th>4</th>\n",
              "      <td>mother comes pretty close to using word 'strea...</td>\n",
              "      <td>1</td>\n",
              "    </tr>\n",
              "  </tbody>\n",
              "</table>\n",
              "</div>\n",
              "    <div class=\"colab-df-buttons\">\n",
              "\n",
              "  <div class=\"colab-df-container\">\n",
              "    <button class=\"colab-df-convert\" onclick=\"convertToInteractive('df-8936b3f5-bdbf-47ca-a0d7-31e5d9d04a13')\"\n",
              "            title=\"Convert this dataframe to an interactive table.\"\n",
              "            style=\"display:none;\">\n",
              "\n",
              "  <svg xmlns=\"http://www.w3.org/2000/svg\" height=\"24px\" viewBox=\"0 -960 960 960\">\n",
              "    <path d=\"M120-120v-720h720v720H120Zm60-500h600v-160H180v160Zm220 220h160v-160H400v160Zm0 220h160v-160H400v160ZM180-400h160v-160H180v160Zm440 0h160v-160H620v160ZM180-180h160v-160H180v160Zm440 0h160v-160H620v160Z\"/>\n",
              "  </svg>\n",
              "    </button>\n",
              "\n",
              "  <style>\n",
              "    .colab-df-container {\n",
              "      display:flex;\n",
              "      gap: 12px;\n",
              "    }\n",
              "\n",
              "    .colab-df-convert {\n",
              "      background-color: #E8F0FE;\n",
              "      border: none;\n",
              "      border-radius: 50%;\n",
              "      cursor: pointer;\n",
              "      display: none;\n",
              "      fill: #1967D2;\n",
              "      height: 32px;\n",
              "      padding: 0 0 0 0;\n",
              "      width: 32px;\n",
              "    }\n",
              "\n",
              "    .colab-df-convert:hover {\n",
              "      background-color: #E2EBFA;\n",
              "      box-shadow: 0px 1px 2px rgba(60, 64, 67, 0.3), 0px 1px 3px 1px rgba(60, 64, 67, 0.15);\n",
              "      fill: #174EA6;\n",
              "    }\n",
              "\n",
              "    .colab-df-buttons div {\n",
              "      margin-bottom: 4px;\n",
              "    }\n",
              "\n",
              "    [theme=dark] .colab-df-convert {\n",
              "      background-color: #3B4455;\n",
              "      fill: #D2E3FC;\n",
              "    }\n",
              "\n",
              "    [theme=dark] .colab-df-convert:hover {\n",
              "      background-color: #434B5C;\n",
              "      box-shadow: 0px 1px 3px 1px rgba(0, 0, 0, 0.15);\n",
              "      filter: drop-shadow(0px 1px 2px rgba(0, 0, 0, 0.3));\n",
              "      fill: #FFFFFF;\n",
              "    }\n",
              "  </style>\n",
              "\n",
              "    <script>\n",
              "      const buttonEl =\n",
              "        document.querySelector('#df-8936b3f5-bdbf-47ca-a0d7-31e5d9d04a13 button.colab-df-convert');\n",
              "      buttonEl.style.display =\n",
              "        google.colab.kernel.accessAllowed ? 'block' : 'none';\n",
              "\n",
              "      async function convertToInteractive(key) {\n",
              "        const element = document.querySelector('#df-8936b3f5-bdbf-47ca-a0d7-31e5d9d04a13');\n",
              "        const dataTable =\n",
              "          await google.colab.kernel.invokeFunction('convertToInteractive',\n",
              "                                                    [key], {});\n",
              "        if (!dataTable) return;\n",
              "\n",
              "        const docLinkHtml = 'Like what you see? Visit the ' +\n",
              "          '<a target=\"_blank\" href=https://colab.research.google.com/notebooks/data_table.ipynb>data table notebook</a>'\n",
              "          + ' to learn more about interactive tables.';\n",
              "        element.innerHTML = '';\n",
              "        dataTable['output_type'] = 'display_data';\n",
              "        await google.colab.output.renderOutput(dataTable, element);\n",
              "        const docLink = document.createElement('div');\n",
              "        docLink.innerHTML = docLinkHtml;\n",
              "        element.appendChild(docLink);\n",
              "      }\n",
              "    </script>\n",
              "  </div>\n",
              "\n",
              "\n",
              "    <div id=\"df-dd028096-f0ea-4a4d-9b2d-de5e268e3832\">\n",
              "      <button class=\"colab-df-quickchart\" onclick=\"quickchart('df-dd028096-f0ea-4a4d-9b2d-de5e268e3832')\"\n",
              "                title=\"Suggest charts\"\n",
              "                style=\"display:none;\">\n",
              "\n",
              "<svg xmlns=\"http://www.w3.org/2000/svg\" height=\"24px\"viewBox=\"0 0 24 24\"\n",
              "     width=\"24px\">\n",
              "    <g>\n",
              "        <path d=\"M19 3H5c-1.1 0-2 .9-2 2v14c0 1.1.9 2 2 2h14c1.1 0 2-.9 2-2V5c0-1.1-.9-2-2-2zM9 17H7v-7h2v7zm4 0h-2V7h2v10zm4 0h-2v-4h2v4z\"/>\n",
              "    </g>\n",
              "</svg>\n",
              "      </button>\n",
              "\n",
              "<style>\n",
              "  .colab-df-quickchart {\n",
              "      --bg-color: #E8F0FE;\n",
              "      --fill-color: #1967D2;\n",
              "      --hover-bg-color: #E2EBFA;\n",
              "      --hover-fill-color: #174EA6;\n",
              "      --disabled-fill-color: #AAA;\n",
              "      --disabled-bg-color: #DDD;\n",
              "  }\n",
              "\n",
              "  [theme=dark] .colab-df-quickchart {\n",
              "      --bg-color: #3B4455;\n",
              "      --fill-color: #D2E3FC;\n",
              "      --hover-bg-color: #434B5C;\n",
              "      --hover-fill-color: #FFFFFF;\n",
              "      --disabled-bg-color: #3B4455;\n",
              "      --disabled-fill-color: #666;\n",
              "  }\n",
              "\n",
              "  .colab-df-quickchart {\n",
              "    background-color: var(--bg-color);\n",
              "    border: none;\n",
              "    border-radius: 50%;\n",
              "    cursor: pointer;\n",
              "    display: none;\n",
              "    fill: var(--fill-color);\n",
              "    height: 32px;\n",
              "    padding: 0;\n",
              "    width: 32px;\n",
              "  }\n",
              "\n",
              "  .colab-df-quickchart:hover {\n",
              "    background-color: var(--hover-bg-color);\n",
              "    box-shadow: 0 1px 2px rgba(60, 64, 67, 0.3), 0 1px 3px 1px rgba(60, 64, 67, 0.15);\n",
              "    fill: var(--button-hover-fill-color);\n",
              "  }\n",
              "\n",
              "  .colab-df-quickchart-complete:disabled,\n",
              "  .colab-df-quickchart-complete:disabled:hover {\n",
              "    background-color: var(--disabled-bg-color);\n",
              "    fill: var(--disabled-fill-color);\n",
              "    box-shadow: none;\n",
              "  }\n",
              "\n",
              "  .colab-df-spinner {\n",
              "    border: 2px solid var(--fill-color);\n",
              "    border-color: transparent;\n",
              "    border-bottom-color: var(--fill-color);\n",
              "    animation:\n",
              "      spin 1s steps(1) infinite;\n",
              "  }\n",
              "\n",
              "  @keyframes spin {\n",
              "    0% {\n",
              "      border-color: transparent;\n",
              "      border-bottom-color: var(--fill-color);\n",
              "      border-left-color: var(--fill-color);\n",
              "    }\n",
              "    20% {\n",
              "      border-color: transparent;\n",
              "      border-left-color: var(--fill-color);\n",
              "      border-top-color: var(--fill-color);\n",
              "    }\n",
              "    30% {\n",
              "      border-color: transparent;\n",
              "      border-left-color: var(--fill-color);\n",
              "      border-top-color: var(--fill-color);\n",
              "      border-right-color: var(--fill-color);\n",
              "    }\n",
              "    40% {\n",
              "      border-color: transparent;\n",
              "      border-right-color: var(--fill-color);\n",
              "      border-top-color: var(--fill-color);\n",
              "    }\n",
              "    60% {\n",
              "      border-color: transparent;\n",
              "      border-right-color: var(--fill-color);\n",
              "    }\n",
              "    80% {\n",
              "      border-color: transparent;\n",
              "      border-right-color: var(--fill-color);\n",
              "      border-bottom-color: var(--fill-color);\n",
              "    }\n",
              "    90% {\n",
              "      border-color: transparent;\n",
              "      border-bottom-color: var(--fill-color);\n",
              "    }\n",
              "  }\n",
              "</style>\n",
              "\n",
              "      <script>\n",
              "        async function quickchart(key) {\n",
              "          const quickchartButtonEl =\n",
              "            document.querySelector('#' + key + ' button');\n",
              "          quickchartButtonEl.disabled = true;  // To prevent multiple clicks.\n",
              "          quickchartButtonEl.classList.add('colab-df-spinner');\n",
              "          try {\n",
              "            const charts = await google.colab.kernel.invokeFunction(\n",
              "                'suggestCharts', [key], {});\n",
              "          } catch (error) {\n",
              "            console.error('Error during call to suggestCharts:', error);\n",
              "          }\n",
              "          quickchartButtonEl.classList.remove('colab-df-spinner');\n",
              "          quickchartButtonEl.classList.add('colab-df-quickchart-complete');\n",
              "        }\n",
              "        (() => {\n",
              "          let quickchartButtonEl =\n",
              "            document.querySelector('#df-dd028096-f0ea-4a4d-9b2d-de5e268e3832 button');\n",
              "          quickchartButtonEl.style.display =\n",
              "            google.colab.kernel.accessAllowed ? 'block' : 'none';\n",
              "        })();\n",
              "      </script>\n",
              "    </div>\n",
              "\n",
              "    </div>\n",
              "  </div>\n"
            ],
            "application/vnd.google.colaboratory.intrinsic+json": {
              "type": "dataframe",
              "variable_name": "df",
              "summary": "{\n  \"name\": \"df\",\n  \"rows\": 28619,\n  \"fields\": [\n    {\n      \"column\": \"headline\",\n      \"properties\": {\n        \"dtype\": \"string\",\n        \"num_unique_values\": 28503,\n        \"samples\": [\n          \"marco rubio nabs his first 2016 win in minnesota gop presidential caucus\",\n          \"oops: hot mic broadcasts al roker going to the bathroom\",\n          \"white house pretty sure uzbekistan diplomat stole a bunch of soap\"\n        ],\n        \"semantic_type\": \"\",\n        \"description\": \"\"\n      }\n    },\n    {\n      \"column\": \"is_sarcastic\",\n      \"properties\": {\n        \"dtype\": \"number\",\n        \"std\": 0,\n        \"min\": 0,\n        \"max\": 1,\n        \"num_unique_values\": 2,\n        \"samples\": [\n          0,\n          1\n        ],\n        \"semantic_type\": \"\",\n        \"description\": \"\"\n      }\n    }\n  ]\n}"
            }
          },
          "metadata": {},
          "execution_count": 10
        }
      ],
      "source": [
        "df.head()"
      ]
    },
    {
      "cell_type": "markdown",
      "id": "cW2hS9InjclF",
      "metadata": {
        "id": "cW2hS9InjclF"
      },
      "source": [
        "## **3.1.2 Data Cleaning and Normalization**"
      ]
    },
    {
      "cell_type": "code",
      "execution_count": null,
      "id": "95dbcb5c1afc0c02",
      "metadata": {
        "id": "95dbcb5c1afc0c02",
        "colab": {
          "base_uri": "https://localhost:8080/"
        },
        "outputId": "de311a38-a8fb-4493-a874-7270afdae49e"
      },
      "outputs": [
        {
          "output_type": "stream",
          "name": "stderr",
          "text": [
            "[nltk_data] Downloading package stopwords to /root/nltk_data...\n",
            "[nltk_data]   Package stopwords is already up-to-date!\n",
            "[nltk_data] Downloading package wordnet to /root/nltk_data...\n",
            "[nltk_data]   Package wordnet is already up-to-date!\n",
            "[nltk_data] Downloading package omw-1.4 to /root/nltk_data...\n"
          ]
        }
      ],
      "source": [
        "import re  # For working with regular expressions (used for finding and replacing patterns in text)\n",
        "import nltk  # Natural Language Toolkit – a library for text processing\n",
        "from nltk.corpus import stopwords  # List of common words like \"the\", \"and\", etc., that we want to remove\n",
        "from nltk.stem import WordNetLemmatizer  # For reducing words to their base form (e.g., \"running\" → \"run\")\n",
        "\n",
        "\n",
        "nltk.download('stopwords')  # Downloads the list of stopwords\n",
        "nltk.download('wordnet')  # Downloads the WordNet dictionary used for lemmatization\n",
        "nltk.download('omw-1.4')  # WordNet's Open Multilingual Wordnet – needed for proper lemmatization\n",
        "\n",
        "\n",
        "slang_dict = {\n",
        "    \"gr8\": \"great\",\n",
        "    \"b4\": \"before\",\n",
        "    \"u\": \"you\",\n",
        "    \"ur\": \"your\",\n",
        "    \"r\": \"are\",\n",
        "    \"lol\": \"laugh\",\n",
        "    \"omg\": \"oh my god\",\n",
        "    \"idk\": \"i do not know\",\n",
        "    \"btw\": \"by the way\"\n",
        "}\n",
        "\n",
        "def preprocess_text(text):\n",
        "    contractions = {\n",
        "        \"won't\": \"will not\", \"can't\": \"can not\",\n",
        "        \"n't\": \" not\", \"'re\": \" are\", \"'s\": \" is\",\n",
        "        \"'d\": \" would\", \"'ll\": \" will\", \"'t\": \" not\",\n",
        "        \"'ve\": \" have\", \"'m\": \" am\"\n",
        "    }\n",
        "\n",
        "    for pattern, repl in contractions.items():\n",
        "        text = re.sub(pattern, repl, text)\n",
        "\n",
        "    text = re.sub(r'\\buser\\w*\\b', '', text, flags=re.IGNORECASE)\n",
        "\n",
        "    text = text.lower()\n",
        "\n",
        "    for slang, full in slang_dict.items():\n",
        "        text = re.sub(r'\\b' + re.escape(slang) + r'\\b', full, text)\n",
        "\n",
        "    text = re.sub(r'http\\S+|www\\S+', '', text)\n",
        "    text = re.sub(r'[@#]', '', text)\n",
        "\n",
        "    emoji_pattern = re.compile(\"[\"\n",
        "        u\"\\U0001F600-\\U0001F64F\"\n",
        "        u\"\\U0001F300-\\U0001F5FF\"\n",
        "        u\"\\U0001F680-\\U0001F6FF\"\n",
        "        u\"\\U0001F1E0-\\U0001F1FF\"\n",
        "        u\"\\U00002702-\\U000027B0\"\n",
        "        u\"\\U000024C2-\\U0001F251\"\n",
        "        \"]+\", flags=re.UNICODE)\n",
        "    text = emoji_pattern.sub(' ', text)\n",
        "\n",
        "    text = re.sub(r'[^\\w\\s]', '', text)\n",
        "\n",
        "    text = re.sub(r'[^a-zA-Z\\s]', '', text)\n",
        "\n",
        "    stop_words = set(stopwords.words('english'))\n",
        "    lemmatizer = WordNetLemmatizer()\n",
        "    tokens = text.split()\n",
        "    tokens = [lemmatizer.lemmatize(word) for word in tokens if word not in stop_words]\n",
        "\n",
        "    return ' '.join(tokens)\n"
      ]
    },
    {
      "cell_type": "code",
      "execution_count": null,
      "id": "3d6154fe534c42bc",
      "metadata": {
        "id": "3d6154fe534c42bc"
      },
      "outputs": [],
      "source": [
        "df['cleaned_headline'] = df['headline'].apply(preprocess_text)"
      ]
    },
    {
      "cell_type": "code",
      "execution_count": null,
      "id": "30a164e4d61c9355",
      "metadata": {
        "id": "30a164e4d61c9355",
        "colab": {
          "base_uri": "https://localhost:8080/",
          "height": 352
        },
        "outputId": "d3e0c3c1-3f3d-4e77-9e07-0318e42b75cf"
      },
      "outputs": [
        {
          "output_type": "execute_result",
          "data": {
            "text/plain": [
              "                                                headline  is_sarcastic  \\\n",
              "0      thirtysomething scientists unveil doomsday clo...             1   \n",
              "1      dem rep. totally nails why congress is falling...             0   \n",
              "2      eat your veggies: 9 deliciously different recipes             0   \n",
              "3      inclement weather prevents liar from getting t...             1   \n",
              "4      mother comes pretty close to using word 'strea...             1   \n",
              "...                                                  ...           ...   \n",
              "28614       jews to celebrate rosh hashasha or something             1   \n",
              "28615  internal affairs investigator disappointed con...             1   \n",
              "28616  the most beautiful acceptance speech this week...             0   \n",
              "28617  mars probe destroyed by orbiting spielberg-gat...             1   \n",
              "28618                 dad clarifies this not a food stop             1   \n",
              "\n",
              "                                        cleaned_headline  \n",
              "0      thirtysomething scientist unveil doomsday cloc...  \n",
              "1      dem rep totally nail congress falling short ge...  \n",
              "2                eat veggie deliciously different recipe  \n",
              "3           inclement weather prevents liar getting work  \n",
              "4      mother come pretty close using word istreaming...  \n",
              "...                                                  ...  \n",
              "28614              jew celebrate rosh hashasha something  \n",
              "28615  internal affair investigator disappointed cons...  \n",
              "28616  beautiful acceptance speech week came queer ko...  \n",
              "28617  mar probe destroyed orbiting spielberggates sp...  \n",
              "28618                            dad clarifies food stop  \n",
              "\n",
              "[28619 rows x 3 columns]"
            ],
            "text/html": [
              "\n",
              "  <div id=\"df-a1371a41-21d4-4181-b243-9ff8458b987c\" class=\"colab-df-container\">\n",
              "    <div>\n",
              "<style scoped>\n",
              "    .dataframe tbody tr th:only-of-type {\n",
              "        vertical-align: middle;\n",
              "    }\n",
              "\n",
              "    .dataframe tbody tr th {\n",
              "        vertical-align: top;\n",
              "    }\n",
              "\n",
              "    .dataframe thead th {\n",
              "        text-align: right;\n",
              "    }\n",
              "</style>\n",
              "<table border=\"1\" class=\"dataframe\">\n",
              "  <thead>\n",
              "    <tr style=\"text-align: right;\">\n",
              "      <th></th>\n",
              "      <th>headline</th>\n",
              "      <th>is_sarcastic</th>\n",
              "      <th>cleaned_headline</th>\n",
              "    </tr>\n",
              "  </thead>\n",
              "  <tbody>\n",
              "    <tr>\n",
              "      <th>0</th>\n",
              "      <td>thirtysomething scientists unveil doomsday clo...</td>\n",
              "      <td>1</td>\n",
              "      <td>thirtysomething scientist unveil doomsday cloc...</td>\n",
              "    </tr>\n",
              "    <tr>\n",
              "      <th>1</th>\n",
              "      <td>dem rep. totally nails why congress is falling...</td>\n",
              "      <td>0</td>\n",
              "      <td>dem rep totally nail congress falling short ge...</td>\n",
              "    </tr>\n",
              "    <tr>\n",
              "      <th>2</th>\n",
              "      <td>eat your veggies: 9 deliciously different recipes</td>\n",
              "      <td>0</td>\n",
              "      <td>eat veggie deliciously different recipe</td>\n",
              "    </tr>\n",
              "    <tr>\n",
              "      <th>3</th>\n",
              "      <td>inclement weather prevents liar from getting t...</td>\n",
              "      <td>1</td>\n",
              "      <td>inclement weather prevents liar getting work</td>\n",
              "    </tr>\n",
              "    <tr>\n",
              "      <th>4</th>\n",
              "      <td>mother comes pretty close to using word 'strea...</td>\n",
              "      <td>1</td>\n",
              "      <td>mother come pretty close using word istreaming...</td>\n",
              "    </tr>\n",
              "    <tr>\n",
              "      <th>...</th>\n",
              "      <td>...</td>\n",
              "      <td>...</td>\n",
              "      <td>...</td>\n",
              "    </tr>\n",
              "    <tr>\n",
              "      <th>28614</th>\n",
              "      <td>jews to celebrate rosh hashasha or something</td>\n",
              "      <td>1</td>\n",
              "      <td>jew celebrate rosh hashasha something</td>\n",
              "    </tr>\n",
              "    <tr>\n",
              "      <th>28615</th>\n",
              "      <td>internal affairs investigator disappointed con...</td>\n",
              "      <td>1</td>\n",
              "      <td>internal affair investigator disappointed cons...</td>\n",
              "    </tr>\n",
              "    <tr>\n",
              "      <th>28616</th>\n",
              "      <td>the most beautiful acceptance speech this week...</td>\n",
              "      <td>0</td>\n",
              "      <td>beautiful acceptance speech week came queer ko...</td>\n",
              "    </tr>\n",
              "    <tr>\n",
              "      <th>28617</th>\n",
              "      <td>mars probe destroyed by orbiting spielberg-gat...</td>\n",
              "      <td>1</td>\n",
              "      <td>mar probe destroyed orbiting spielberggates sp...</td>\n",
              "    </tr>\n",
              "    <tr>\n",
              "      <th>28618</th>\n",
              "      <td>dad clarifies this not a food stop</td>\n",
              "      <td>1</td>\n",
              "      <td>dad clarifies food stop</td>\n",
              "    </tr>\n",
              "  </tbody>\n",
              "</table>\n",
              "<p>28619 rows × 3 columns</p>\n",
              "</div>\n",
              "    <div class=\"colab-df-buttons\">\n",
              "\n",
              "  <div class=\"colab-df-container\">\n",
              "    <button class=\"colab-df-convert\" onclick=\"convertToInteractive('df-a1371a41-21d4-4181-b243-9ff8458b987c')\"\n",
              "            title=\"Convert this dataframe to an interactive table.\"\n",
              "            style=\"display:none;\">\n",
              "\n",
              "  <svg xmlns=\"http://www.w3.org/2000/svg\" height=\"24px\" viewBox=\"0 -960 960 960\">\n",
              "    <path d=\"M120-120v-720h720v720H120Zm60-500h600v-160H180v160Zm220 220h160v-160H400v160Zm0 220h160v-160H400v160ZM180-400h160v-160H180v160Zm440 0h160v-160H620v160ZM180-180h160v-160H180v160Zm440 0h160v-160H620v160Z\"/>\n",
              "  </svg>\n",
              "    </button>\n",
              "\n",
              "  <style>\n",
              "    .colab-df-container {\n",
              "      display:flex;\n",
              "      gap: 12px;\n",
              "    }\n",
              "\n",
              "    .colab-df-convert {\n",
              "      background-color: #E8F0FE;\n",
              "      border: none;\n",
              "      border-radius: 50%;\n",
              "      cursor: pointer;\n",
              "      display: none;\n",
              "      fill: #1967D2;\n",
              "      height: 32px;\n",
              "      padding: 0 0 0 0;\n",
              "      width: 32px;\n",
              "    }\n",
              "\n",
              "    .colab-df-convert:hover {\n",
              "      background-color: #E2EBFA;\n",
              "      box-shadow: 0px 1px 2px rgba(60, 64, 67, 0.3), 0px 1px 3px 1px rgba(60, 64, 67, 0.15);\n",
              "      fill: #174EA6;\n",
              "    }\n",
              "\n",
              "    .colab-df-buttons div {\n",
              "      margin-bottom: 4px;\n",
              "    }\n",
              "\n",
              "    [theme=dark] .colab-df-convert {\n",
              "      background-color: #3B4455;\n",
              "      fill: #D2E3FC;\n",
              "    }\n",
              "\n",
              "    [theme=dark] .colab-df-convert:hover {\n",
              "      background-color: #434B5C;\n",
              "      box-shadow: 0px 1px 3px 1px rgba(0, 0, 0, 0.15);\n",
              "      filter: drop-shadow(0px 1px 2px rgba(0, 0, 0, 0.3));\n",
              "      fill: #FFFFFF;\n",
              "    }\n",
              "  </style>\n",
              "\n",
              "    <script>\n",
              "      const buttonEl =\n",
              "        document.querySelector('#df-a1371a41-21d4-4181-b243-9ff8458b987c button.colab-df-convert');\n",
              "      buttonEl.style.display =\n",
              "        google.colab.kernel.accessAllowed ? 'block' : 'none';\n",
              "\n",
              "      async function convertToInteractive(key) {\n",
              "        const element = document.querySelector('#df-a1371a41-21d4-4181-b243-9ff8458b987c');\n",
              "        const dataTable =\n",
              "          await google.colab.kernel.invokeFunction('convertToInteractive',\n",
              "                                                    [key], {});\n",
              "        if (!dataTable) return;\n",
              "\n",
              "        const docLinkHtml = 'Like what you see? Visit the ' +\n",
              "          '<a target=\"_blank\" href=https://colab.research.google.com/notebooks/data_table.ipynb>data table notebook</a>'\n",
              "          + ' to learn more about interactive tables.';\n",
              "        element.innerHTML = '';\n",
              "        dataTable['output_type'] = 'display_data';\n",
              "        await google.colab.output.renderOutput(dataTable, element);\n",
              "        const docLink = document.createElement('div');\n",
              "        docLink.innerHTML = docLinkHtml;\n",
              "        element.appendChild(docLink);\n",
              "      }\n",
              "    </script>\n",
              "  </div>\n",
              "\n",
              "\n",
              "    <div id=\"df-469921f4-e32f-44a1-9b8f-505f55f8375b\">\n",
              "      <button class=\"colab-df-quickchart\" onclick=\"quickchart('df-469921f4-e32f-44a1-9b8f-505f55f8375b')\"\n",
              "                title=\"Suggest charts\"\n",
              "                style=\"display:none;\">\n",
              "\n",
              "<svg xmlns=\"http://www.w3.org/2000/svg\" height=\"24px\"viewBox=\"0 0 24 24\"\n",
              "     width=\"24px\">\n",
              "    <g>\n",
              "        <path d=\"M19 3H5c-1.1 0-2 .9-2 2v14c0 1.1.9 2 2 2h14c1.1 0 2-.9 2-2V5c0-1.1-.9-2-2-2zM9 17H7v-7h2v7zm4 0h-2V7h2v10zm4 0h-2v-4h2v4z\"/>\n",
              "    </g>\n",
              "</svg>\n",
              "      </button>\n",
              "\n",
              "<style>\n",
              "  .colab-df-quickchart {\n",
              "      --bg-color: #E8F0FE;\n",
              "      --fill-color: #1967D2;\n",
              "      --hover-bg-color: #E2EBFA;\n",
              "      --hover-fill-color: #174EA6;\n",
              "      --disabled-fill-color: #AAA;\n",
              "      --disabled-bg-color: #DDD;\n",
              "  }\n",
              "\n",
              "  [theme=dark] .colab-df-quickchart {\n",
              "      --bg-color: #3B4455;\n",
              "      --fill-color: #D2E3FC;\n",
              "      --hover-bg-color: #434B5C;\n",
              "      --hover-fill-color: #FFFFFF;\n",
              "      --disabled-bg-color: #3B4455;\n",
              "      --disabled-fill-color: #666;\n",
              "  }\n",
              "\n",
              "  .colab-df-quickchart {\n",
              "    background-color: var(--bg-color);\n",
              "    border: none;\n",
              "    border-radius: 50%;\n",
              "    cursor: pointer;\n",
              "    display: none;\n",
              "    fill: var(--fill-color);\n",
              "    height: 32px;\n",
              "    padding: 0;\n",
              "    width: 32px;\n",
              "  }\n",
              "\n",
              "  .colab-df-quickchart:hover {\n",
              "    background-color: var(--hover-bg-color);\n",
              "    box-shadow: 0 1px 2px rgba(60, 64, 67, 0.3), 0 1px 3px 1px rgba(60, 64, 67, 0.15);\n",
              "    fill: var(--button-hover-fill-color);\n",
              "  }\n",
              "\n",
              "  .colab-df-quickchart-complete:disabled,\n",
              "  .colab-df-quickchart-complete:disabled:hover {\n",
              "    background-color: var(--disabled-bg-color);\n",
              "    fill: var(--disabled-fill-color);\n",
              "    box-shadow: none;\n",
              "  }\n",
              "\n",
              "  .colab-df-spinner {\n",
              "    border: 2px solid var(--fill-color);\n",
              "    border-color: transparent;\n",
              "    border-bottom-color: var(--fill-color);\n",
              "    animation:\n",
              "      spin 1s steps(1) infinite;\n",
              "  }\n",
              "\n",
              "  @keyframes spin {\n",
              "    0% {\n",
              "      border-color: transparent;\n",
              "      border-bottom-color: var(--fill-color);\n",
              "      border-left-color: var(--fill-color);\n",
              "    }\n",
              "    20% {\n",
              "      border-color: transparent;\n",
              "      border-left-color: var(--fill-color);\n",
              "      border-top-color: var(--fill-color);\n",
              "    }\n",
              "    30% {\n",
              "      border-color: transparent;\n",
              "      border-left-color: var(--fill-color);\n",
              "      border-top-color: var(--fill-color);\n",
              "      border-right-color: var(--fill-color);\n",
              "    }\n",
              "    40% {\n",
              "      border-color: transparent;\n",
              "      border-right-color: var(--fill-color);\n",
              "      border-top-color: var(--fill-color);\n",
              "    }\n",
              "    60% {\n",
              "      border-color: transparent;\n",
              "      border-right-color: var(--fill-color);\n",
              "    }\n",
              "    80% {\n",
              "      border-color: transparent;\n",
              "      border-right-color: var(--fill-color);\n",
              "      border-bottom-color: var(--fill-color);\n",
              "    }\n",
              "    90% {\n",
              "      border-color: transparent;\n",
              "      border-bottom-color: var(--fill-color);\n",
              "    }\n",
              "  }\n",
              "</style>\n",
              "\n",
              "      <script>\n",
              "        async function quickchart(key) {\n",
              "          const quickchartButtonEl =\n",
              "            document.querySelector('#' + key + ' button');\n",
              "          quickchartButtonEl.disabled = true;  // To prevent multiple clicks.\n",
              "          quickchartButtonEl.classList.add('colab-df-spinner');\n",
              "          try {\n",
              "            const charts = await google.colab.kernel.invokeFunction(\n",
              "                'suggestCharts', [key], {});\n",
              "          } catch (error) {\n",
              "            console.error('Error during call to suggestCharts:', error);\n",
              "          }\n",
              "          quickchartButtonEl.classList.remove('colab-df-spinner');\n",
              "          quickchartButtonEl.classList.add('colab-df-quickchart-complete');\n",
              "        }\n",
              "        (() => {\n",
              "          let quickchartButtonEl =\n",
              "            document.querySelector('#df-469921f4-e32f-44a1-9b8f-505f55f8375b button');\n",
              "          quickchartButtonEl.style.display =\n",
              "            google.colab.kernel.accessAllowed ? 'block' : 'none';\n",
              "        })();\n",
              "      </script>\n",
              "    </div>\n",
              "\n",
              "  <div id=\"id_d062fc9b-3faa-4969-959a-2c05fc44f876\">\n",
              "    <style>\n",
              "      .colab-df-generate {\n",
              "        background-color: #E8F0FE;\n",
              "        border: none;\n",
              "        border-radius: 50%;\n",
              "        cursor: pointer;\n",
              "        display: none;\n",
              "        fill: #1967D2;\n",
              "        height: 32px;\n",
              "        padding: 0 0 0 0;\n",
              "        width: 32px;\n",
              "      }\n",
              "\n",
              "      .colab-df-generate:hover {\n",
              "        background-color: #E2EBFA;\n",
              "        box-shadow: 0px 1px 2px rgba(60, 64, 67, 0.3), 0px 1px 3px 1px rgba(60, 64, 67, 0.15);\n",
              "        fill: #174EA6;\n",
              "      }\n",
              "\n",
              "      [theme=dark] .colab-df-generate {\n",
              "        background-color: #3B4455;\n",
              "        fill: #D2E3FC;\n",
              "      }\n",
              "\n",
              "      [theme=dark] .colab-df-generate:hover {\n",
              "        background-color: #434B5C;\n",
              "        box-shadow: 0px 1px 3px 1px rgba(0, 0, 0, 0.15);\n",
              "        filter: drop-shadow(0px 1px 2px rgba(0, 0, 0, 0.3));\n",
              "        fill: #FFFFFF;\n",
              "      }\n",
              "    </style>\n",
              "    <button class=\"colab-df-generate\" onclick=\"generateWithVariable('df')\"\n",
              "            title=\"Generate code using this dataframe.\"\n",
              "            style=\"display:none;\">\n",
              "\n",
              "  <svg xmlns=\"http://www.w3.org/2000/svg\" height=\"24px\"viewBox=\"0 0 24 24\"\n",
              "       width=\"24px\">\n",
              "    <path d=\"M7,19H8.4L18.45,9,17,7.55,7,17.6ZM5,21V16.75L18.45,3.32a2,2,0,0,1,2.83,0l1.4,1.43a1.91,1.91,0,0,1,.58,1.4,1.91,1.91,0,0,1-.58,1.4L9.25,21ZM18.45,9,17,7.55Zm-12,3A5.31,5.31,0,0,0,4.9,8.1,5.31,5.31,0,0,0,1,6.5,5.31,5.31,0,0,0,4.9,4.9,5.31,5.31,0,0,0,6.5,1,5.31,5.31,0,0,0,8.1,4.9,5.31,5.31,0,0,0,12,6.5,5.46,5.46,0,0,0,6.5,12Z\"/>\n",
              "  </svg>\n",
              "    </button>\n",
              "    <script>\n",
              "      (() => {\n",
              "      const buttonEl =\n",
              "        document.querySelector('#id_d062fc9b-3faa-4969-959a-2c05fc44f876 button.colab-df-generate');\n",
              "      buttonEl.style.display =\n",
              "        google.colab.kernel.accessAllowed ? 'block' : 'none';\n",
              "\n",
              "      buttonEl.onclick = () => {\n",
              "        google.colab.notebook.generateWithVariable('df');\n",
              "      }\n",
              "      })();\n",
              "    </script>\n",
              "  </div>\n",
              "\n",
              "    </div>\n",
              "  </div>\n"
            ],
            "application/vnd.google.colaboratory.intrinsic+json": {
              "type": "dataframe",
              "variable_name": "df",
              "summary": "{\n  \"name\": \"df\",\n  \"rows\": 28619,\n  \"fields\": [\n    {\n      \"column\": \"headline\",\n      \"properties\": {\n        \"dtype\": \"string\",\n        \"num_unique_values\": 28503,\n        \"samples\": [\n          \"marco rubio nabs his first 2016 win in minnesota gop presidential caucus\",\n          \"oops: hot mic broadcasts al roker going to the bathroom\",\n          \"white house pretty sure uzbekistan diplomat stole a bunch of soap\"\n        ],\n        \"semantic_type\": \"\",\n        \"description\": \"\"\n      }\n    },\n    {\n      \"column\": \"is_sarcastic\",\n      \"properties\": {\n        \"dtype\": \"number\",\n        \"std\": 0,\n        \"min\": 0,\n        \"max\": 1,\n        \"num_unique_values\": 2,\n        \"samples\": [\n          0,\n          1\n        ],\n        \"semantic_type\": \"\",\n        \"description\": \"\"\n      }\n    },\n    {\n      \"column\": \"cleaned_headline\",\n      \"properties\": {\n        \"dtype\": \"string\",\n        \"num_unique_values\": 28473,\n        \"samples\": [\n          \"conversation woman everywhere need stop\",\n          \"city baltimore targeting young professional new get used campaign\"\n        ],\n        \"semantic_type\": \"\",\n        \"description\": \"\"\n      }\n    }\n  ]\n}"
            }
          },
          "metadata": {},
          "execution_count": 13
        }
      ],
      "source": [
        "df"
      ]
    },
    {
      "cell_type": "markdown",
      "id": "kKavZo77kY6N",
      "metadata": {
        "id": "kKavZo77kY6N"
      },
      "source": [
        "## **3.1.3 Visualize the cleaned data**"
      ]
    },
    {
      "cell_type": "code",
      "execution_count": null,
      "id": "f7f9d8307fa96d4c",
      "metadata": {
        "id": "f7f9d8307fa96d4c",
        "colab": {
          "base_uri": "https://localhost:8080/",
          "height": 317
        },
        "outputId": "ccbc51b9-1381-4b3e-ff1f-fb75a26da0a7"
      },
      "outputs": [
        {
          "output_type": "display_data",
          "data": {
            "text/plain": [
              "<Figure size 1000x600 with 1 Axes>"
            ],
            "image/png": "[encoded data removed]"
          },
          "metadata": {}
        }
      ],
      "source": [
        "from wordcloud import WordCloud # This helps us generate a visual image of the most frequent words\n",
        "\n",
        "import matplotlib.pyplot as plt# Importing matplotlib to help us display the image\n",
        "\n",
        "\n",
        "# Joining all the cleaned headlines into a single string separated by spaces\n",
        "\n",
        "\n",
        "all_words = ' '.join(df['cleaned_headline'])\n",
        "\n",
        "wordcloud = WordCloud(\n",
        "    width=300,\n",
        "    height=100,\n",
        "    background_color='white',\n",
        "    max_words=100\n",
        ").generate(all_words)\n",
        "\n",
        "plt.figure(figsize=(10, 6))\n",
        "plt.imshow(wordcloud, interpolation='bilinear')\n",
        "plt.axis('off')\n",
        "plt.title('Top 100 Most Frequent Words')\n",
        "plt.show()"
      ]
    },
    {
      "cell_type": "markdown",
      "id": "qHBlfSdikhPV",
      "metadata": {
        "id": "qHBlfSdikhPV"
      },
      "source": [
        "## **3.1.4 Train Test Split**"
      ]
    },
    {
      "cell_type": "code",
      "execution_count": null,
      "id": "c18b91fdbde8ed4",
      "metadata": {
        "id": "c18b91fdbde8ed4"
      },
      "outputs": [],
      "source": [
        "from sklearn.model_selection import train_test_split\n",
        "\n",
        "X_train, X_test, y_train, y_test = train_test_split(\n",
        "    df['cleaned_headline'],\n",
        "    df['is_sarcastic'],\n",
        "    test_size=0.2,\n",
        "    random_state=42\n",
        ")"
      ]
    },
    {
      "cell_type": "markdown",
      "id": "HTBmVYHzkqVl",
      "metadata": {
        "id": "HTBmVYHzkqVl"
      },
      "source": [
        "## **3.1.5 Tokenization and Padding**"
      ]
    },
    {
      "cell_type": "code",
      "execution_count": null,
      "id": "9ae54758c5baed54",
      "metadata": {
        "id": "9ae54758c5baed54"
      },
      "outputs": [],
      "source": [
        "from tensorflow.keras.preprocessing.text import Tokenizer\n",
        "from tensorflow.keras.preprocessing.sequence import pad_sequences\n",
        "# Creating the Tokenizer object\n",
        "\n",
        "tokenizer = Tokenizer(num_words=10000, oov_token='<OOV>')\n",
        "# Fitting the tokenizer on the training data\n",
        "\n",
        "tokenizer.fit_on_texts(X_train)\n",
        "\n",
        "# Converting the training text into sequences of integers\n",
        "\n",
        "X_train_seq = tokenizer.texts_to_sequences(X_train)\n",
        "# Converting the test text into sequences using the same tokenizer\n",
        "\n",
        "X_test_seq = tokenizer.texts_to_sequences(X_test)"
      ]
    },
    {
      "cell_type": "code",
      "execution_count": null,
      "id": "EnmxT_xWsEWd",
      "metadata": {
        "id": "EnmxT_xWsEWd",
        "colab": {
          "base_uri": "https://localhost:8080/"
        },
        "outputId": "714273b1-4c31-4c09-bc0f-18356e30081f"
      },
      "outputs": [
        {
          "output_type": "execute_result",
          "data": {
            "text/plain": [
              "[[2, 60, 188, 604, 22, 4186, 10, 1380],\n",
              " [3113, 62, 1380, 1319, 112, 171, 56, 3114, 4757, 518],\n",
              " [4758, 1505, 42, 455, 227],\n",
              " [380, 1717, 767, 2691, 6633, 2876],\n",
              " [4759, 199, 113, 319, 768, 456, 19, 113, 300],\n",
              " [6634, 3740, 6635, 5500, 1718, 1031, 3411, 1719, 3741, 1075, 769],\n",
              " [157, 5501, 1, 1124, 3742, 1642],\n",
              " [1320, 743, 18, 2, 1, 90, 184],\n",
              " [6636, 1381, 4760, 2493, 3115],\n",
              " [1914, 11, 64, 770, 152, 36, 820, 1720, 8433],\n",
              " [6637, 4761, 2494, 1, 3116, 2319],\n",
              " [6638, 5502, 5503, 1261, 1262, 4187, 1124],\n",
              " [1458, 1506, 242, 49, 97, 998, 289, 93],\n",
              " [412, 1076, 250, 623, 3743, 2320],\n",
              " [340, 3117, 3744, 353, 132, 6639, 1032],\n",
              " [444, 1382, 573, 1033, 3745, 1212, 1507, 273, 1570, 847],\n",
              " [3746, 30, 232, 4188, 3118, 1, 1],\n",
              " [3747, 8434, 1721, 664, 8435, 1, 5504, 8436, 445],\n",
              " [1383, 1915, 5505, 519, 1263, 1722],\n",
              " [17, 1262, 8437, 520],\n",
              " [4762, 999, 2692, 1, 5506, 1, 413],\n",
              " [3412, 23, 2321, 446, 8438, 46, 19, 472, 1213],\n",
              " [19, 5507, 235],\n",
              " [2693, 91, 2, 357, 1571, 2694, 5, 767],\n",
              " [49, 80, 27, 1508, 381, 721, 135, 43],\n",
              " [1509, 8439, 2877, 588, 420, 4189],\n",
              " [1643, 4763, 57, 925, 2322, 1384],\n",
              " [1723, 1, 6640, 8440, 1, 4190],\n",
              " [1034, 117, 44, 2695, 4191, 124, 548, 57],\n",
              " [1, 2163, 6, 557, 4192, 6, 2164, 400, 4764],\n",
              " [341, 1214, 1264, 2026, 2495],\n",
              " [705, 243, 92, 2878, 2027, 139],\n",
              " [1815, 6641, 168],\n",
              " [489, 298, 6, 2496, 2497, 4765, 238],\n",
              " [5508, 382],\n",
              " [21, 1, 269, 3119],\n",
              " [489, 926, 77, 486, 1816, 2879, 574, 665, 145, 969],\n",
              " [117, 429, 5509, 430],\n",
              " [36, 1572, 393, 10, 184, 80, 2165, 23],\n",
              " [1, 4, 383, 8441, 206, 6642, 1035, 1, 1],\n",
              " [8442, 5, 1215, 90, 184, 1, 6643, 87, 722],\n",
              " [2166, 886, 1573, 2, 280, 37, 605, 1, 4766, 1265, 199],\n",
              " [848, 5510, 347, 624, 206, 4193, 401, 6644],\n",
              " [3748, 171, 1385, 31, 3748, 382, 171, 1385, 31],\n",
              " [558, 771, 3413, 927, 647, 1],\n",
              " [3120, 3121, 705, 1381, 202, 67, 606],\n",
              " [331, 6645, 3414, 348, 6646, 8443, 431, 1266, 1],\n",
              " [2167, 40, 821, 501, 535, 128],\n",
              " [15, 2028, 8, 683],\n",
              " [6647, 1574, 63, 2168, 1, 46, 3749, 5511],\n",
              " [3415, 207, 74, 1, 98],\n",
              " [349, 225, 28, 3122, 2498, 402, 421],\n",
              " [1125, 2, 1000, 78, 928, 2169, 2170, 6648],\n",
              " [2323, 251, 365, 141, 350, 1212, 970, 94, 17],\n",
              " [98, 28, 161, 4194, 1, 1, 2880, 1077, 158, 1575],\n",
              " [1267, 306, 5512, 1163, 3750, 1916, 6649],\n",
              " [3123, 2696, 3751, 1, 4195],\n",
              " [69, 28, 5513, 2881, 394, 2499],\n",
              " [45, 4759, 44, 1268, 2882, 6650, 2169],\n",
              " [13, 1917, 2324, 1126],\n",
              " [342, 1510, 2494, 4767, 822],\n",
              " [3, 6651, 3124, 1817, 106, 430],\n",
              " [53, 1509, 1511, 65, 6652],\n",
              " [5514, 1, 42, 1, 1386, 3, 13],\n",
              " [3123, 2696, 8444, 1, 463, 207],\n",
              " [85, 38, 8445, 1644, 258, 3125],\n",
              " [502, 146, 823, 1724, 258, 127],\n",
              " [1127,\n",
              "  2171,\n",
              "  536,\n",
              "  969,\n",
              "  4196,\n",
              "  299,\n",
              "  1576,\n",
              "  1818,\n",
              "  705,\n",
              "  3752,\n",
              "  162,\n",
              "  519,\n",
              "  1128,\n",
              "  40,\n",
              "  5515],\n",
              " [3126, 3127, 2697, 1, 1036, 27, 4197, 280, 3753, 1],\n",
              " [1, 1819, 348],\n",
              " [1, 1, 4198, 849, 75, 767, 1, 10, 311, 6653, 575],\n",
              " [5516, 4768, 290, 384, 83, 2325, 683, 5517, 1164],\n",
              " [4199, 124, 589, 8446, 9, 51, 490],\n",
              " [3128, 2326, 43, 6, 1, 4],\n",
              " [18, 2, 929, 503, 887, 4200, 850, 312, 169],\n",
              " [5, 208, 824, 1078, 2698, 607, 2029],\n",
              " [2883, 1216, 521, 1459, 393, 2],\n",
              " [723, 2172, 4201, 1918, 270, 219, 4202, 1217, 1512],\n",
              " [300, 3129, 2, 590, 559, 3754, 3130, 45, 220],\n",
              " [3755, 4769, 825, 2327, 1, 252, 3756, 2173, 385],\n",
              " [29, 26, 2884, 4770, 113, 319, 366, 648, 233, 772, 20, 1, 1],\n",
              " [20, 1218, 1725, 300, 1820, 3131, 3416],\n",
              " [3, 99, 706, 4203, 215, 10],\n",
              " [422, 142, 1269, 219, 6654, 2328, 1726, 1],\n",
              " [79, 1, 6655, 327, 194, 2030, 970],\n",
              " [1, 354, 1387],\n",
              " [52, 5518, 121, 8447, 176, 8448, 1],\n",
              " [5519, 54, 86, 4204, 403],\n",
              " [349, 225, 281, 707, 1321, 367, 68, 666, 238, 2031, 6656, 1, 3132],\n",
              " [1, 1, 5520, 1388, 1270, 358, 1727, 591],\n",
              " [47, 1645, 2174, 49, 1, 282, 1322],\n",
              " [8449, 4771, 1323, 825, 473],\n",
              " [1, 1, 8450, 1],\n",
              " [2885, 1, 199, 8451, 1324, 116],\n",
              " [588, 271, 1, 1577, 1646],\n",
              " [4, 354, 98, 5521, 1, 2886, 53],\n",
              " [548, 199, 77, 1034, 117, 70, 386, 204, 127, 139],\n",
              " [444, 1647, 365, 3750, 4772, 1, 3133, 504, 4205, 1219],\n",
              " [4206, 2699, 155, 708, 6657, 1271, 8452, 463, 200],\n",
              " [2032, 3417, 4773, 185, 505],\n",
              " [1, 262, 44, 724, 6658],\n",
              " [592, 163, 83, 1389, 1325],\n",
              " [209, 1262, 144, 12, 152, 75, 1079],\n",
              " [17, 6659, 971, 320, 3, 522, 2175, 109],\n",
              " [1, 6660, 8453, 291, 1821, 684, 164, 1, 195, 1323, 464],\n",
              " [2329, 2700, 4774, 82, 2330, 1, 1129, 6661, 1],\n",
              " [649, 445, 2176, 401, 724, 650],\n",
              " [8454, 1919, 725, 3418, 3419, 2500, 537, 1130, 2177],\n",
              " [3, 8455, 744, 2701, 2702, 1648, 4775, 16, 3757, 744],\n",
              " [1272, 41, 826, 2178],\n",
              " [1080, 283, 57, 1220],\n",
              " [972, 1273, 3758, 2, 1, 110, 5522, 3759],\n",
              " [359, 4776, 709, 1325, 6662, 2033, 3760, 8456],\n",
              " [226, 1, 549, 144, 651, 1165, 1166],\n",
              " [4207, 71, 1578, 523, 4208, 59, 4209, 1386, 133],\n",
              " [2, 1, 8457, 265, 3761, 3134, 8458, 745, 301, 1001, 1274],\n",
              " [22, 726, 506, 1081, 1, 708],\n",
              " [82, 22, 401, 88, 1, 5523, 55, 55],\n",
              " [507, 45, 127, 3762, 129, 4210, 1, 2331, 1167, 5524],\n",
              " [4, 1513, 1326, 930, 1327, 1, 11],\n",
              " [727, 1514, 4211, 827, 189, 270, 85, 38],\n",
              " [2332, 1460, 196, 3763, 773, 2501, 2887, 77, 593, 888, 2888, 29, 3135],\n",
              " [4777, 2889, 4, 1461, 502, 1],\n",
              " [8459, 724, 973, 1, 524, 134, 101, 2703, 1221],\n",
              " [360, 1328, 304],\n",
              " [5525, 215, 140, 1222, 1082, 30, 998, 27],\n",
              " [52, 6633, 4778, 6663, 348, 80],\n",
              " [29, 2890, 774, 2891, 608, 274, 8460],\n",
              " [5, 89, 8461, 6664, 746, 1],\n",
              " [25, 6665, 1, 1920, 192, 63, 8462],\n",
              " [3136, 228, 3764, 177, 86, 3420, 5526, 1168, 52],\n",
              " [6666, 609, 1515, 371, 1275, 6667, 1649],\n",
              " [4779, 6668, 6669, 1, 387, 432, 1],\n",
              " [119, 36, 1, 5527],\n",
              " [3, 1002, 2333, 5528, 560, 1728, 321, 147, 210],\n",
              " [508, 8463, 1, 594, 432, 1579, 1822],\n",
              " [48, 32, 13, 8464, 2704, 1169, 8465],\n",
              " [99, 77, 8466, 2034, 306, 2502, 8467],\n",
              " [106, 14, 272, 591, 116],\n",
              " [6670, 3137, 1223, 487, 61, 1729, 372, 3, 190, 1329],\n",
              " [35, 8468, 2179, 3138, 2180, 1650, 2035, 1918, 889],\n",
              " [4, 307, 146, 24, 27, 211, 3765, 610, 667, 3421],\n",
              " [284, 58, 1276, 574, 2892],\n",
              " [433, 1, 321, 1131],\n",
              " [148, 42, 1170, 120, 71, 2036, 3422, 302, 685],\n",
              " [85, 38, 116, 1823, 625, 157, 726, 313, 465],\n",
              " [1, 652, 3423, 747, 1651, 28, 388],\n",
              " [1462, 650],\n",
              " [432, 200, 2168, 14, 2037, 145, 284, 1, 40, 207],\n",
              " [6671, 505, 353, 18, 2, 361, 5529, 6672],\n",
              " [23, 1, 775],\n",
              " [234, 726, 6673, 664, 6674, 6675, 5530, 4212],\n",
              " [1824, 705, 223, 4780, 1463],\n",
              " [1921, 253, 211, 488, 161, 4213, 1036, 327],\n",
              " [431, 928, 226, 74, 509, 1, 1, 794],\n",
              " [420, 125, 1652, 5531, 6676, 420, 774, 8469, 8470, 611],\n",
              " [24, 931, 1, 348, 2181, 558, 4214, 927],\n",
              " [15, 4, 134, 164, 1825, 51, 384],\n",
              " [82, 1330, 2893, 525, 8, 1822],\n",
              " [10, 561, 235, 728],\n",
              " [974, 8471, 365, 269, 5532, 170, 1, 526, 2894, 3139, 5533],\n",
              " [152, 46, 19, 472, 2, 58],\n",
              " [343, 1, 414, 538, 292, 150, 828],\n",
              " [2705, 4781, 199, 1168, 3766, 76, 9],\n",
              " [748, 1388, 8472, 8473, 1003, 2038, 5],\n",
              " [18, 5534, 112, 27, 1031, 6677],\n",
              " [8474, 4, 8475, 2503, 2706, 131],\n",
              " [1, 3767, 153, 8476],\n",
              " [5535, 1132, 1390, 1653, 4215, 3768, 890],\n",
              " [15, 6678, 608, 6679, 6680, 404, 1],\n",
              " [225, 6681, 1083, 795, 1131, 85],\n",
              " [191, 8477, 3769, 1730, 197, 612, 1391, 1516, 6],\n",
              " [4216, 932, 2707, 1580, 2504, 1464, 3140],\n",
              " [2, 51, 1133, 891, 51, 148],\n",
              " [35, 1465, 3141, 6682, 1466, 11],\n",
              " [434, 1084, 8478, 1720, 75, 776, 37, 729, 1, 6683],\n",
              " [6684, 19, 1277, 594, 435, 12, 358, 201],\n",
              " [4782, 8479, 14, 1085, 275, 6685],\n",
              " [117, 2039, 770, 3, 1163],\n",
              " [2895, 1, 6, 2896, 359, 414, 2334, 1, 4217, 8480],\n",
              " [45, 220, 773, 1826, 351, 290],\n",
              " [2319, 2505, 176, 107, 1, 168],\n",
              " [508, 1, 777, 1224, 686, 127, 730, 1278, 576, 186],\n",
              " [1331, 4218, 112, 1171, 933, 1, 229, 83, 3, 4190],\n",
              " [4783, 687, 4784, 851, 2506, 164, 1922, 507, 849, 415],\n",
              " [1, 34, 18, 2, 829],\n",
              " [830, 308, 46, 5, 39, 50],\n",
              " [8481, 1581],\n",
              " [125, 203, 142, 101, 43, 1, 2335],\n",
              " [1827, 8482, 8483, 1, 6686],\n",
              " [8484, 8485, 5536],\n",
              " [178, 4785, 1],\n",
              " [152, 13, 430, 1828, 5537, 76, 9],\n",
              " [2507, 2508, 1654, 852, 149, 3770, 1392],\n",
              " [221, 107, 164, 3424, 3142, 127],\n",
              " [4219, 2708, 6687],\n",
              " [1923, 6688],\n",
              " [1467, 1320, 162, 491, 6689, 229, 319],\n",
              " [6690, 8486, 1, 19, 539],\n",
              " [5538, 4786, 3143, 5539, 492],\n",
              " [4, 344, 934, 5540, 710, 283, 134, 2897, 61],\n",
              " [527, 6691, 1393, 7, 3144],\n",
              " [892, 796, 613, 373],\n",
              " [1, 1279, 2182, 126, 1, 3771, 405],\n",
              " [111, 4787, 626, 8487, 831, 8488, 8],\n",
              " [367, 416, 592, 2709],\n",
              " [1225, 3425, 60, 653, 1131, 561, 4],\n",
              " [2, 247, 4220, 19, 83, 447, 8489],\n",
              " [474, 1731, 145, 7, 1004, 4221, 627, 4222],\n",
              " [6692, 361, 778, 466, 8490, 13, 2040, 2509],\n",
              " [932, 393, 4223, 234, 935, 3772],\n",
              " [119, 4, 1517, 76, 9, 2336, 1005],\n",
              " [38, 1518, 1, 244, 8491, 3773, 795, 1519, 447, 1829],\n",
              " [822, 2, 6, 2898, 2710, 1, 3145, 3426, 1582, 368, 44],\n",
              " [797, 27, 4224, 8492, 2183, 186, 27, 14, 688, 68, 30],\n",
              " [8493, 128, 6, 2184, 3427],\n",
              " [332, 1468, 314, 263, 1214, 200],\n",
              " [374, 4225, 134, 8, 123, 798, 1134, 157, 24],\n",
              " [4226, 1, 51, 1],\n",
              " [208, 1037, 78, 8494, 276, 3428],\n",
              " [54, 687, 689, 1520, 540, 1830, 3146, 2041],\n",
              " [5, 709, 2042, 850, 26],\n",
              " [2510, 144, 1031, 2337, 20, 420, 3429],\n",
              " [5541, 1583, 36, 526, 348, 475],\n",
              " [3, 928, 145, 1469, 2043, 1038, 1086, 1, 353, 1087],\n",
              " [233, 37, 2511, 595, 273, 82, 1394],\n",
              " [13, 8495, 202, 1172, 2, 1172, 202],\n",
              " [3147, 1, 1, 11, 893],\n",
              " [50, 4227, 541],\n",
              " [49, 975, 6693, 1, 98, 1280, 1332, 1732, 5542, 266, 16],\n",
              " [6694, 29, 725, 1924, 731, 1, 197, 2026],\n",
              " [1088, 2338, 1281, 5543, 179, 120, 894, 1172],\n",
              " [340, 70, 55],\n",
              " [24, 292, 6695, 1733, 344, 1, 5544],\n",
              " [799, 562, 406, 3430, 54, 142, 628, 2185, 3148, 1925],\n",
              " [3431, 4228, 4788, 8496, 58],\n",
              " [306, 743, 1, 4, 404],\n",
              " [63, 340, 220, 895, 254, 4789, 6696, 2172],\n",
              " [186, 3149, 6697, 36],\n",
              " [888, 2711, 126, 2044, 3774],\n",
              " [510, 668, 2899, 62, 749, 2900, 6698],\n",
              " [403, 331, 3414, 1173, 5545, 1],\n",
              " [17, 4229, 249, 3, 1, 3150],\n",
              " [436, 2186, 277, 476, 528, 1734, 4, 322, 3775],\n",
              " [45, 416, 95, 168, 56],\n",
              " [17, 320, 272, 8497, 165, 2901, 14, 25, 1089, 76, 247],\n",
              " [3776, 1655, 684, 81, 1282, 529, 463],\n",
              " [3151, 1, 4, 95, 3432, 3777, 2902],\n",
              " [463, 1, 609],\n",
              " [2339, 45, 3433, 8498, 100, 2187, 6699],\n",
              " [83, 853, 344, 8499, 215, 195, 1031],\n",
              " [5546, 5547, 2903, 4230, 5548, 1, 896, 519],\n",
              " [2188, 2327, 47, 1521, 3434, 1333, 1090, 98],\n",
              " [3435, 1174, 557, 1, 629, 2189, 216],\n",
              " [1, 6700, 1],\n",
              " [2, 6, 222, 72, 1, 169, 596, 40],\n",
              " [800, 430, 1735, 118, 41, 490],\n",
              " [3152, 510, 668, 2904, 854, 136, 44, 1226],\n",
              " [2190, 8500, 1522],\n",
              " [18, 2, 1031, 3436, 447, 114, 5549, 801, 3437, 976, 333],\n",
              " [6674, 8501, 4, 6642, 4231, 2191, 8502],\n",
              " [3153, 4232, 8503, 1, 1, 477, 8504, 1076, 55, 5550, 4790],\n",
              " [974, 8505, 1334, 267, 1227, 654],\n",
              " [1, 389, 2712, 1, 1],\n",
              " [22, 2892, 4233, 1523, 120, 201, 8506],\n",
              " [4230, 10, 732, 112, 1091, 431, 1, 1335],\n",
              " [3116, 2319, 80, 8507, 169, 3778, 2, 417],\n",
              " [2045, 118, 655, 221, 107, 230, 8, 382, 68, 9],\n",
              " [231, 8508, 15, 1274, 16, 8509],\n",
              " [85, 38, 418, 84, 1831, 1524, 10, 9, 188, 229, 8510, 166],\n",
              " [1736, 2512, 2340, 1, 5551, 506, 1039, 407, 897, 6701],\n",
              " [390, 58, 2513, 1328, 21, 11, 188, 475],\n",
              " [3438, 1, 323, 382, 51, 230, 6702, 779],\n",
              " [5552, 58, 73, 4791, 4234, 936, 1737, 472],\n",
              " [20, 44, 1, 69, 1081, 63, 1584],\n",
              " [2713, 58],\n",
              " [1, 1, 249, 189, 1, 1738],\n",
              " [1040, 1332, 3154, 725, 2714, 2026],\n",
              " [8511, 8512, 4235, 2715, 769, 2905, 25, 266, 16, 171, 1385],\n",
              " [73, 3155, 323, 3156, 3779],\n",
              " [13, 1525, 122, 1656, 28, 1336, 4792, 6703, 43, 3780],\n",
              " [1337, 1338, 1926, 437, 1037, 6704, 467, 4793, 1832],\n",
              " [2172, 2192, 98],\n",
              " [8513, 1, 305, 1228],\n",
              " [48, 32, 21, 19, 1006, 1, 360, 5553, 1, 937, 2172],\n",
              " [1585, 3781, 2193, 938, 226],\n",
              " [1395, 324, 8514, 1461, 27, 750],\n",
              " [5554, 223, 1739, 71, 6705],\n",
              " [8515, 1, 74, 217, 27, 115, 4236],\n",
              " [79, 1163, 4237, 1514, 16, 1396],\n",
              " [4238, 478, 939, 1, 1, 340, 172, 940, 1397, 17, 478, 520],\n",
              " [2194, 2514, 827, 34, 472, 2195],\n",
              " [268, 3782, 412, 5555, 413, 126, 898, 24, 272, 290],\n",
              " [1, 1, 423, 76, 2046, 25],\n",
              " [2515, 669, 1, 127, 371, 1648, 1],\n",
              " [38, 6706, 1, 8516],\n",
              " [1175, 530, 1398, 1, 1657, 4239],\n",
              " [8517, 8518, 3157, 456, 8517, 8518],\n",
              " [3439, 71, 327, 104, 355, 65],\n",
              " [1, 887, 5, 3783],\n",
              " [1470, 255, 1332, 2516, 8519, 630, 468, 606],\n",
              " [7, 13, 4240, 2906, 89, 8520],\n",
              " [770, 1092, 8521, 825, 1927, 5556, 4241, 137],\n",
              " [8522, 1339, 941, 2047, 99, 3158, 1],\n",
              " [79, 293, 1, 574, 8523, 74, 899, 173, 19],\n",
              " [1658, 5557, 3159, 82, 235, 80],\n",
              " [2907, 1, 1586, 2044, 83, 128],\n",
              " [1526, 3, 3784, 1587, 1, 66, 169, 563, 448],\n",
              " [55, 49, 4794, 172],\n",
              " [493, 900, 2517, 926, 438, 1587, 1464, 113],\n",
              " [111, 1086, 855, 75, 670, 3158, 10, 5558],\n",
              " [24, 1659, 123, 15, 4, 176, 4795, 542],\n",
              " [214, 1399, 8524, 1660],\n",
              " [278, 78, 1519, 418, 4796, 1, 2341],\n",
              " [345, 171, 1833, 127, 1163],\n",
              " [180, 282, 4797, 1834, 75],\n",
              " [1740, 3785, 41, 1741, 1, 5559],\n",
              " [2196, 3440, 1659, 1928, 8433, 3786, 3787],\n",
              " [6707, 4242, 6708, 110, 115, 2342, 1835, 64, 1742],\n",
              " [360, 9, 8525, 1228, 14, 3788, 1527],\n",
              " [2901, 120, 148, 42, 291, 1213, 2908, 11],\n",
              " [46, 5, 1222, 29, 5505, 25, 268],\n",
              " [8526, 395, 289, 1041, 2197, 733, 211, 1468],\n",
              " [2343, 1588, 134, 1340, 4, 8, 432, 3441, 3, 23, 2909],\n",
              " [751, 5, 535, 135, 293, 389],\n",
              " [8527, 3160, 1, 1400, 17],\n",
              " [8528, 728, 1, 4798, 1225, 6709, 4799],\n",
              " [15, 5, 80, 37, 146, 124, 1528],\n",
              " [8529, 8530, 1093, 5560, 235, 135, 1836],\n",
              " [5, 8531, 2715, 5561],\n",
              " [1529, 1, 101, 256, 202, 1661, 1580, 1815, 23, 1589, 974, 196, 112, 1269],\n",
              " [4243, 1, 1929, 4, 8, 21, 3442],\n",
              " [1007, 4800, 3789, 5562, 5563, 368, 494, 253, 4244],\n",
              " [1341, 3, 3790],\n",
              " [4, 6710, 2910, 158, 1042, 8532, 73, 1579],\n",
              " [614, 1743, 780, 1471, 1008, 115],\n",
              " [328, 2518, 1, 1, 6711, 6712, 509, 4801, 1744, 1176],\n",
              " [6713, 1229, 10, 597, 1043, 6714, 3140, 11, 2519],\n",
              " [30, 2048, 1590, 495],\n",
              " [18, 2, 114, 37, 1, 1094, 228],\n",
              " [62, 1177, 4, 251, 1009, 2716, 6715, 3791],\n",
              " [474, 5564, 1837, 15, 4, 631, 31],\n",
              " [5565, 132, 5566, 3792, 856, 1, 8533],\n",
              " [1219, 1, 180, 249, 3, 1385, 8534],\n",
              " [212, 439, 1010, 1, 1, 1, 3, 1044, 1530, 2198],\n",
              " [3, 8535, 32, 802, 2911, 1, 131, 2184],\n",
              " [1337, 1338, 6, 3161, 734, 2, 5567, 61, 36],\n",
              " [1, 1, 1458, 4245, 1838, 1394, 1531],\n",
              " [99, 80, 23, 1, 131],\n",
              " [36, 1, 2717, 174, 752, 4, 329, 94],\n",
              " [49, 236, 151, 649, 167, 1, 1745, 2344],\n",
              " [6716, 2345, 14, 1662, 1738, 22, 75, 1045],\n",
              " [100, 2199, 1, 16, 1, 375, 2049, 939],\n",
              " [154, 375, 212, 439, 115, 263, 1],\n",
              " [231, 1230, 21, 230, 2714, 5568, 1388, 1930],\n",
              " [5569, 2912, 271, 12, 2200, 479, 857, 43],\n",
              " [4783, 529, 4208, 1746, 507, 193],\n",
              " [8536, 2911, 8537, 4802, 1, 6, 8538, 227, 4803, 2050],\n",
              " [22, 3443, 2201, 124, 4246, 6717, 408],\n",
              " [2170, 113, 8539],\n",
              " [3793, 1178, 198, 1839, 152, 8540],\n",
              " [13, 2202, 5570, 3794, 174, 6718, 1095, 1468, 71],\n",
              " [4, 2051, 146, 1231, 4247, 4804, 401, 3795, 118, 9],\n",
              " [36, 89, 243, 5571, 1135, 2052],\n",
              " [3162, 7, 76, 216, 301, 3, 1747],\n",
              " [2, 1283, 503, 4805, 23, 8541, 279],\n",
              " [2053, 901, 5572, 690, 89, 3444],\n",
              " [304, 626, 68, 6719, 391, 858],\n",
              " [437, 1037, 8, 3163, 1381, 6720, 208],\n",
              " [361, 384, 1],\n",
              " [3164, 423, 1, 1, 28],\n",
              " [215, 589, 890],\n",
              " [1, 327, 104, 4248, 12, 3445, 625, 40],\n",
              " [1011, 64, 8542, 8543, 84, 686, 286, 217, 247, 1516],\n",
              " [1, 1743, 691, 1646, 4249, 4250],\n",
              " [1748, 942, 1739, 859, 477, 122, 519, 577],\n",
              " [1, 1, 264, 8544, 5573, 970],\n",
              " [49, 1218, 5574, 1046, 4806, 6721, 166],\n",
              " [95, 3796, 359, 299, 1749, 224, 101],\n",
              " [2342, 6722, 1, 215, 772],\n",
              " [1931, 938, 35, 235, 656, 781, 2054, 65],\n",
              " [528, 860, 1, 4251, 2494, 1],\n",
              " [43, 651, 1284, 1584, 828],\n",
              " [1730, 1009, 73, 106, 5575, 4252, 306, 2909, 92],\n",
              " [469, 943, 5576, 1, 105, 480],\n",
              " [1285, 3165, 322, 6723, 564, 2718, 627, 96, 457, 388],\n",
              " [856, 2913, 18, 2, 3166, 632, 1, 803, 102, 3797],\n",
              " [3, 625, 977, 448, 6724, 2346, 4807, 1472, 376],\n",
              " [734, 46, 4, 46, 209],\n",
              " [8545, 3798, 51, 501, 6725, 227],\n",
              " [4253, 3446, 2347, 367, 137, 2520],\n",
              " [4, 565, 1662, 342, 2055, 2348, 3799, 1385],\n",
              " [3426, 6726, 155, 18, 2, 1, 289, 861],\n",
              " [5577, 566, 1928, 1, 8546, 978],\n",
              " [2719, 91, 6727, 5, 3800, 4254, 73, 301, 75],\n",
              " [172, 1932, 823, 1591, 3167, 15, 4, 1398],\n",
              " [5578, 422, 8547, 2349, 2720, 4, 181, 2032],\n",
              " [472, 5579, 2350, 979, 6728, 8548],\n",
              " [6729,\n",
              "  1817,\n",
              "  2914,\n",
              "  10,\n",
              "  147,\n",
              "  3132,\n",
              "  3801,\n",
              "  1179,\n",
              "  550,\n",
              "  1180,\n",
              "  1,\n",
              "  2721,\n",
              "  3168,\n",
              "  2722,\n",
              "  2723],\n",
              " [633, 61, 75, 2915, 95, 89, 1821],\n",
              " [70, 124, 133, 4808],\n",
              " [4255, 6730, 6731, 1047, 1748, 162, 902, 6732, 7, 6733],\n",
              " [862, 414, 77, 1342, 650, 1507, 203, 1645],\n",
              " [30, 1592, 753, 8549, 832],\n",
              " [1343, 5, 263, 156],\n",
              " [10, 754, 259, 3447, 1750, 8547],\n",
              " [389, 2916, 2351, 121, 53],\n",
              " [258, 2724, 149, 129, 944, 8550, 2917, 210, 127],\n",
              " [6734, 5, 755, 72],\n",
              " [2918, 1733, 155, 4809, 754, 1933, 8551, 6735, 1, 3169, 1],\n",
              " [113, 5580, 903, 6736, 564, 144, 2521, 543, 2522],\n",
              " [24, 458, 285, 119, 148, 42, 423, 95, 634],\n",
              " [6737, 4, 171, 690, 1344, 432, 26, 76, 1921],\n",
              " [2516, 28, 8552, 2352, 1012],\n",
              " [25, 80, 2, 6738, 1, 1390, 220],\n",
              " [1516, 904, 5581, 1, 1, 6739, 904],\n",
              " [2203, 30, 72, 152, 615],\n",
              " [29, 6740, 1840, 91, 46, 4, 197, 392, 1401],\n",
              " [8553, 6741, 1841, 6742, 74, 2204, 6743, 8554],\n",
              " [3, 1, 1, 2919, 177],\n",
              " [1724, 258, 4810, 4811, 1593, 3170, 4256],\n",
              " [561, 2523, 1663, 123, 1, 28, 408, 17, 196, 6],\n",
              " [980, 248, 415, 27, 121, 3448, 8555],\n",
              " [8556, 4, 458, 37, 1402, 537, 111, 5582, 63, 6],\n",
              " [8557, 692, 2920, 4257],\n",
              " [1, 1934, 1, 3802, 2725, 1403, 400],\n",
              " [945, 1181, 228, 3764, 2496, 2497, 981],\n",
              " [4, 293, 2915, 1329, 683, 1131, 798],\n",
              " [1, 1, 124],\n",
              " [945, 1181, 334, 2, 1323, 1013, 109, 89, 4812],\n",
              " [1031, 147, 3803, 6744, 4258],\n",
              " [1, 8558, 1087, 37, 1404],\n",
              " [1, 292, 8559, 1],\n",
              " [384, 2726, 5, 2921],\n",
              " [49, 626, 930, 804, 74, 68, 2727, 1014],\n",
              " [2353, 767, 334, 111, 5583, 863, 3804],\n",
              " [2354, 1473, 502, 2728, 203, 671, 2053, 1384, 3171],\n",
              " [216, 127, 1178, 6745, 4813, 101, 595, 2355, 1594],\n",
              " [493, 900, 2, 242, 94, 3805, 1473, 4259, 4814],\n",
              " [1, 5584, 531, 6746],\n",
              " [2356, 8560, 6747, 192, 4260, 5585, 8561, 1, 2337, 1474, 2, 1935, 782, 1],\n",
              " [6748, 863, 864, 90, 805, 1742],\n",
              " [269, 8562, 347, 13, 8563, 8564, 424],\n",
              " [133, 1232, 1220, 32, 3449, 257, 10, 1, 1015],\n",
              " [672, 4815, 8565, 1286, 373, 59, 93],\n",
              " [1224, 6749, 20, 777, 1048, 205, 352, 755, 354, 2524],\n",
              " [2514, 1182, 2729, 3172, 126, 2694, 2],\n",
              " [17, 479, 3450, 218],\n",
              " [3120, 3451, 224, 3173, 667, 1532, 606],\n",
              " [511, 6750, 369, 12, 2525, 81, 51, 4261],\n",
              " [45, 1, 126, 946, 1096, 865, 1097],\n",
              " [2526, 866, 1, 1165, 999, 635, 93],\n",
              " [1, 6751, 455, 179, 1, 270, 1, 1820],\n",
              " [15, 4, 4201, 130, 8566, 6752, 2922, 4262],\n",
              " [481, 2923, 244, 93, 867, 604, 1595],\n",
              " [1, 8567, 4816, 1, 2527, 1, 380, 1936],\n",
              " [209, 3174, 530, 63, 482, 1267, 88, 598, 113, 111],\n",
              " [3806, 3807, 149, 3808, 2054, 65, 392, 707],\n",
              " [6753, 6754, 8568, 1533, 1345, 519, 783],\n",
              " [248, 1],\n",
              " [2528, 213, 2529, 4252, 3452, 1, 1049, 4263, 3175],\n",
              " [13, 647, 1016, 599, 488, 1, 3411, 496, 4817],\n",
              " [47, 2338, 164],\n",
              " [5586, 3, 4818, 257, 294, 1586, 1334, 1534, 1],\n",
              " [3809, 2508, 1937, 4819, 6, 400, 459, 1522],\n",
              " [4264, 1098, 1, 1099, 202, 8569],\n",
              " [3, 48, 32, 932, 13, 616, 683, 301],\n",
              " [2056, 1751, 1, 247, 295, 243, 3161],\n",
              " [2730, 1573, 383, 401, 2731, 78, 405, 431, 2355, 8570],\n",
              " [223, 687, 71, 91, 1017],\n",
              " [2205, 2703, 255, 3, 1, 5587, 1, 1, 1],\n",
              " [1, 8571, 141, 3, 8572, 159, 1, 711, 165, 262],\n",
              " [7, 324, 224, 1086, 43, 576, 1644],\n",
              " [4820, 1128, 132, 4821, 5588, 1475, 2057, 45, 1233],\n",
              " [8573, 3810, 4822, 25, 1535, 1752],\n",
              " [143, 1842, 2357, 1287],\n",
              " [868, 1288, 3, 2530, 479, 1263, 869, 109],\n",
              " [1183, 1136, 225, 8574, 1938, 1127, 4823, 1, 1127, 4823],\n",
              " [2206, 2910, 2320, 3453, 526],\n",
              " [1, 134, 3811, 1225, 1, 833],\n",
              " [191, 1753, 181, 37, 140, 12, 2173, 2521, 120, 226],\n",
              " [3812, 1664, 1, 2531, 1018, 152],\n",
              " [488, 1, 2045, 118, 1345, 300, 169],\n",
              " [8575, 236, 4213, 2924, 1004],\n",
              " [48, 32, 81, 797, 735, 3813, 8576, 4824, 3418],\n",
              " [54, 73, 551, 55, 226, 76, 538, 348, 12],\n",
              " [425, 4825, 30, 129, 6, 1346],\n",
              " [4826, 784, 67, 520, 636],\n",
              " [1665, 3176, 270, 1137, 3177],\n",
              " [1, 92, 1666, 239, 598, 578, 3454],\n",
              " [746, 3178, 2731, 2207, 1],\n",
              " [30, 136, 15, 4, 1476, 1079, 1939, 130, 12],\n",
              " [437, 3786, 637, 4827, 970, 47, 396, 257],\n",
              " [1596, 5, 9],\n",
              " [4828, 352, 626, 1, 101, 1843],\n",
              " [1, 1, 265, 4265, 512, 1719, 1, 8577, 3455, 475, 1, 6755],\n",
              " [1405, 31, 4266, 3456, 711, 8578, 245],\n",
              " [834, 539, 638, 8579, 2925],\n",
              " [825, 6756, 95, 2926, 1406, 4829],\n",
              " [4, 1, 870, 1383, 382, 8580, 16, 4830, 389, 21, 271, 4807],\n",
              " [4223, 1, 544, 247, 1],\n",
              " [1831, 287, 1401, 304, 3179, 597, 3814, 207],\n",
              " [3815, 6757, 244, 4831, 2732, 940, 1536, 353],\n",
              " [1, 1596, 34, 6758, 1180],\n",
              " [175, 41, 335, 529, 1, 296, 224, 8542],\n",
              " [1, 579, 240, 345, 1597, 206],\n",
              " [407, 3180, 68, 90, 1050],\n",
              " [10, 796, 1184, 871, 14, 1100, 8581, 262],\n",
              " [2532, 1166, 173, 1471, 297, 321, 71, 785, 158, 1234],\n",
              " [240, 188, 2708, 2733, 138],\n",
              " [8582, 156],\n",
              " [8583, 2358, 5589, 947, 1754, 393],\n",
              " [4, 557, 1271, 315, 37, 8, 254, 1002, 1342],\n",
              " [4267, 1407, 3181, 55, 323, 1, 1822, 1043, 6759, 8584, 464],\n",
              " [1007, 4832, 1, 277, 358, 3, 305, 1735],\n",
              " [92, 142, 616, 3816],\n",
              " [749, 57, 1408, 2208, 21, 1051],\n",
              " [2533, 1, 470, 185],\n",
              " [20, 1659, 25, 220, 1101, 435, 390, 835],\n",
              " [505, 77, 1, 4268, 8529, 1537, 3182],\n",
              " [3817, 3818, 409, 1, 1097, 60],\n",
              " [165, 8585, 281, 370, 129, 152, 1, 8, 110],\n",
              " [1, 3457, 4833, 1, 6, 11],\n",
              " [1, 1, 4, 2534, 1508, 4834, 2058],\n",
              " [486, 1844, 1082, 66, 203, 93],\n",
              " [1409, 3439, 195, 736, 5590, 756, 8586, 3183],\n",
              " [24, 5, 1019, 1224, 32, 227, 33],\n",
              " [3819, 161, 982, 4269],\n",
              " [1, 4270, 73, 1020, 109, 139],\n",
              " [316, 2059, 275, 405, 1919, 1845, 2927],\n",
              " [4779, 8587, 5, 41, 174, 617, 3820, 1410, 25, 16],\n",
              " [5591, 8588, 3821, 6760, 2164, 5592, 3822, 259],\n",
              " [1408, 3823, 3458, 8589, 1752, 342],\n",
              " [2734, 1, 847, 158, 77, 2060],\n",
              " [6761, 757, 352, 376, 1, 1289, 352, 786, 9],\n",
              " [60, 237, 12, 6762, 690],\n",
              " [87, 5593, 595, 373, 1, 1228, 75],\n",
              " [2209, 2359, 1290, 396, 257, 753, 2535, 21, 438, 351],\n",
              " [384, 6, 212, 1, 143, 12],\n",
              " [1532, 1411, 291, 3803, 803, 4835, 306, 5594, 8590, 6763, 194, 463, 1215],\n",
              " [497, 3, 391, 2061],\n",
              " [3459, 2695, 4271, 467, 372, 520],\n",
              " [1667, 2536, 4, 267, 1291, 264, 3460, 2210],\n",
              " [456],\n",
              " [457, 51, 170, 1, 229, 135],\n",
              " [8591, 905, 2360, 630, 2731, 2537, 543, 1292],\n",
              " [5595, 1, 906, 1, 304, 3184],\n",
              " [2735, 2361, 8592, 237, 220, 50],\n",
              " [5596, 4, 2534, 33, 146, 1477, 8593, 19],\n",
              " [929, 787, 1668, 81, 4231, 1412, 1222, 1293, 2538],\n",
              " [3185, 110, 16],\n",
              " [4, 429, 758, 63, 5597, 3824, 1235, 6],\n",
              " [4836, 8594, 4837, 1827, 860],\n",
              " [471, 307, 2928, 176, 617, 97, 31],\n",
              " [403, 1518, 6764, 1036, 488, 1669, 1918, 1081, 8595, 1],\n",
              " [61, 1940, 111, 5598, 69],\n",
              " [532, 1833, 6765, 1236, 5599, 2062, 336],\n",
              " [19, 3461],\n",
              " [634, 1580],\n",
              " [17, 1347, 597, 3462, 37, 8, 513, 361, 1229, 10, 1464],\n",
              " [796, 29, 84, 252, 1],\n",
              " [8596, 255, 3, 849, 4272, 3463],\n",
              " [635, 25, 1264, 8597, 1, 254, 4838],\n",
              " [2362, 1216, 5600, 60, 2736, 3, 65],\n",
              " [298, 863, 2, 417, 289, 3464, 2063],\n",
              " [4839, 1, 1, 19, 7, 1, 1413, 4, 6766, 8598],\n",
              " [6767, 3, 214],\n",
              " [250, 118, 1846, 55, 10, 32, 3, 201, 1348],\n",
              " [614, 4840, 3825, 69, 2539, 291, 507, 2064, 3, 1670],\n",
              " [1509, 1598, 2519, 3139, 3, 19],\n",
              " [191, 22, 861, 133, 1323, 2208, 1001, 208],\n",
              " [8599, 449, 825, 1237],\n",
              " [1238, 365, 1185, 1845, 35, 1, 8600, 6768, 1186, 1411, 3186],\n",
              " [1291, 806, 2211, 983, 979],\n",
              " [46, 3187, 3188, 2065, 4841, 1755, 1538, 268],\n",
              " [639, 6769, 4, 3826, 201, 4842, 3189, 239, 1, 36],\n",
              " [36, 179, 1339, 3465, 163],\n",
              " [151, 780, 295],\n",
              " [2212, 854, 3190, 2540, 2737],\n",
              " [2213, 1671, 5601, 1182, 6770, 4273],\n",
              " [1],\n",
              " [1, 94, 5525, 8601, 6771],\n",
              " [564, 6772, 5602, 1, 580, 2929, 3191],\n",
              " [579, 3827, 6773, 732, 20, 8602, 1756],\n",
              " [17, 1406, 8494, 8567, 4816, 140, 19, 385, 5603, 969, 387],\n",
              " [239, 1389, 496, 58, 2892, 1, 1126],\n",
              " [1847, 1539, 1224, 134, 86, 8603, 1395, 1187, 224, 3192, 277, 3193, 189],\n",
              " [416, 80, 1091, 807, 1239, 1021],\n",
              " [345, 1, 3828, 1941, 595, 872, 2738, 8604, 1757],\n",
              " [3462, 628, 1385, 1599, 545, 9],\n",
              " [5604, 721, 867, 1],\n",
              " [1, 294, 8605, 1275, 3829],\n",
              " [8606, 3780, 50, 41, 139],\n",
              " [8607, 1, 581, 1396, 426, 2541, 1046],\n",
              " [7, 392, 1138, 1942, 314, 690],\n",
              " [54, 80, 89, 4843],\n",
              " [3, 278, 8608, 22, 198],\n",
              " [1139, 1140, 435, 3830, 5605, 833, 98, 69, 1102, 5606],\n",
              " [2066, 8609, 1222],\n",
              " [7, 17, 36, 285, 25, 1, 8610],\n",
              " [1399, 2067, 1, 6774, 12, 1758],\n",
              " [2739, 3831, 218, 640, 266, 490, 77, 8611, 1404, 327],\n",
              " [1043, 297, 1294, 3466, 1, 1, 362, 1, 1],\n",
              " [2214, 55, 86, 1188, 191, 211],\n",
              " [45, 196, 6, 4844, 6775, 5, 1349, 498],\n",
              " [450, 357, 509, 219, 40, 43, 4274, 1350],\n",
              " [8612, 3467, 62, 8613, 50, 1351, 282, 6776, 2930, 711],\n",
              " [79, 47, 47],\n",
              " [2740, 6777, 6778, 5607, 8614, 6779, 258, 78, 3194],\n",
              " [119, 6780, 103, 178, 278],\n",
              " [1189, 34, 1943, 407, 897, 2931, 70, 23],\n",
              " [214, 1, 998, 11, 3468, 743],\n",
              " [59, 1672, 1759, 2728, 1, 290, 3832],\n",
              " [63, 141, 1, 98, 347, 5],\n",
              " [1341, 97, 495, 241, 9, 314, 120, 151],\n",
              " [1848, 1, 1098, 1, 8615, 1412, 388],\n",
              " [3, 4275, 2363, 83, 664, 582, 23, 116, 23, 686],\n",
              " [4, 1528, 2741, 4845, 32, 2214, 5501, 33],\n",
              " [7, 5608, 3469, 82, 2330, 8616, 6781, 17],\n",
              " [3833, 2068, 4195, 202, 2195, 2364],\n",
              " [47, 1141, 217, 1673, 150, 72],\n",
              " [4276, 6782, 3, 3834, 608, 1, 657],\n",
              " [982, 5609, 18, 2, 1414, 1, 24],\n",
              " [618, 2542, 155, 2932, 1600, 8617, 8618, 4277],\n",
              " [182, 2069, 978, 430],\n",
              " [1, 597, 24, 33, 39, 1760, 158, 836],\n",
              " [48, 137, 969, 1, 1849, 4278, 64, 187, 8619],\n",
              " [8620, 231, 1230, 330, 70, 321],\n",
              " [8621, 476, 160, 337, 984, 1475],\n",
              " [241, 2048, 2543, 151, 4279, 1407, 377],\n",
              " [8622, 6783, 1576, 831, 1, 1336, 3184],\n",
              " [1, 115, 686, 1052],\n",
              " [187, 583, 6784, 1415, 331, 1, 477, 6785, 543, 412, 19, 464],\n",
              " [5, 60, 1, 712, 32, 335, 1601],\n",
              " [3470, 265, 1052, 1103, 708, 22, 16, 4846],\n",
              " [5596, 99, 37, 6786, 8, 210, 683, 592],\n",
              " [1, 5511, 3471, 4801, 3114, 4, 1932],\n",
              " [361, 65, 3835, 776, 64],\n",
              " [5610, 8623, 3195, 81, 499, 1570, 230, 81],\n",
              " [7, 463, 746, 1416, 210, 278],\n",
              " [3, 3836, 821, 615, 8624, 312],\n",
              " [1, 390, 8625, 933, 4847, 1215],\n",
              " [20, 238, 35, 1033, 3745, 144, 372],\n",
              " [1850, 394, 274, 4762, 324, 161, 2544, 1761, 1104],\n",
              " [1, 14, 8626, 641, 2215, 563, 2365, 130, 804],\n",
              " [4, 6787, 2366, 3837, 5611, 2545, 6788],\n",
              " [25, 673, 315, 1295, 51, 1240],\n",
              " [24, 1273, 707, 27, 39, 948, 202, 165],\n",
              " [1647, 3838, 907, 54, 65, 3196, 458],\n",
              " [117, 280, 780, 1, 248, 67],\n",
              " [416, 501, 277, 305, 8627],\n",
              " [1478, 2367, 2216, 155, 582, 1674, 6789, 1851, 2367],\n",
              " [1296, 43, 208, 1141, 3136, 946, 1505, 6790, 823, 132, 321],\n",
              " [2368, 6791, 2369, 908, 354, 1, 4280, 124],\n",
              " [102, 7, 8628, 6792, 121, 674, 1],\n",
              " [1, 128, 787, 1190],\n",
              " [1852, 1944, 206, 837, 4848, 302, 328, 167],\n",
              " [1, 1, 420, 55, 5612, 33, 243, 506],\n",
              " [29, 26, 149, 373, 1468, 5613, 260, 8629, 2692, 713, 1],\n",
              " [3, 1, 1838, 4849, 1340, 562, 907, 227, 6793, 35, 1462, 1, 1352, 8630],\n",
              " [1405, 3472, 449, 642, 1602, 8631, 222, 3473],\n",
              " [6794, 3169, 6795, 5614, 649, 836],\n",
              " [347, 3474, 35, 785, 8632, 63],\n",
              " [1191, 3, 6796, 675, 6785, 2933, 808, 567],\n",
              " [1337, 1338, 8633, 2546, 2217, 822, 4281, 647, 278],\n",
              " [367, 5615, 1080, 1, 8634, 187, 83],\n",
              " [92, 6797, 2, 8635, 6798, 57],\n",
              " [1417, 658, 1533, 1192, 5, 909, 33, 847],\n",
              " [436, 985, 44, 222, 1505, 728, 1, 1463],\n",
              " [796, 79, 385, 931, 76, 3, 1105, 2547, 415, 21, 9],\n",
              " [714, 3197, 79, 1, 123, 170, 125, 240],\n",
              " [133, 2070, 206, 61],\n",
              " [405, 637, 8636, 496],\n",
              " [481, 4850, 539, 2370],\n",
              " [17, 1, 292, 2548, 460],\n",
              " [289, 8637, 26, 45, 1],\n",
              " [119, 1, 3198, 3199, 1],\n",
              " [64, 5616, 2218, 1098, 4282, 296, 226, 1166],\n",
              " [2219, 85],\n",
              " [1, 2934, 276, 104],\n",
              " [1142, 6799, 999, 42, 94, 1130, 22],\n",
              " [1143, 3839, 3, 1603, 14, 1],\n",
              " [1945, 85],\n",
              " [250, 2, 2195, 365, 44, 3827, 2371, 1, 1089, 96],\n",
              " [369, 1353, 709, 222, 1354, 8638, 1848],\n",
              " [27, 526, 1670, 5, 1946, 1479, 1, 1091, 2071],\n",
              " [2935, 786, 2693, 35, 185],\n",
              " [250, 1, 299, 1, 8639, 673, 2936, 224, 715],\n",
              " [6800, 838, 46, 3, 1, 3840],\n",
              " [23, 896, 6, 24, 2372, 779],\n",
              " [2, 6, 4283, 40, 287, 659, 1328, 2072, 288],\n",
              " [380, 124, 6801, 312, 274, 11, 12],\n",
              " [377, 112, 1675, 982, 6802, 51, 1],\n",
              " [222, 2373, 435, 5617, 839, 1],\n",
              " [1238, 2518, 89, 1, 21, 637, 3169],\n",
              " [438, 6, 2, 210, 368, 44, 35, 3841, 1347],\n",
              " [659, 1406, 2937, 482, 1472, 3842, 1297],\n",
              " [2334, 1759, 325, 4851, 5563, 910, 693, 6803, 3200, 300],\n",
              " [8640, 2911, 4852, 112, 1, 251, 1009, 275],\n",
              " [1, 4853, 5618, 2374, 4854],\n",
              " [120, 118, 8616, 4284, 246, 273, 746, 759, 713],\n",
              " [7, 178, 932],\n",
              " [4, 37, 1676, 359, 2549, 117, 1604, 3475, 8641, 1480],\n",
              " [1132, 3201, 4192, 2073],\n",
              " [873, 146, 1, 1],\n",
              " [8642, 179, 46, 5, 207],\n",
              " [1677, 8643, 3202, 1675, 172],\n",
              " [1947, 2375, 975, 1088, 487, 111, 8644, 4258, 1762, 4855],\n",
              " [2916, 760],\n",
              " [2550, 3843, 44, 3476, 18, 2, 5619],\n",
              " [3, 1, 5620, 1],\n",
              " [1, 4, 1, 1, 3844],\n",
              " [1, 255, 3, 1],\n",
              " [7, 6804, 3477, 401, 60, 949, 8645, 1237, 1763, 306],\n",
              " [148, 107, 3203, 514, 543, 272, 40, 8, 382, 8580],\n",
              " [3, 3478, 5621, 2924],\n",
              " [1, 2056, 6805, 1605, 659, 84, 289, 1041],\n",
              " [743, 743, 163, 2376, 440, 257, 1],\n",
              " [15, 5, 660, 1540, 8646],\n",
              " [1, 5622, 768, 2938, 8647, 1342, 221, 107],\n",
              " [1463, 322, 584, 1106, 4, 429, 410, 2939, 1],\n",
              " [465, 2074, 803, 526, 3479, 909, 1355],\n",
              " [231, 1053, 2551, 1132, 2344, 118, 12, 1077, 1642],\n",
              " [283, 600, 1187, 76, 133, 84, 5623],\n",
              " [412, 278, 1, 1],\n",
              " [1022, 2178, 120, 1940, 118],\n",
              " [2, 661, 584, 214, 1, 4856],\n",
              " [1033, 8648, 806, 694, 1764, 451, 950, 1298, 8, 1822, 759],\n",
              " [3805, 1356, 3480, 809, 122, 8649, 455],\n",
              " [6806, 3740, 6807, 14, 21, 1357, 3, 2075, 277, 8650, 193, 1275],\n",
              " [1, 284, 189],\n",
              " [271, 1137, 1, 83],\n",
              " [600, 25, 60, 176, 14, 8651, 1601],\n",
              " [205, 1948, 1, 341],\n",
              " [15, 5, 619, 30, 461, 5, 238, 240],\n",
              " [6808, 6809],\n",
              " [7, 2742, 332, 6810, 2377, 151, 2940],\n",
              " [1, 1, 269, 3845, 5624, 5625, 507, 1357],\n",
              " [1526, 2522, 552, 1741, 4857, 1105, 1, 1765],\n",
              " [187, 235, 1107, 4858],\n",
              " [5626, 2743, 715, 3846, 1, 4859, 5627],\n",
              " [59, 8652, 8653, 1, 165, 306, 1579, 99, 3847],\n",
              " [11, 299, 4285, 986, 3848, 8654, 1],\n",
              " [684, 23, 716, 238, 1, 1, 2076, 1],\n",
              " [294, 1606, 1054, 138],\n",
              " [142, 325, 1, 974, 2741, 8655, 219, 35],\n",
              " [3481, 1, 5628, 4187, 656, 781, 1418, 2552, 427, 501],\n",
              " [1647, 1, 1107, 1838, 148, 71, 5611, 1, 42, 196, 6],\n",
              " [4, 615, 167, 8656, 389, 31, 430],\n",
              " [389, 536, 19, 10, 191, 2744, 8657, 951, 8658, 2344],\n",
              " [388, 143, 1, 1, 4286, 1, 1541],\n",
              " [381, 77, 714, 8659, 3182, 1241, 8660],\n",
              " [6811, 6812, 17, 71, 4860, 182, 363, 1, 1, 1766],\n",
              " [983, 168, 418, 215, 3122, 52],\n",
              " [5629, 8661, 226],\n",
              " [3482, 300, 285, 40, 378, 288, 6813, 13, 3170],\n",
              " [92, 84, 473, 423, 83, 142, 1, 933, 8662],\n",
              " [3, 724, 8663, 3432, 6814, 1400],\n",
              " [2898, 2710, 618, 2542, 152, 506, 667, 553],\n",
              " [1853, 51, 8664, 276, 2553, 175],\n",
              " [1, 8665, 374, 2554],\n",
              " [21, 216, 483, 269, 952, 2555, 28, 1242, 85, 38, 388],\n",
              " [3, 1, 457, 197, 104, 676],\n",
              " [1843, 253, 211, 507, 952, 102, 472],\n",
              " [1, 423, 290, 568, 4287, 3204, 1227],\n",
              " [3849, 1, 3783, 2941, 6815],\n",
              " [652, 1529, 6816, 74, 3162, 747],\n",
              " [209, 327, 2378, 46, 4, 106, 3850],\n",
              " [1, 1],\n",
              " [17, 1, 1, 24, 8666, 1581],\n",
              " [1, 1518, 1678, 1021, 3851, 1055],\n",
              " [203, 102, 4288, 8667, 1, 2201, 1283],\n",
              " [345, 4289, 2379, 539, 5630, 29, 26, 1, 827],\n",
              " [32, 75, 61],\n",
              " [1086, 217, 192, 16, 185, 136],\n",
              " [15, 4, 423, 2369, 76, 11, 101, 4861],\n",
              " [6817, 1, 8668, 901, 19, 472, 9, 8669, 1],\n",
              " [128, 39, 101, 6818],\n",
              " [8670, 103, 1, 171, 3, 3182, 510, 668, 3205],\n",
              " [52, 6819, 6, 4862, 2745, 137, 4290],\n",
              " [1193, 409, 5631, 329, 5632],\n",
              " [484, 8671, 1, 23, 1590],\n",
              " [779, 1056, 643, 2077],\n",
              " [329, 1854, 53, 16, 1419, 1464, 475],\n",
              " [18, 2, 2380, 826, 160, 1057],\n",
              " [148, 1358, 805, 37, 2220, 36, 1607],\n",
              " [614, 441, 50, 41, 2746],\n",
              " [1, 159, 3483, 8672, 1297, 305, 2221],\n",
              " [7, 1, 95, 695, 644, 2942, 6820, 167, 1229, 10],\n",
              " [424, 5570, 684, 13, 3852, 4240, 1129, 5633],\n",
              " [579, 345, 515, 22, 59, 298, 168, 113, 52],\n",
              " [315, 1, 8673, 529, 549, 5634, 1],\n",
              " [128, 2943, 4825, 49, 97],\n",
              " [490, 15, 3484, 53, 1, 68, 810, 2381],\n",
              " [1408, 2222, 8674],\n",
              " [4238, 567, 6787, 478],\n",
              " [2556, 987, 4863, 1949, 2557, 1932],\n",
              " [345, 4864, 1855, 863, 685, 1416, 490],\n",
              " [53, 808, 1540, 53, 16],\n",
              " [1, 249, 3, 2558, 4291, 3853, 1243, 1290, 177],\n",
              " [1481, 2, 6821, 272, 169, 5635, 6822],\n",
              " [1, 1, 872, 204, 8675, 438, 6823],\n",
              " [1665, 121, 8, 277, 751],\n",
              " [2363, 1757, 4800, 206, 953, 81, 6824, 1137, 68, 1420],\n",
              " [1, 1, 61, 2382, 1517, 3206, 1022],\n",
              " [130, 954, 34, 1244, 6825],\n",
              " [38, 1144, 21, 56, 1058, 712, 4292, 5636],\n",
              " [46, 175, 1359, 8676, 142, 224, 60, 1328],\n",
              " [8677, 2944, 54, 8, 691, 3847],\n",
              " [114, 560, 58, 101, 5],\n",
              " [788, 1287, 1141, 1128, 4293, 5637, 4865],\n",
              " [331, 1, 3135, 4294, 3207, 8678, 2220, 1, 1950],\n",
              " [1843, 253, 211, 87, 1, 1826, 272, 1],\n",
              " [260, 175, 8679, 105],\n",
              " [7, 33, 11, 4866, 4867, 275, 248],\n",
              " [1, 1, 5638, 1657, 6826, 5502, 6827],\n",
              " [6828, 19, 1145, 2747, 675, 1, 3208, 9],\n",
              " [2076, 8680, 8681, 4295, 6, 1299, 4868, 1, 1],\n",
              " [332, 1328, 2748, 1146],\n",
              " [5577, 988, 204, 2336, 404],\n",
              " [8682, 249, 3, 1107, 8683, 161, 8684],\n",
              " [863, 1],\n",
              " [15, 1, 51, 101, 128],\n",
              " [241, 4296, 91, 54, 151, 3, 69, 83, 413],\n",
              " [4869, 250, 1004, 442, 299, 1, 197, 911],\n",
              " [717, 1951, 21, 167, 8685],\n",
              " [234, 4815, 2078, 6829, 4870, 906, 1767, 2559, 1, 8686, 1, 1, 1, 8687, 4297],\n",
              " [2749, 1, 606, 618, 3209],\n",
              " [4, 5639, 1768, 179, 6830, 560, 122, 1, 755, 67],\n",
              " [7, 4871, 598, 435, 3813, 5, 301, 264, 811, 902],\n",
              " [241, 340, 13, 67, 567, 2, 8688, 392],\n",
              " [59, 100, 1, 2750, 589, 508, 3818, 5640],\n",
              " [333, 1856, 1542, 8689, 912, 16, 1023, 8690, 3854, 21, 11],\n",
              " [1, 3855, 721, 401, 1, 344, 8691, 147, 1538],\n",
              " [1526, 416, 2560, 4298, 18, 2],\n",
              " [2, 181, 6831, 96, 728, 5641, 1, 464, 76, 386],\n",
              " [2, 51, 31, 1952, 548, 1735, 210, 2079],\n",
              " [1, 265, 230, 4872, 684, 3210, 8690, 3854],\n",
              " [1360, 6832, 266, 5642, 3211, 277, 1421, 3485, 1679],\n",
              " [1857, 4299, 2945, 5, 80, 437, 377],\n",
              " [510, 668, 49, 6, 3212, 2080, 1, 1608],\n",
              " [3213, 121, 3214, 381, 206, 4873, 88],\n",
              " [217, 7, 1, 1, 545, 6833],\n",
              " [18, 2, 126, 946, 30, 27, 1680, 258, 129],\n",
              " [1147, 208, 4275, 216, 91, 127],\n",
              " [677, 2751, 6, 1, 2383, 1274],\n",
              " [18, 2, 86, 438, 888],\n",
              " [8692, 648, 1080, 33, 1769, 1681],\n",
              " [1226, 585, 109, 89, 1, 4874, 2561, 1682],\n",
              " [365, 1, 1, 109, 3, 675, 1, 2539],\n",
              " [416, 2882, 6650, 6834, 5643],\n",
              " [2081, 892, 9, 583],\n",
              " [2082, 1683, 1300, 989, 8693, 204, 1166],\n",
              " [1, 6835, 8, 6836],\n",
              " [796, 1003, 138],\n",
              " [4839, 954],\n",
              " [5, 609, 5644, 574, 665, 1243, 6837],\n",
              " [46, 79, 109, 11, 8, 6838],\n",
              " [3, 578, 6735, 461, 120, 1667, 2536],\n",
              " [6839, 1, 1482, 1609, 1, 4875, 4300, 193, 6713, 35, 537],\n",
              " [1, 43, 220, 57, 353, 913, 1858, 309, 8694, 9],\n",
              " [3856, 4876, 1148, 1, 145, 1354, 2752, 294, 1, 737, 4877],\n",
              " [856, 2913, 51, 8695, 1301, 727, 202, 302],\n",
              " [5645, 13, 1, 1272, 499, 217, 96, 34, 163],\n",
              " [2753, 6840, 4240, 1059, 678, 1953, 1, 1, 761, 3486, 3215, 6841, 1, 1, 1],\n",
              " [2754, 74, 1743, 47],\n",
              " [120, 43, 220, 1, 66],\n",
              " [5646, 4878, 121, 174, 1952],\n",
              " [1, 8696, 154, 762, 840, 1, 6720, 75, 1],\n",
              " [1954, 2562, 4, 2563, 113, 1135, 2223, 41, 1475, 1592],\n",
              " [1194, 253, 192, 953, 176, 72, 405, 368],\n",
              " [4, 88, 96, 3487, 31, 494, 303, 37, 174],\n",
              " [1859, 49, 552, 2547, 1, 561, 5, 4879],\n",
              " [3431, 38, 86, 3488, 738, 91, 58, 426],\n",
              " [509, 5647, 6842, 8697],\n",
              " [15, 5, 6, 998],\n",
              " [971, 1245, 3489, 266, 895, 2, 78],\n",
              " [250, 4301, 3216, 598, 6843],\n",
              " [2755, 2063, 5648, 2937, 6740],\n",
              " [2083, 2084, 387, 127, 426, 2, 1524, 1326, 501, 397],\n",
              " [4, 989, 525, 84, 368, 354, 2085],\n",
              " [5649, 161, 3, 8698, 174, 78],\n",
              " [647, 3136, 248, 8699, 292, 71, 569],\n",
              " [7, 1001, 6844, 421, 41, 2224, 6844, 421],\n",
              " [1, 459, 3490, 104],\n",
              " [367, 74, 744, 197, 3491, 2225, 2523, 458],\n",
              " [389, 1, 4302],\n",
              " [1, 1860, 1753, 5643, 153, 480, 272, 942, 233],\n",
              " [361, 6845, 330],\n",
              " [6846, 1, 3857, 1, 3858, 59, 315, 735, 728, 5650, 653, 1607, 165],\n",
              " [1060, 1, 931, 8700, 1, 3816, 553],\n",
              " [856, 2384, 5629, 62, 2385, 899],\n",
              " [117, 4880, 4881, 8701, 283, 2348],\n",
              " [945, 1, 718, 186, 199, 31],\n",
              " [1955, 3215, 8702, 197, 35],\n",
              " [1034, 117, 78, 1579, 40, 3133, 763, 713, 366, 648, 333],\n",
              " [677, 1610, 288, 4882, 1483, 2, 112, 1195, 1422, 1, 2086],\n",
              " [805, 1861, 874, 3, 1956, 5651, 627],\n",
              " [5652, 1, 82, 4825, 1006, 3217],\n",
              " [18, 2, 6, 620, 379, 5653, 8, 8703, 590],\n",
              " [1, 8639, 605, 2536, 1834, 115, 32, 3492],\n",
              " [40, 4303, 2946, 4883, 1717],\n",
              " [3859, 262, 6847, 4884, 1, 1134, 157, 1957],\n",
              " [173, 5, 1098, 80, 1423, 1],\n",
              " [554, 1061, 11, 8, 305],\n",
              " [4885, 5538],\n",
              " [15, 4, 95, 4304, 201],\n",
              " [4305, 6848, 6849],\n",
              " [4886, 1108, 3860, 8704, 5654, 2564, 325],\n",
              " [100, 1405, 44, 178, 1009, 160, 1611, 467, 3176, 1109],\n",
              " [2, 1062, 1039, 317, 5655, 208, 3218, 376],\n",
              " [5656, 1576],\n",
              " [512, 5657, 1958, 6850, 298, 432, 1959, 943, 1036, 1612, 88, 189],\n",
              " [367, 1684, 8705, 2755, 6851, 17, 2509, 1109, 780, 3429],\n",
              " [20, 1, 1, 1745, 1126, 4306, 1, 87, 451],\n",
              " [1, 180, 327, 29, 26, 251],\n",
              " [1, 249, 3, 1, 4887, 3861, 8706, 268],\n",
              " [489, 1770, 268, 5658, 8, 1771, 53, 1862, 403],\n",
              " [54, 1002, 1, 47, 3492, 1013],\n",
              " [35, 4888, 551, 99, 1, 2180],\n",
              " [3482, 2725, 6852, 155, 1674, 2565, 2756, 651, 560],\n",
              " [1954, 6853, 4, 33, 594, 43, 2, 745, 8707],\n",
              " [58, 488, 176, 2757, 826, 398, 2226, 635, 218, 5659],\n",
              " [2, 149, 8708, 812, 1960, 444, 365, 443],\n",
              " [535, 974, 4307, 1334, 1, 1407, 2227],\n",
              " [2566, 3493, 2, 929, 442, 4308, 272],\n",
              " [48, 512, 8709, 1, 6854, 303, 5660, 1024],\n",
              " [355, 1350, 185, 8, 21, 726, 4309],\n",
              " [5661, 4889, 456, 3219, 6855],\n",
              " [1405, 687, 1846, 220, 87, 88],\n",
              " [47, 739, 1234, 3862, 47, 1826, 739],\n",
              " [526, 1, 1, 1302],\n",
              " [345, 8710, 1168, 1744, 541, 32, 5, 8, 75],\n",
              " [237, 296, 6856, 8711, 54, 1182, 1],\n",
              " [803, 8712, 1463, 45, 3, 90, 52],\n",
              " [5, 6857, 12, 1, 314],\n",
              " [3, 5662, 189, 772, 8713, 1480],\n",
              " [2567, 1424, 1, 1959, 943, 21, 11, 12],\n",
              " [324, 50, 41, 1214, 2178, 1025],\n",
              " [3863, 313, 121, 39, 41, 455, 1333, 235, 165, 8, 5663],\n",
              " [195, 1, 2758, 2947, 2364, 899],\n",
              " [457, 46, 2050, 715, 3864, 21, 11],\n",
              " [1772, 5664, 2386, 415],\n",
              " [3865, 4849, 2759, 6858, 1246, 22, 1765],\n",
              " [5, 1543, 6859, 3444],\n",
              " [15, 97, 872, 130, 9, 758, 151, 789, 1773, 5],\n",
              " [3494, 3495, 155, 205, 888, 6860, 1025, 410, 832, 1, 9],\n",
              " [1, 2514, 5665],\n",
              " [212, 439, 361, 4310, 5666, 385, 2381],\n",
              " [6861, 53, 3195, 1544, 914, 1425, 435],\n",
              " [10, 942, 2, 29, 26, 613, 23],\n",
              " [4, 80, 73, 1545, 30, 6862, 1110, 498, 1063],\n",
              " [102, 3866, 5667, 2948, 975, 1, 4864, 1142, 3867],\n",
              " [915, 238, 5668, 5668, 3415, 2760, 4311, 2761],\n",
              " [383, 431, 377, 8714, 841, 4890, 696, 360],\n",
              " [213, 2529, 530, 186, 477, 443],\n",
              " [269, 952, 4312, 525, 2, 544, 1],\n",
              " [457, 667, 6863, 1007, 2, 3211, 4313, 970],\n",
              " [6864, 1, 1613, 4202, 4314, 538, 748],\n",
              " [2559, 149, 83, 853, 301, 31, 538],\n",
              " [4315, 1, 4316, 3220, 1655, 8715, 1863, 573, 266, 1173, 1045],\n",
              " [2949, 296, 6, 49, 978, 152, 2087, 2226, 65, 2568, 195, 483, 97, 785],\n",
              " [2950, 262, 2088, 1139, 857, 2699],\n",
              " [86, 438, 1, 11, 248, 619, 1332, 282],\n",
              " [314, 955],\n",
              " [1426, 25, 82, 2888, 29, 3135],\n",
              " [5669, 2893, 6865, 609, 5669, 5670],\n",
              " [87, 1656, 873, 3122, 8716, 5671, 8515, 1],\n",
              " [18, 2, 80, 490, 5, 132],\n",
              " [2059, 8717, 1768, 8, 915, 3444, 3, 234, 578, 8718],\n",
              " [63, 1655, 4809, 1614, 1864, 1356, 842],\n",
              " [212, 1, 413, 1427, 1],\n",
              " [205, 2756, 3496, 9],\n",
              " [2, 86, 6866, 634, 296],\n",
              " [4891, 6867, 94, 181, 19, 15, 6867],\n",
              " [2569, 1293, 567, 1, 1334],\n",
              " [5672, 1, 117, 338, 1],\n",
              " [1390, 5673],\n",
              " [8719, 1428],\n",
              " [208, 8670, 3868, 1519, 212, 6868, 6869, 8720],\n",
              " [614, 441, 50, 41, 95],\n",
              " [24, 307, 15, 4, 6870, 6871, 131, 60, 297, 949],\n",
              " [148,\n",
              "  42,\n",
              "  6872,\n",
              "  32,\n",
              "  4892,\n",
              "  2369,\n",
              "  606,\n",
              "  1752,\n",
              "  50,\n",
              "  4317,\n",
              "  1598,\n",
              "  443,\n",
              "  280,\n",
              "  2228,\n",
              "  351],\n",
              " [642, 1, 2752, 1303, 4318],\n",
              " [812, 6873, 1746, 1196],\n",
              " [1111, 1, 1, 296, 1196, 689, 175, 82, 1165],\n",
              " [16, 452, 415, 26, 8, 389],\n",
              " [558, 135, 723, 866, 3, 1],\n",
              " [938, 35, 141, 1654, 4319, 6874, 875],\n",
              " [7, 158, 1615, 1429, 440, 6854, 35, 376, 8721, 199],\n",
              " [956, 1774, 6875, 550, 3869, 1484],\n",
              " [3, 98, 28, 621, 3221, 1830, 2951, 4893],\n",
              " [87, 55, 1326, 213, 331, 237, 955],\n",
              " [113, 74, 1509, 239, 90, 419, 3497, 3870, 91, 489, 1233],\n",
              " [56, 2, 2952, 4320, 37, 153, 1775],\n",
              " [64, 990, 2370, 5513],\n",
              " [26, 87, 2953, 130, 261, 548],\n",
              " [1685, 1, 97, 2089, 142, 1, 1081],\n",
              " [1513, 100, 813, 542, 56, 576, 804, 1, 4321, 8, 1467, 177],\n",
              " [4894, 102, 1472, 7, 1961, 367],\n",
              " ...]"
            ]
          },
          "metadata": {},
          "execution_count": 17
        }
      ],
      "source": [
        "X_train_seq"
      ]
    },
    {
      "cell_type": "code",
      "execution_count": null,
      "id": "2e38325b8b0912cd",
      "metadata": {
        "id": "2e38325b8b0912cd"
      },
      "outputs": [],
      "source": [
        "#finds the length of the longest sequence in X_train_seq\n",
        "max_len = max(len(seq) for seq in X_train_seq)\n"
      ]
    },
    {
      "cell_type": "code",
      "execution_count": null,
      "id": "3108345606c61079",
      "metadata": {
        "id": "3108345606c61079",
        "colab": {
          "base_uri": "https://localhost:8080/"
        },
        "outputId": "968340b7-06f8-4863-bfff-3600bddf0fca"
      },
      "outputs": [
        {
          "output_type": "execute_result",
          "data": {
            "text/plain": [
              "26"
            ]
          },
          "metadata": {},
          "execution_count": 19
        }
      ],
      "source": [
        "max_len"
      ]
    },
    {
      "cell_type": "code",
      "execution_count": null,
      "id": "tO5FEqnNn3_u",
      "metadata": {
        "id": "tO5FEqnNn3_u",
        "colab": {
          "base_uri": "https://localhost:8080/"
        },
        "outputId": "e2643537-1086-4c33-9d0c-bf984f8bf810"
      },
      "outputs": [
        {
          "output_type": "execute_result",
          "data": {
            "text/plain": [
              "106"
            ]
          },
          "metadata": {},
          "execution_count": 20
        }
      ],
      "source": [
        "# max lenght for the validation\n",
        "max_len_test = max(len(seq) for seq in X_test_seq)\n",
        "max_len_test"
      ]
    },
    {
      "cell_type": "code",
      "execution_count": null,
      "id": "5abbb7051549a905",
      "metadata": {
        "id": "5abbb7051549a905"
      },
      "outputs": [],
      "source": [
        "# Importing NumPy, a library used for mathematical and statistical operations\n",
        "import numpy as np\n",
        "\n",
        "# Creating a list called seq_lengths\n",
        "# This list contains the length of each sequence (number of words) in the training data\n",
        "seq_lengths = [len(seq) for seq in X_train_seq]\n",
        "\n",
        "# Calculating the 95th percentile length from the list of sequence lengths\n",
        "# This means: find a length value such that 95% of the sequences are shorter than or equal to it\n",
        "# We convert it to an integer using int()\n",
        "max_len = int(np.percentile(seq_lengths, 95))\n"
      ]
    },
    {
      "cell_type": "code",
      "execution_count": null,
      "id": "8736a4d4a6172273",
      "metadata": {
        "id": "8736a4d4a6172273"
      },
      "outputs": [],
      "source": [
        "# Padding the training sequences to make them all the same length (25 words)\n",
        "# - maxlen=25: We want all sequences to be exactly 25 tokens long\n",
        "# - padding='post': If the sequence is shorter than 25, add zeros at the end\n",
        "# - truncating='post': If the sequence is longer than 25, cut extra tokens from the end\n",
        "X_train_pad = pad_sequences(X_train_seq, maxlen=25, padding='post', truncating='post')\n",
        "# Padding the test sequences the same way to match the training input format\n",
        "# Ensures both training and test data are shaped correctly for the model\n",
        "X_test_pad = pad_sequences(X_test_seq, maxlen=25, padding='post', truncating='post')\n"
      ]
    },
    {
      "cell_type": "code",
      "execution_count": null,
      "id": "aHWKCmWNrxQV",
      "metadata": {
        "id": "aHWKCmWNrxQV",
        "colab": {
          "base_uri": "https://localhost:8080/"
        },
        "outputId": "78f3bc98-1707-4039-db67-e4cee675fcdd"
      },
      "outputs": [
        {
          "output_type": "execute_result",
          "data": {
            "text/plain": [
              "(22895, 25)"
            ]
          },
          "metadata": {},
          "execution_count": 23
        }
      ],
      "source": [
        "X_train_pad.shape"
      ]
    },
    {
      "cell_type": "markdown",
      "source": [],
      "metadata": {
        "id": "Vpj4hGYO-a0y"
      },
      "id": "Vpj4hGYO-a0y"
    },
    {
      "cell_type": "markdown",
      "id": "GxhYQ3NrlteN",
      "metadata": {
        "id": "GxhYQ3NrlteN"
      },
      "source": [
        "# **3.2 Model Building and Trasining**"
      ]
    },
    {
      "cell_type": "markdown",
      "id": "I3LBrdFZmg_9",
      "metadata": {
        "id": "I3LBrdFZmg_9"
      },
      "source": [
        "## **3.2.1 Simple Recurrent Neural Network**\n",
        "A Simple RNN is a type of neural network designed for sequential data (like time series or text). It has a loop that allows it to remember information from previous time steps (through its hidden state), which helps the model capture dependencies in sequences."
      ]
    },
    {
      "cell_type": "code",
      "execution_count": null,
      "id": "fcfaeb28dc4c0cda",
      "metadata": {
        "id": "fcfaeb28dc4c0cda"
      },
      "outputs": [],
      "source": [
        "# Importing necessary components from TensorFlow\n",
        "import tensorflow as tf\n",
        "from tensorflow.keras.models import Sequential  # Used to build the model layer-by-layer\n",
        "from tensorflow.keras.layers import Embedding, SimpleRNN, Dense  # Layers used in the model\n",
        "\n",
        "vocab_size = 10000        # The total number of unique words we consider (only top 10,000 most frequent)\n",
        "embedding_dim = 100       # Each word will be represented as a 100-dimensional vector\n",
        "max_length = 25           # Each input sentence is padded/truncated to 25 tokens\n",
        "rnn_units = 64            # Number of units (neurons) in the RNN layer\n",
        "\n",
        "model = Sequential([  # Creating a sequential model (layers are stacked in order)\n",
        "\n",
        "    # 1️⃣ Embedding Layer:\n",
        "    # - Converts each word (represented by a number) into a dense vector of size 100\n",
        "    # - Learns word relationships during training\n",
        "    Embedding(input_dim=vocab_size, output_dim=embedding_dim),\n",
        "\n",
        "    # 2️⃣ Simple RNN Layer:\n",
        "    # - Takes the sequence of word vectors and processes it step by step\n",
        "    # - rnn_units=64 means the RNN has 64 memory cells to learn patterns\n",
        "    # - return_sequences=False: we only take the final output, not the output from each word\n",
        "    SimpleRNN(units=rnn_units, return_sequences=False),\n",
        "\n",
        "    # 3️⃣ Dense Output Layer:\n",
        "    # - Has 1 neuron with a sigmoid activation\n",
        "    # - Outputs a value between 0 and 1 (good for binary classification like sarcasm or not)\n",
        "    Dense(1, activation='sigmoid')\n",
        "])\n",
        "\n",
        "# This tells the model the expected input shape: batch size can be anything (None), but sequence length is 25\n",
        "model.build(input_shape=(None, max_length))\n"
      ]
    },
    {
      "cell_type": "code",
      "execution_count": null,
      "id": "53eaf102e870c40",
      "metadata": {
        "id": "53eaf102e870c40",
        "colab": {
          "base_uri": "https://localhost:8080/",
          "height": 199
        },
        "outputId": "cc0ffc08-0cb5-450c-8fce-6b87a6f559f9"
      },
      "outputs": [
        {
          "output_type": "display_data",
          "data": {
            "text/plain": [
              "\u001b[1mModel: \"sequential\"\u001b[0m\n"
            ],
            "text/html": [
              "<pre style=\"white-space:pre;overflow-x:auto;line-height:normal;font-family:Menlo,'DejaVu Sans Mono',consolas,'Courier New',monospace\"><span style=\"font-weight: bold\">Model: \"sequential\"</span>\n",
              "</pre>\n"
            ]
          },
          "metadata": {}
        },
        {
          "output_type": "display_data",
          "data": {
            "text/plain": [
              "┏━━━━━━━━━━━━━━━━━━━━━━━━━━━━━━━━━┳━━━━━━━━━━━━━━━━━━━━━━━━┳━━━━━━━━━━━━━━━┓\n",
              "┃\u001b[1m \u001b[0m\u001b[1mLayer (type)                   \u001b[0m\u001b[1m \u001b[0m┃\u001b[1m \u001b[0m\u001b[1mOutput Shape          \u001b[0m\u001b[1m \u001b[0m┃\u001b[1m \u001b[0m\u001b[1m      Param #\u001b[0m\u001b[1m \u001b[0m┃\n",
              "┡━━━━━━━━━━━━━━━━━━━━━━━━━━━━━━━━━╇━━━━━━━━━━━━━━━━━━━━━━━━╇━━━━━━━━━━━━━━━┩\n",
              "│ embedding (\u001b[38;5;33mEmbedding\u001b[0m)           │ (\u001b[38;5;45mNone\u001b[0m, \u001b[38;5;34m25\u001b[0m, \u001b[38;5;34m100\u001b[0m)        │     \u001b[38;5;34m1,000,000\u001b[0m │\n",
              "├─────────────────────────────────┼────────────────────────┼───────────────┤\n",
              "│ simple_rnn (\u001b[38;5;33mSimpleRNN\u001b[0m)          │ (\u001b[38;5;45mNone\u001b[0m, \u001b[38;5;34m64\u001b[0m)             │        \u001b[38;5;34m10,560\u001b[0m │\n",
              "├─────────────────────────────────┼────────────────────────┼───────────────┤\n",
              "│ dense (\u001b[38;5;33mDense\u001b[0m)                   │ (\u001b[38;5;45mNone\u001b[0m, \u001b[38;5;34m1\u001b[0m)              │            \u001b[38;5;34m65\u001b[0m │\n",
              "└─────────────────────────────────┴────────────────────────┴───────────────┘\n"
            ],
            "text/html": [
              "<pre style=\"white-space:pre;overflow-x:auto;line-height:normal;font-family:Menlo,'DejaVu Sans Mono',consolas,'Courier New',monospace\">┏━━━━━━━━━━━━━━━━━━━━━━━━━━━━━━━━━┳━━━━━━━━━━━━━━━━━━━━━━━━┳━━━━━━━━━━━━━━━┓\n",
              "┃<span style=\"font-weight: bold\"> Layer (type)                    </span>┃<span style=\"font-weight: bold\"> Output Shape           </span>┃<span style=\"font-weight: bold\">       Param # </span>┃\n",
              "┡━━━━━━━━━━━━━━━━━━━━━━━━━━━━━━━━━╇━━━━━━━━━━━━━━━━━━━━━━━━╇━━━━━━━━━━━━━━━┩\n",
              "│ embedding (<span style=\"color: #0087ff; text-decoration-color: #0087ff\">Embedding</span>)           │ (<span style=\"color: #00d7ff; text-decoration-color: #00d7ff\">None</span>, <span style=\"color: #00af00; text-decoration-color: #00af00\">25</span>, <span style=\"color: #00af00; text-decoration-color: #00af00\">100</span>)        │     <span style=\"color: #00af00; text-decoration-color: #00af00\">1,000,000</span> │\n",
              "├─────────────────────────────────┼────────────────────────┼───────────────┤\n",
              "│ simple_rnn (<span style=\"color: #0087ff; text-decoration-color: #0087ff\">SimpleRNN</span>)          │ (<span style=\"color: #00d7ff; text-decoration-color: #00d7ff\">None</span>, <span style=\"color: #00af00; text-decoration-color: #00af00\">64</span>)             │        <span style=\"color: #00af00; text-decoration-color: #00af00\">10,560</span> │\n",
              "├─────────────────────────────────┼────────────────────────┼───────────────┤\n",
              "│ dense (<span style=\"color: #0087ff; text-decoration-color: #0087ff\">Dense</span>)                   │ (<span style=\"color: #00d7ff; text-decoration-color: #00d7ff\">None</span>, <span style=\"color: #00af00; text-decoration-color: #00af00\">1</span>)              │            <span style=\"color: #00af00; text-decoration-color: #00af00\">65</span> │\n",
              "└─────────────────────────────────┴────────────────────────┴───────────────┘\n",
              "</pre>\n"
            ]
          },
          "metadata": {}
        },
        {
          "output_type": "display_data",
          "data": {
            "text/plain": [
              "\u001b[1m Total params: \u001b[0m\u001b[38;5;34m1,010,625\u001b[0m (3.86 MB)\n"
            ],
            "text/html": [
              "<pre style=\"white-space:pre;overflow-x:auto;line-height:normal;font-family:Menlo,'DejaVu Sans Mono',consolas,'Courier New',monospace\"><span style=\"font-weight: bold\"> Total params: </span><span style=\"color: #00af00; text-decoration-color: #00af00\">1,010,625</span> (3.86 MB)\n",
              "</pre>\n"
            ]
          },
          "metadata": {}
        },
        {
          "output_type": "display_data",
          "data": {
            "text/plain": [
              "\u001b[1m Trainable params: \u001b[0m\u001b[38;5;34m1,010,625\u001b[0m (3.86 MB)\n"
            ],
            "text/html": [
              "<pre style=\"white-space:pre;overflow-x:auto;line-height:normal;font-family:Menlo,'DejaVu Sans Mono',consolas,'Courier New',monospace\"><span style=\"font-weight: bold\"> Trainable params: </span><span style=\"color: #00af00; text-decoration-color: #00af00\">1,010,625</span> (3.86 MB)\n",
              "</pre>\n"
            ]
          },
          "metadata": {}
        },
        {
          "output_type": "display_data",
          "data": {
            "text/plain": [
              "\u001b[1m Non-trainable params: \u001b[0m\u001b[38;5;34m0\u001b[0m (0.00 B)\n"
            ],
            "text/html": [
              "<pre style=\"white-space:pre;overflow-x:auto;line-height:normal;font-family:Menlo,'DejaVu Sans Mono',consolas,'Courier New',monospace\"><span style=\"font-weight: bold\"> Non-trainable params: </span><span style=\"color: #00af00; text-decoration-color: #00af00\">0</span> (0.00 B)\n",
              "</pre>\n"
            ]
          },
          "metadata": {}
        }
      ],
      "source": [
        "model.summary()"
      ]
    },
    {
      "cell_type": "code",
      "execution_count": null,
      "id": "b399a4189852e5f3",
      "metadata": {
        "id": "b399a4189852e5f3"
      },
      "outputs": [],
      "source": [
        "from tensorflow.keras.metrics import Precision, Recall\n",
        "\n",
        "model.compile(\n",
        "    loss='binary_crossentropy',   # Loss function used for binary classification (0 or 1)\n",
        "    optimizer='adam',             # Optimizer to update model weights efficiently during training\n",
        "    metrics=['accuracy']          # We want to track accuracy as our performance metric\n",
        ")\n"
      ]
    },
    {
      "cell_type": "code",
      "execution_count": null,
      "id": "cb0356bed59c55a5",
      "metadata": {
        "id": "cb0356bed59c55a5",
        "colab": {
          "base_uri": "https://localhost:8080/"
        },
        "outputId": "8dc7be9c-0f85-4691-caa3-ad9577001091"
      },
      "outputs": [
        {
          "output_type": "execute_result",
          "data": {
            "text/plain": [
              "{0: 0.9547539616346956, 1: 1.049747822099954}"
            ]
          },
          "metadata": {},
          "execution_count": 27
        }
      ],
      "source": [
        "from keras.callbacks import EarlyStopping\n",
        "from sklearn.utils import class_weight\n",
        "\n",
        "early_stopping = EarlyStopping(\n",
        "    monitor='val_loss',             # Watch the validation loss\n",
        "    patience=3,                     # Stop if it doesn’t improve for 3 epochs\n",
        "    restore_best_weights=True       # After stopping, keep the best weights from earlier\n",
        ")\n",
        "\n",
        "class_weights = class_weight.compute_class_weight(\n",
        "    class_weight='balanced',             # Tell sklearn to balance the classes automatically\n",
        "    classes=np.unique(y_train),          # Unique class labels (usually [0, 1])\n",
        "    y=y_train                            # The actual labels from training data\n",
        ")\n",
        "\n",
        "class_weights_dict = dict(enumerate(class_weights)) #Convert to dictionary (for use in model training)\n",
        "class_weights_dict"
      ]
    },
    {
      "cell_type": "code",
      "execution_count": null,
      "id": "d3d56f7cce8affa",
      "metadata": {
        "id": "d3d56f7cce8affa",
        "colab": {
          "base_uri": "https://localhost:8080/"
        },
        "outputId": "3efecf7e-c73e-4a69-93f9-50813f8fb902"
      },
      "outputs": [
        {
          "output_type": "stream",
          "name": "stdout",
          "text": [
            "Training Model 1: Simple RNN\n",
            "Epoch 1/15\n",
            "\u001b[1m322/322\u001b[0m \u001b[32m━━━━━━━━━━━━━━━━━━━━\u001b[0m\u001b[37m\u001b[0m \u001b[1m10s\u001b[0m 25ms/step - accuracy: 0.6704 - loss: 0.5862 - val_accuracy: 0.7782 - val_loss: 0.4688\n",
            "Epoch 2/15\n",
            "\u001b[1m322/322\u001b[0m \u001b[32m━━━━━━━━━━━━━━━━━━━━\u001b[0m\u001b[37m\u001b[0m \u001b[1m6s\u001b[0m 19ms/step - accuracy: 0.9037 - loss: 0.2514 - val_accuracy: 0.7681 - val_loss: 0.5103\n",
            "Epoch 3/15\n",
            "\u001b[1m322/322\u001b[0m \u001b[32m━━━━━━━━━━━━━━━━━━━━\u001b[0m\u001b[37m\u001b[0m \u001b[1m14s\u001b[0m 30ms/step - accuracy: 0.9617 - loss: 0.1153 - val_accuracy: 0.7537 - val_loss: 0.6677\n",
            "Epoch 4/15\n",
            "\u001b[1m322/322\u001b[0m \u001b[32m━━━━━━━━━━━━━━━━━━━━\u001b[0m\u001b[37m\u001b[0m \u001b[1m9s\u001b[0m 26ms/step - accuracy: 0.9821 - loss: 0.0562 - val_accuracy: 0.7463 - val_loss: 0.8294\n"
          ]
        }
      ],
      "source": [
        "print(\"Training Model 1: Simple RNN\")\n",
        "# Training the model using padded training data and labels\n",
        "history1 = model.fit(\n",
        "    X_train_pad,        # Input data (padded sequences of training headlines)\n",
        "    y_train,            # Output labels (0 for not sarcastic, 1 for sarcastic)\n",
        "\n",
        "    epochs=15,          # Train for up to 15 full passes over the data\n",
        "    batch_size=64,      # Process 64 samples at a time for each training step\n",
        "\n",
        "    validation_split=0.1,      # Use 10% of the training data as validation data\n",
        "                               # This helps check how well the model is doing on unseen data during training\n",
        "\n",
        "    class_weight = class_weights_dict,   # Apply class weights to handle class imbalance\n",
        "\n",
        "    callbacks=[early_stopping],          # Use EarlyStopping to stop training early if val_loss doesn't improve\n",
        "\n",
        "    verbose=1            # Show progress of training (1 = print progress bar)\n",
        ")\n"
      ]
    },
    {
      "cell_type": "code",
      "execution_count": null,
      "id": "c6493e83f69340c5",
      "metadata": {
        "id": "c6493e83f69340c5",
        "colab": {
          "base_uri": "https://localhost:8080/",
          "height": 493
        },
        "outputId": "c2d9bdf7-c3bc-42ca-d5fe-2a31193a0d1e"
      },
      "outputs": [
        {
          "output_type": "display_data",
          "data": {
            "text/plain": [
              "<Figure size 1200x500 with 2 Axes>"
            ],
            "image/png": "[encoded data removed]"
          },
          "metadata": {}
        }
      ],
      "source": [
        "plt.figure(figsize=(12, 5))\n",
        "plt.subplot(1, 2, 1)\n",
        "plt.plot(history1.history['accuracy'])\n",
        "plt.plot(history1.history['val_accuracy'])\n",
        "plt.title('Simple RNN - Accuracy')\n",
        "plt.ylabel('Accuracy')\n",
        "plt.xlabel('Epoch')\n",
        "plt.legend(['Train', 'Validation'], loc='upper left')\n",
        "\n",
        "plt.subplot(1, 2, 2)\n",
        "plt.plot(history1.history['loss'])\n",
        "plt.plot(history1.history['val_loss'])\n",
        "plt.title(f'Simple RNN - Loss')\n",
        "plt.ylabel('Loss')\n",
        "plt.xlabel('Epoch')\n",
        "plt.legend(['Train', 'Validation'], loc='upper left')\n",
        "plt.tight_layout()\n",
        "plt.show()"
      ]
    },
    {
      "cell_type": "code",
      "execution_count": null,
      "id": "cf49d647300b9ed6",
      "metadata": {
        "id": "cf49d647300b9ed6",
        "colab": {
          "base_uri": "https://localhost:8080/",
          "height": 817
        },
        "outputId": "b8dac7ab-c856-43d5-e670-04f65aa9ea28"
      },
      "outputs": [
        {
          "output_type": "stream",
          "name": "stdout",
          "text": [
            "Evaluating Model 1: Simple RNN\n",
            "\u001b[1m179/179\u001b[0m \u001b[32m━━━━━━━━━━━━━━━━━━━━\u001b[0m\u001b[37m\u001b[0m \u001b[1m1s\u001b[0m 6ms/step\n",
            "\n",
            "Model 1: Simple RNN Accuracy: 0.7900\n"
          ]
        },
        {
          "output_type": "display_data",
          "data": {
            "text/plain": [
              "<Figure size 800x600 with 2 Axes>"
            ],
            "image/png": "[encoded data removed]"
          },
          "metadata": {}
        },
        {
          "output_type": "stream",
          "name": "stdout",
          "text": [
            "\n",
            "Model 1: Simple RNN Classification Report:\n",
            "                   precision    recall  f1-score   support\n",
            "\n",
            "Not Racist/Sexist       0.75      0.89      0.82      2995\n",
            "    Racist/Sexist       0.85      0.68      0.76      2729\n",
            "\n",
            "         accuracy                           0.79      5724\n",
            "        macro avg       0.80      0.79      0.79      5724\n",
            "     weighted avg       0.80      0.79      0.79      5724\n",
            "\n"
          ]
        }
      ],
      "source": [
        "from sklearn.metrics import accuracy_score, confusion_matrix, classification_report\n",
        "import seaborn as sns\n",
        "# Define a function to evaluate the model\n",
        "# It takes the trained model, test data, test labels, and model name as inputs\n",
        "def evaluate_model(model, X_test, y_test, model_name):\n",
        "    # Predict the probabilities of the test data\n",
        "    # Each value will be between 0 and 1 (because we used sigmoid activation)\n",
        "    y_pred_prob = model.predict(X_test)\n",
        "\n",
        "    # Convert predicted probabilities to binary class labels (0 or 1)\n",
        "    # If probability > 0.5 → class 1 (sarcastic), else → class 0 (not sarcastic)\n",
        "    y_pred = (y_pred_prob > 0.5).astype(int)\n",
        "\n",
        "    # Calculate the accuracy of the predictions\n",
        "    accuracy = accuracy_score(y_test, y_pred)\n",
        "    print(f\"\\n{model_name} Accuracy: {accuracy:.4f}\")\n",
        "\n",
        "        # Generate the confusion matrix\n",
        "    cm = confusion_matrix(y_test, y_pred)\n",
        "\n",
        "    # Create a heatmap to visualize the confusion matrix\n",
        "    plt.figure(figsize=(8, 6))  # Set figure size\n",
        "    sns.heatmap(\n",
        "        cm,                       # Confusion matrix data\n",
        "        annot=True,               # Show numbers inside the boxes\n",
        "        fmt='d',                  # Integer formatting\n",
        "        cmap='Blues',             # Color scheme\n",
        "        xticklabels=['Not Racist/Sexist', 'Racist/Sexist'],  # Labels for predicted values\n",
        "        yticklabels=['Not Racist/Sexist', 'Racist/Sexist']   # Labels for true values\n",
        "    )\n",
        "    plt.title(f'{model_name} - Confusion Matrix')  # Add title\n",
        "    plt.ylabel('True is_sarcastic')                # Label for y-axis\n",
        "    plt.xlabel('Predicted is_sarcastic')           # Label for x-axis\n",
        "    plt.tight_layout()                             # Adjust layout\n",
        "    plt.show()                                     # Show the heatmap\n",
        "\n",
        "\n",
        "    # Classification Report\n",
        "    print(f\"\\n{model_name} Classification Report:\")\n",
        "    print(classification_report(y_test, y_pred,\n",
        "                               target_names=['Not Racist/Sexist', 'Racist/Sexist']))\n",
        "\n",
        "    return accuracy, y_pred\n",
        "\n",
        "# Evaluate each model\n",
        "print(\"Evaluating Model 1: Simple RNN\")\n",
        "acc1, pred1 = evaluate_model(model, X_test_pad, y_test, \"Model 1: Simple RNN\")\n"
      ]
    },
    {
      "cell_type": "code",
      "execution_count": null,
      "id": "rCB2HYEyOS38",
      "metadata": {
        "id": "rCB2HYEyOS38"
      },
      "outputs": [],
      "source": []
    },
    {
      "cell_type": "markdown",
      "id": "4d1a03d423ff9e30",
      "metadata": {
        "id": "4d1a03d423ff9e30"
      },
      "source": [
        "## **3.2.2 Simple LSTM**\n",
        "\n",
        "LSTM is a special type of RNN designed to remember long-term dependencies in sequences. Unlike simple RNNs, LSTMs use gates (forget, input, and output gates) to control the flow of information and to decide what to remember or forget over time. This allows LSTMs to overcome the vanishing gradient problem and perform better on tasks requiring long-range dependencies, such as language modeling, machine translation, and time-series forecasting."
      ]
    },
    {
      "cell_type": "code",
      "execution_count": null,
      "id": "6fb5038cb49e7442",
      "metadata": {
        "id": "6fb5038cb49e7442",
        "colab": {
          "base_uri": "https://localhost:8080/",
          "height": 199
        },
        "outputId": "ca81d54e-856b-4c2e-a6fc-1c04e466ad12"
      },
      "outputs": [
        {
          "output_type": "display_data",
          "data": {
            "text/plain": [
              "\u001b[1mModel: \"sequential_1\"\u001b[0m\n"
            ],
            "text/html": [
              "<pre style=\"white-space:pre;overflow-x:auto;line-height:normal;font-family:Menlo,'DejaVu Sans Mono',consolas,'Courier New',monospace\"><span style=\"font-weight: bold\">Model: \"sequential_1\"</span>\n",
              "</pre>\n"
            ]
          },
          "metadata": {}
        },
        {
          "output_type": "display_data",
          "data": {
            "text/plain": [
              "┏━━━━━━━━━━━━━━━━━━━━━━━━━━━━━━━━━┳━━━━━━━━━━━━━━━━━━━━━━━━┳━━━━━━━━━━━━━━━┓\n",
              "┃\u001b[1m \u001b[0m\u001b[1mLayer (type)                   \u001b[0m\u001b[1m \u001b[0m┃\u001b[1m \u001b[0m\u001b[1mOutput Shape          \u001b[0m\u001b[1m \u001b[0m┃\u001b[1m \u001b[0m\u001b[1m      Param #\u001b[0m\u001b[1m \u001b[0m┃\n",
              "┡━━━━━━━━━━━━━━━━━━━━━━━━━━━━━━━━━╇━━━━━━━━━━━━━━━━━━━━━━━━╇━━━━━━━━━━━━━━━┩\n",
              "│ embedding_1 (\u001b[38;5;33mEmbedding\u001b[0m)         │ (\u001b[38;5;45mNone\u001b[0m, \u001b[38;5;34m25\u001b[0m, \u001b[38;5;34m100\u001b[0m)        │     \u001b[38;5;34m1,000,000\u001b[0m │\n",
              "├─────────────────────────────────┼────────────────────────┼───────────────┤\n",
              "│ lstm (\u001b[38;5;33mLSTM\u001b[0m)                     │ (\u001b[38;5;45mNone\u001b[0m, \u001b[38;5;34m64\u001b[0m)             │        \u001b[38;5;34m42,240\u001b[0m │\n",
              "├─────────────────────────────────┼────────────────────────┼───────────────┤\n",
              "│ dense_1 (\u001b[38;5;33mDense\u001b[0m)                 │ (\u001b[38;5;45mNone\u001b[0m, \u001b[38;5;34m1\u001b[0m)              │            \u001b[38;5;34m65\u001b[0m │\n",
              "└─────────────────────────────────┴────────────────────────┴───────────────┘\n"
            ],
            "text/html": [
              "<pre style=\"white-space:pre;overflow-x:auto;line-height:normal;font-family:Menlo,'DejaVu Sans Mono',consolas,'Courier New',monospace\">┏━━━━━━━━━━━━━━━━━━━━━━━━━━━━━━━━━┳━━━━━━━━━━━━━━━━━━━━━━━━┳━━━━━━━━━━━━━━━┓\n",
              "┃<span style=\"font-weight: bold\"> Layer (type)                    </span>┃<span style=\"font-weight: bold\"> Output Shape           </span>┃<span style=\"font-weight: bold\">       Param # </span>┃\n",
              "┡━━━━━━━━━━━━━━━━━━━━━━━━━━━━━━━━━╇━━━━━━━━━━━━━━━━━━━━━━━━╇━━━━━━━━━━━━━━━┩\n",
              "│ embedding_1 (<span style=\"color: #0087ff; text-decoration-color: #0087ff\">Embedding</span>)         │ (<span style=\"color: #00d7ff; text-decoration-color: #00d7ff\">None</span>, <span style=\"color: #00af00; text-decoration-color: #00af00\">25</span>, <span style=\"color: #00af00; text-decoration-color: #00af00\">100</span>)        │     <span style=\"color: #00af00; text-decoration-color: #00af00\">1,000,000</span> │\n",
              "├─────────────────────────────────┼────────────────────────┼───────────────┤\n",
              "│ lstm (<span style=\"color: #0087ff; text-decoration-color: #0087ff\">LSTM</span>)                     │ (<span style=\"color: #00d7ff; text-decoration-color: #00d7ff\">None</span>, <span style=\"color: #00af00; text-decoration-color: #00af00\">64</span>)             │        <span style=\"color: #00af00; text-decoration-color: #00af00\">42,240</span> │\n",
              "├─────────────────────────────────┼────────────────────────┼───────────────┤\n",
              "│ dense_1 (<span style=\"color: #0087ff; text-decoration-color: #0087ff\">Dense</span>)                 │ (<span style=\"color: #00d7ff; text-decoration-color: #00d7ff\">None</span>, <span style=\"color: #00af00; text-decoration-color: #00af00\">1</span>)              │            <span style=\"color: #00af00; text-decoration-color: #00af00\">65</span> │\n",
              "└─────────────────────────────────┴────────────────────────┴───────────────┘\n",
              "</pre>\n"
            ]
          },
          "metadata": {}
        },
        {
          "output_type": "display_data",
          "data": {
            "text/plain": [
              "\u001b[1m Total params: \u001b[0m\u001b[38;5;34m1,042,305\u001b[0m (3.98 MB)\n"
            ],
            "text/html": [
              "<pre style=\"white-space:pre;overflow-x:auto;line-height:normal;font-family:Menlo,'DejaVu Sans Mono',consolas,'Courier New',monospace\"><span style=\"font-weight: bold\"> Total params: </span><span style=\"color: #00af00; text-decoration-color: #00af00\">1,042,305</span> (3.98 MB)\n",
              "</pre>\n"
            ]
          },
          "metadata": {}
        },
        {
          "output_type": "display_data",
          "data": {
            "text/plain": [
              "\u001b[1m Trainable params: \u001b[0m\u001b[38;5;34m1,042,305\u001b[0m (3.98 MB)\n"
            ],
            "text/html": [
              "<pre style=\"white-space:pre;overflow-x:auto;line-height:normal;font-family:Menlo,'DejaVu Sans Mono',consolas,'Courier New',monospace\"><span style=\"font-weight: bold\"> Trainable params: </span><span style=\"color: #00af00; text-decoration-color: #00af00\">1,042,305</span> (3.98 MB)\n",
              "</pre>\n"
            ]
          },
          "metadata": {}
        },
        {
          "output_type": "display_data",
          "data": {
            "text/plain": [
              "\u001b[1m Non-trainable params: \u001b[0m\u001b[38;5;34m0\u001b[0m (0.00 B)\n"
            ],
            "text/html": [
              "<pre style=\"white-space:pre;overflow-x:auto;line-height:normal;font-family:Menlo,'DejaVu Sans Mono',consolas,'Courier New',monospace\"><span style=\"font-weight: bold\"> Non-trainable params: </span><span style=\"color: #00af00; text-decoration-color: #00af00\">0</span> (0.00 B)\n",
              "</pre>\n"
            ]
          },
          "metadata": {}
        }
      ],
      "source": [
        "# Creating a new Sequential model using LSTM instead of SimpleRNN\n",
        "simple_lstm = Sequential([\n",
        "        # 1️⃣ Embedding Layer:\n",
        "    # - Converts each word (represented as a number) into a dense vector of size 100\n",
        "    # - Learns meaningful representations of words during training\n",
        "    Embedding(input_dim=vocab_size,      # Total number of unique words (10,000)\n",
        "              output_dim=embedding_dim), # Size of each word vector (100)\n",
        "\n",
        "\n",
        "       # 2️⃣ LSTM Layer:\n",
        "    # - Long Short-Term Memory (LSTM) is a type of RNN good at remembering long-term dependencies\n",
        "    # - units=64: 64 memory units (neurons)\n",
        "    # - dropout=0.2: Drop 20% of inputs randomly during training to prevent overfitting\n",
        "    # - recurrent_dropout=0.2: Drop 20% of internal connections in the LSTM for regularization\n",
        "    LSTM(units=64,\n",
        "         dropout=0.2,\n",
        "         recurrent_dropout=0.2),\n",
        "\n",
        "\n",
        "    # 3️⃣ Dense Output Layer:\n",
        "    # - Final layer with 1 neuron using sigmoid activation\n",
        "    # - Outputs a value between 0 and 1 to classify as sarcastic or not\n",
        "    Dense(1, activation='sigmoid')\n",
        "])\n",
        "\n",
        "# Defining the shape of input:\n",
        "# - None means any batch size\n",
        "# - max_length is the number of words per sentence (fixed at 25)\n",
        "simple_lstm.build(input_shape=(None, max_length))\n",
        "\n",
        "\n",
        "simple_lstm.summary()\n"
      ]
    },
    {
      "cell_type": "code",
      "execution_count": null,
      "id": "b7a25fb9aac778d1",
      "metadata": {
        "id": "b7a25fb9aac778d1"
      },
      "outputs": [],
      "source": [
        "simple_lstm.compile(\n",
        "    loss='binary_crossentropy',  # The loss function used for binary classification (0 or 1)\n",
        "    optimizer='adam',            # Optimizer to adjust weights efficiently during training\n",
        "    metrics=['accuracy']         # Metric used to evaluate how well the model is doing\n",
        ")\n"
      ]
    },
    {
      "cell_type": "code",
      "execution_count": null,
      "id": "ceb0a12260171668",
      "metadata": {
        "id": "ceb0a12260171668",
        "colab": {
          "base_uri": "https://localhost:8080/"
        },
        "outputId": "790dd7f2-0a2e-4f4c-f696-e7af0bd32298"
      },
      "outputs": [
        {
          "output_type": "stream",
          "name": "stdout",
          "text": [
            "Epoch 1/15\n",
            "\u001b[1m322/322\u001b[0m \u001b[32m━━━━━━━━━━━━━━━━━━━━\u001b[0m\u001b[37m\u001b[0m \u001b[1m24s\u001b[0m 61ms/step - accuracy: 0.6158 - loss: 0.6345 - val_accuracy: 0.7834 - val_loss: 0.4576\n",
            "Epoch 2/15\n",
            "\u001b[1m322/322\u001b[0m \u001b[32m━━━━━━━━━━━━━━━━━━━━\u001b[0m\u001b[37m\u001b[0m \u001b[1m19s\u001b[0m 55ms/step - accuracy: 0.8496 - loss: 0.3625 - val_accuracy: 0.7878 - val_loss: 0.4686\n",
            "Epoch 3/15\n",
            "\u001b[1m322/322\u001b[0m \u001b[32m━━━━━━━━━━━━━━━━━━━━\u001b[0m\u001b[37m\u001b[0m \u001b[1m18s\u001b[0m 55ms/step - accuracy: 0.8915 - loss: 0.2794 - val_accuracy: 0.7921 - val_loss: 0.4803\n",
            "Epoch 4/15\n",
            "\u001b[1m322/322\u001b[0m \u001b[32m━━━━━━━━━━━━━━━━━━━━\u001b[0m\u001b[37m\u001b[0m \u001b[1m22s\u001b[0m 59ms/step - accuracy: 0.9144 - loss: 0.2338 - val_accuracy: 0.7886 - val_loss: 0.5150\n"
          ]
        }
      ],
      "source": [
        "# Training the LSTM model and saving the training history in 'history2'\n",
        "history2 = simple_lstm.fit(\n",
        "    X_train_pad,         # Padded training input data (same as used in RNN)\n",
        "    y_train,             # Target labels (0 = not sarcastic, 1 = sarcastic)\n",
        "\n",
        "    epochs=15,           # Maximum number of times the model will go through the full training data\n",
        "    batch_size=64,       # Model processes 64 samples at a time during training (faster and more stable)\n",
        "\n",
        "    validation_split=0.1,  # 10% of the training data will be used to validate the model after each epoch\n",
        "\n",
        "    callbacks=[early_stopping],  # Stops training early if validation loss stops improving for 3 epochs\n",
        "\n",
        "    class_weight = class_weights_dict,  # Handles class imbalance by giving more weight to less common class\n",
        "\n",
        "    verbose=1            # Shows detailed training progress (loss, accuracy, etc.)\n",
        ")\n"
      ]
    },
    {
      "cell_type": "code",
      "execution_count": null,
      "id": "f2aa6bc90548f7b7",
      "metadata": {
        "id": "f2aa6bc90548f7b7",
        "colab": {
          "base_uri": "https://localhost:8080/",
          "height": 493
        },
        "outputId": "bc5f21ea-c9ec-43f7-a7c3-fa9f49c025ed"
      },
      "outputs": [
        {
          "output_type": "display_data",
          "data": {
            "text/plain": [
              "<Figure size 1200x500 with 2 Axes>"
            ],
            "image/png": "[encoded data removed]"
          },
          "metadata": {}
        }
      ],
      "source": [
        "plt.figure(figsize=(12, 5))\n",
        "plt.subplot(1, 2, 1)\n",
        "plt.plot(history2.history['accuracy'])\n",
        "plt.plot(history2.history['val_accuracy'])\n",
        "plt.title('LSTM - Accuracy')\n",
        "plt.ylabel('Accuracy')\n",
        "plt.xlabel('Epoch')\n",
        "plt.legend(['Train', 'Validation'], loc='upper left')\n",
        "\n",
        "plt.subplot(1, 2, 2)\n",
        "plt.plot(history2.history['loss'])\n",
        "plt.plot(history2.history['val_loss'])\n",
        "plt.title(f'LSTM - Loss')\n",
        "plt.ylabel('Loss')\n",
        "plt.xlabel('Epoch')\n",
        "plt.legend(['Train', 'Validation'], loc='upper left')\n",
        "plt.tight_layout()\n",
        "plt.show()"
      ]
    },
    {
      "cell_type": "code",
      "execution_count": null,
      "id": "7de5f3efad24bb19",
      "metadata": {
        "id": "7de5f3efad24bb19",
        "colab": {
          "base_uri": "https://localhost:8080/",
          "height": 831
        },
        "outputId": "d01f77a9-a7b7-4d9a-b826-0d6c461e1a18"
      },
      "outputs": [
        {
          "output_type": "stream",
          "name": "stdout",
          "text": [
            "\n",
            "Evaluating Model 2: LSTM\n",
            "\u001b[1m179/179\u001b[0m \u001b[32m━━━━━━━━━━━━━━━━━━━━\u001b[0m\u001b[37m\u001b[0m \u001b[1m2s\u001b[0m 9ms/step\n",
            "\n",
            "Model 2: LSTM Accuracy: 0.7911\n"
          ]
        },
        {
          "output_type": "display_data",
          "data": {
            "text/plain": [
              "<Figure size 800x600 with 2 Axes>"
            ],
            "image/png": "[encoded data removed]"
          },
          "metadata": {}
        },
        {
          "output_type": "stream",
          "name": "stdout",
          "text": [
            "\n",
            "Model 2: LSTM Classification Report:\n",
            "                   precision    recall  f1-score   support\n",
            "\n",
            "Not Racist/Sexist       0.79      0.83      0.81      2995\n",
            "    Racist/Sexist       0.80      0.75      0.77      2729\n",
            "\n",
            "         accuracy                           0.79      5724\n",
            "        macro avg       0.79      0.79      0.79      5724\n",
            "     weighted avg       0.79      0.79      0.79      5724\n",
            "\n"
          ]
        }
      ],
      "source": [
        "print(\"\\nEvaluating Model 2: LSTM\")\n",
        "acc2, pred2 = evaluate_model(simple_lstm, X_test_pad, y_test, \"Model 2: LSTM\")"
      ]
    },
    {
      "cell_type": "markdown",
      "id": "cYIfJqi7oSBG",
      "metadata": {
        "id": "cYIfJqi7oSBG"
      },
      "source": [
        "## **3.2.3 LSTM with the Word2Vec**\n",
        "Word2Vec is a technique used to represent words as dense vectors (embeddings) in a continuous vector space. It captures the semantic meaning of words by placing similar words close together in the vector space. Word2Vec uses a neural network model to learn these word embeddings from large text corpora. There are two main approaches in Word2Vec:\n",
        "\n",
        "CBOW (Continuous Bag of Words): Predicts a word based on its surrounding context.\n",
        "\n",
        "Skip-Gram: Predicts the surrounding context words based on a given target word."
      ]
    },
    {
      "cell_type": "code",
      "execution_count": null,
      "id": "60efd511a3f8a585",
      "metadata": {
        "id": "60efd511a3f8a585",
        "colab": {
          "base_uri": "https://localhost:8080/"
        },
        "outputId": "26dc5e89-2302-4fcb-8176-455ee97dd5c6"
      },
      "outputs": [
        {
          "output_type": "stream",
          "name": "stdout",
          "text": [
            "[==================================================] 100.0% 128.1/128.1MB downloaded\n"
          ]
        }
      ],
      "source": [
        "import gensim.downloader as api\n",
        "embedding_model = api.load('glove-wiki-gigaword-100')"
      ]
    },
    {
      "cell_type": "code",
      "execution_count": null,
      "id": "Kp5CaK4x0QnI",
      "metadata": {
        "id": "Kp5CaK4x0QnI"
      },
      "outputs": [],
      "source": [
        "checkpoint_filepath = '/content/drive/MyDrive/AI and ML/Assessment/Assessment_2/rnn_best.h5'\n",
        "\n",
        "# Creating a model checkpoint callback\n",
        "# This automatically saves the best version of the model based on validation accuracy\n",
        "model_checkpoint_callback = keras.callbacks.ModelCheckpoint(\n",
        "    filepath=checkpoint_filepath,    # Where to save the model\n",
        "    monitor='val_accuracy',          # Watch the validation accuracy during training\n",
        "    mode='max',                      # Higher validation accuracy is better (maximize it)\n",
        "    save_weights_only=False,         # Save the entire model, not just weights\n",
        "    save_best_only=True              # Save only the best model (not after every epoch)\n",
        ")"
      ]
    },
    {
      "cell_type": "code",
      "execution_count": null,
      "id": "4f3597cc1d04ae34",
      "metadata": {
        "id": "4f3597cc1d04ae34",
        "colab": {
          "base_uri": "https://localhost:8080/"
        },
        "outputId": "536908c8-8ac0-4641-db35-1591b9719800"
      },
      "outputs": [
        {
          "output_type": "stream",
          "name": "stderr",
          "text": [
            "/usr/local/lib/python3.11/dist-packages/keras/src/layers/core/embedding.py:90: UserWarning: Argument `input_length` is deprecated. Just remove it.\n",
            "  warnings.warn(\n"
          ]
        }
      ],
      "source": [
        "import pickle  # Used to save Python objects like the tokenizer\n",
        "\n",
        "# Create a new tokenizer that handles 10,000 most frequent words\n",
        "# oov_token='<OOV>' handles unknown words (Out of Vocabulary)\n",
        "tokenizer = Tokenizer(num_words=10000, oov_token='<OOV>')\n",
        "tokenizer.fit_on_texts(X_train)  # Learn word index from training text\n",
        "\n",
        "# Saving the tokenizer to a file for future use (like when deploying or testing)\n",
        "with open(\"tokenizer.pkl\", \"wb\") as f:\n",
        "    pickle.dump(tokenizer, f)\n",
        "\n",
        "\n",
        "vocab_size = 10000  # Total number of words we are using\n",
        "embedding_dim = embedding_model.vector_size  # Dimension of each word vector (usually 100 or 300)\n",
        "\n",
        "# Create an empty embedding matrix of shape (10000, embedding_dim)\n",
        "# Each row will hold the vector for one word\n",
        "embedding_matrix = np.zeros((vocab_size, embedding_dim))\n",
        "\n",
        "\n",
        "# Loop through each word in the tokenizer's vocabulary\n",
        "for word, i in tokenizer.word_index.items():\n",
        "    if i >= vocab_size:\n",
        "        continue  # Skip words beyond the top 10,000\n",
        "    if word in embedding_model:\n",
        "        embedding_vector = embedding_model[word]  # Get the pre-trained vector for this word\n",
        "        embedding_matrix[i] = embedding_vector     # Place it in the embedding matrix\n",
        "\n",
        "\n",
        "model_w2v = Sequential([\n",
        "    # Embedding layer using the pre-trained Word2Vec matrix\n",
        "    Embedding(\n",
        "        input_dim=vocab_size,              # Number of words\n",
        "        output_dim=embedding_dim,          # Size of each vector\n",
        "        weights=[embedding_matrix],        # Use our custom embedding matrix\n",
        "        input_length=max_length,           # Input sequence length (e.g., 25 words per sentence)\n",
        "        trainable=False                    # We freeze the weights (no updating during training)\n",
        "    ),\n",
        "\n",
        "    # LSTM layer to learn the sequence patterns\n",
        "    LSTM(64),\n",
        "\n",
        "    # Output layer to classify (0 or 1) with sigmoid\n",
        "    Dense(1, activation='sigmoid')\n",
        "])\n",
        "\n",
        "\n",
        "# Set the input shape for the model explicitly\n",
        "model_w2v.build(input_shape=(None, max_length))"
      ]
    },
    {
      "cell_type": "code",
      "execution_count": null,
      "id": "e7YtUa8QAHtM",
      "metadata": {
        "id": "e7YtUa8QAHtM",
        "colab": {
          "base_uri": "https://localhost:8080/"
        },
        "outputId": "50cd1423-4d65-4b80-b221-add4a4cf0761"
      },
      "outputs": [
        {
          "output_type": "execute_result",
          "data": {
            "text/plain": [
              "100"
            ]
          },
          "metadata": {},
          "execution_count": 39
        }
      ],
      "source": [
        "embedding_dim"
      ]
    },
    {
      "cell_type": "code",
      "execution_count": null,
      "id": "2521f2eee6c6e0cc",
      "metadata": {
        "id": "2521f2eee6c6e0cc"
      },
      "outputs": [],
      "source": [
        "model_w2v.compile(\n",
        "    loss='binary_crossentropy',   # Used for binary classification tasks (0 or 1)\n",
        "    optimizer='adam',             # Adam is an efficient optimizer that adjusts learning rates automatically\n",
        "    metrics=['accuracy']          # Track accuracy during training and evaluation\n",
        ")\n"
      ]
    },
    {
      "cell_type": "code",
      "execution_count": null,
      "id": "eece610719390f66",
      "metadata": {
        "id": "eece610719390f66",
        "colab": {
          "base_uri": "https://localhost:8080/",
          "height": 199
        },
        "outputId": "54d9e1e6-f072-4d67-c225-08bf0240e9fe"
      },
      "outputs": [
        {
          "output_type": "display_data",
          "data": {
            "text/plain": [
              "\u001b[1mModel: \"sequential_2\"\u001b[0m\n"
            ],
            "text/html": [
              "<pre style=\"white-space:pre;overflow-x:auto;line-height:normal;font-family:Menlo,'DejaVu Sans Mono',consolas,'Courier New',monospace\"><span style=\"font-weight: bold\">Model: \"sequential_2\"</span>\n",
              "</pre>\n"
            ]
          },
          "metadata": {}
        },
        {
          "output_type": "display_data",
          "data": {
            "text/plain": [
              "┏━━━━━━━━━━━━━━━━━━━━━━━━━━━━━━━━━┳━━━━━━━━━━━━━━━━━━━━━━━━┳━━━━━━━━━━━━━━━┓\n",
              "┃\u001b[1m \u001b[0m\u001b[1mLayer (type)                   \u001b[0m\u001b[1m \u001b[0m┃\u001b[1m \u001b[0m\u001b[1mOutput Shape          \u001b[0m\u001b[1m \u001b[0m┃\u001b[1m \u001b[0m\u001b[1m      Param #\u001b[0m\u001b[1m \u001b[0m┃\n",
              "┡━━━━━━━━━━━━━━━━━━━━━━━━━━━━━━━━━╇━━━━━━━━━━━━━━━━━━━━━━━━╇━━━━━━━━━━━━━━━┩\n",
              "│ embedding_2 (\u001b[38;5;33mEmbedding\u001b[0m)         │ (\u001b[38;5;45mNone\u001b[0m, \u001b[38;5;34m25\u001b[0m, \u001b[38;5;34m100\u001b[0m)        │     \u001b[38;5;34m1,000,000\u001b[0m │\n",
              "├─────────────────────────────────┼────────────────────────┼───────────────┤\n",
              "│ lstm_1 (\u001b[38;5;33mLSTM\u001b[0m)                   │ (\u001b[38;5;45mNone\u001b[0m, \u001b[38;5;34m64\u001b[0m)             │        \u001b[38;5;34m42,240\u001b[0m │\n",
              "├─────────────────────────────────┼────────────────────────┼───────────────┤\n",
              "│ dense_2 (\u001b[38;5;33mDense\u001b[0m)                 │ (\u001b[38;5;45mNone\u001b[0m, \u001b[38;5;34m1\u001b[0m)              │            \u001b[38;5;34m65\u001b[0m │\n",
              "└─────────────────────────────────┴────────────────────────┴───────────────┘\n"
            ],
            "text/html": [
              "<pre style=\"white-space:pre;overflow-x:auto;line-height:normal;font-family:Menlo,'DejaVu Sans Mono',consolas,'Courier New',monospace\">┏━━━━━━━━━━━━━━━━━━━━━━━━━━━━━━━━━┳━━━━━━━━━━━━━━━━━━━━━━━━┳━━━━━━━━━━━━━━━┓\n",
              "┃<span style=\"font-weight: bold\"> Layer (type)                    </span>┃<span style=\"font-weight: bold\"> Output Shape           </span>┃<span style=\"font-weight: bold\">       Param # </span>┃\n",
              "┡━━━━━━━━━━━━━━━━━━━━━━━━━━━━━━━━━╇━━━━━━━━━━━━━━━━━━━━━━━━╇━━━━━━━━━━━━━━━┩\n",
              "│ embedding_2 (<span style=\"color: #0087ff; text-decoration-color: #0087ff\">Embedding</span>)         │ (<span style=\"color: #00d7ff; text-decoration-color: #00d7ff\">None</span>, <span style=\"color: #00af00; text-decoration-color: #00af00\">25</span>, <span style=\"color: #00af00; text-decoration-color: #00af00\">100</span>)        │     <span style=\"color: #00af00; text-decoration-color: #00af00\">1,000,000</span> │\n",
              "├─────────────────────────────────┼────────────────────────┼───────────────┤\n",
              "│ lstm_1 (<span style=\"color: #0087ff; text-decoration-color: #0087ff\">LSTM</span>)                   │ (<span style=\"color: #00d7ff; text-decoration-color: #00d7ff\">None</span>, <span style=\"color: #00af00; text-decoration-color: #00af00\">64</span>)             │        <span style=\"color: #00af00; text-decoration-color: #00af00\">42,240</span> │\n",
              "├─────────────────────────────────┼────────────────────────┼───────────────┤\n",
              "│ dense_2 (<span style=\"color: #0087ff; text-decoration-color: #0087ff\">Dense</span>)                 │ (<span style=\"color: #00d7ff; text-decoration-color: #00d7ff\">None</span>, <span style=\"color: #00af00; text-decoration-color: #00af00\">1</span>)              │            <span style=\"color: #00af00; text-decoration-color: #00af00\">65</span> │\n",
              "└─────────────────────────────────┴────────────────────────┴───────────────┘\n",
              "</pre>\n"
            ]
          },
          "metadata": {}
        },
        {
          "output_type": "display_data",
          "data": {
            "text/plain": [
              "\u001b[1m Total params: \u001b[0m\u001b[38;5;34m1,042,305\u001b[0m (3.98 MB)\n"
            ],
            "text/html": [
              "<pre style=\"white-space:pre;overflow-x:auto;line-height:normal;font-family:Menlo,'DejaVu Sans Mono',consolas,'Courier New',monospace\"><span style=\"font-weight: bold\"> Total params: </span><span style=\"color: #00af00; text-decoration-color: #00af00\">1,042,305</span> (3.98 MB)\n",
              "</pre>\n"
            ]
          },
          "metadata": {}
        },
        {
          "output_type": "display_data",
          "data": {
            "text/plain": [
              "\u001b[1m Trainable params: \u001b[0m\u001b[38;5;34m42,305\u001b[0m (165.25 KB)\n"
            ],
            "text/html": [
              "<pre style=\"white-space:pre;overflow-x:auto;line-height:normal;font-family:Menlo,'DejaVu Sans Mono',consolas,'Courier New',monospace\"><span style=\"font-weight: bold\"> Trainable params: </span><span style=\"color: #00af00; text-decoration-color: #00af00\">42,305</span> (165.25 KB)\n",
              "</pre>\n"
            ]
          },
          "metadata": {}
        },
        {
          "output_type": "display_data",
          "data": {
            "text/plain": [
              "\u001b[1m Non-trainable params: \u001b[0m\u001b[38;5;34m1,000,000\u001b[0m (3.81 MB)\n"
            ],
            "text/html": [
              "<pre style=\"white-space:pre;overflow-x:auto;line-height:normal;font-family:Menlo,'DejaVu Sans Mono',consolas,'Courier New',monospace\"><span style=\"font-weight: bold\"> Non-trainable params: </span><span style=\"color: #00af00; text-decoration-color: #00af00\">1,000,000</span> (3.81 MB)\n",
              "</pre>\n"
            ]
          },
          "metadata": {}
        }
      ],
      "source": [
        "model_w2v.summary()"
      ]
    },
    {
      "cell_type": "code",
      "execution_count": null,
      "id": "ypVMs77uzYsG",
      "metadata": {
        "id": "ypVMs77uzYsG",
        "colab": {
          "base_uri": "https://localhost:8080/"
        },
        "outputId": "116207a9-f54a-4e5d-a9ed-311277abea6a"
      },
      "outputs": [
        {
          "output_type": "execute_result",
          "data": {
            "text/plain": [
              "(22895, 25)"
            ]
          },
          "metadata": {},
          "execution_count": 42
        }
      ],
      "source": [
        "X_train_pad.shape"
      ]
    },
    {
      "cell_type": "code",
      "execution_count": null,
      "id": "3c869c49586bcafe",
      "metadata": {
        "id": "3c869c49586bcafe",
        "colab": {
          "base_uri": "https://localhost:8080/"
        },
        "outputId": "5bb9c1b2-5c74-4d16-af94-13164d65b825"
      },
      "outputs": [
        {
          "output_type": "stream",
          "name": "stdout",
          "text": [
            "Epoch 1/15\n",
            "\u001b[1m320/322\u001b[0m \u001b[32m━━━━━━━━━━━━━━━━━━━\u001b[0m\u001b[37m━\u001b[0m \u001b[1m0s\u001b[0m 24ms/step - accuracy: 0.6432 - loss: 0.6267"
          ]
        },
        {
          "output_type": "stream",
          "name": "stderr",
          "text": [
            "WARNING:absl:You are saving your model as an HDF5 file via `model.save()` or `keras.saving.save_model(model)`. This file format is considered legacy. We recommend using instead the native Keras format, e.g. `model.save('my_model.keras')` or `keras.saving.save_model(model, 'my_model.keras')`. \n"
          ]
        },
        {
          "output_type": "stream",
          "name": "stdout",
          "text": [
            "\b\b\b\b\b\b\b\b\b\b\b\b\b\b\b\b\b\b\b\b\b\b\b\b\b\b\b\b\b\b\b\b\b\b\b\b\b\b\b\b\b\b\b\b\b\b\b\b\b\b\b\b\b\b\b\b\b\b\b\b\b\b\b\b\b\b\b\b\b\b\b\b\b\b\b\r\u001b[1m322/322\u001b[0m \u001b[32m━━━━━━━━━━━━━━━━━━━━\u001b[0m\u001b[37m\u001b[0m \u001b[1m12s\u001b[0m 29ms/step - accuracy: 0.6435 - loss: 0.6263 - val_accuracy: 0.7485 - val_loss: 0.5174\n",
            "Epoch 2/15\n",
            "\u001b[1m321/322\u001b[0m \u001b[32m━━━━━━━━━━━━━━━━━━━\u001b[0m\u001b[37m━\u001b[0m \u001b[1m0s\u001b[0m 28ms/step - accuracy: 0.7538 - loss: 0.5046"
          ]
        },
        {
          "output_type": "stream",
          "name": "stderr",
          "text": [
            "WARNING:absl:You are saving your model as an HDF5 file via `model.save()` or `keras.saving.save_model(model)`. This file format is considered legacy. We recommend using instead the native Keras format, e.g. `model.save('my_model.keras')` or `keras.saving.save_model(model, 'my_model.keras')`. \n"
          ]
        },
        {
          "output_type": "stream",
          "name": "stdout",
          "text": [
            "\b\b\b\b\b\b\b\b\b\b\b\b\b\b\b\b\b\b\b\b\b\b\b\b\b\b\b\b\b\b\b\b\b\b\b\b\b\b\b\b\b\b\b\b\b\b\b\b\b\b\b\b\b\b\b\b\b\b\b\b\b\b\b\b\b\b\b\b\b\b\b\b\b\b\b\r\u001b[1m322/322\u001b[0m \u001b[32m━━━━━━━━━━━━━━━━━━━━\u001b[0m\u001b[37m\u001b[0m \u001b[1m11s\u001b[0m 30ms/step - accuracy: 0.7538 - loss: 0.5045 - val_accuracy: 0.7830 - val_loss: 0.4742\n",
            "Epoch 3/15\n",
            "\u001b[1m321/322\u001b[0m \u001b[32m━━━━━━━━━━━━━━━━━━━\u001b[0m\u001b[37m━\u001b[0m \u001b[1m0s\u001b[0m 30ms/step - accuracy: 0.7928 - loss: 0.4481"
          ]
        },
        {
          "output_type": "stream",
          "name": "stderr",
          "text": [
            "WARNING:absl:You are saving your model as an HDF5 file via `model.save()` or `keras.saving.save_model(model)`. This file format is considered legacy. We recommend using instead the native Keras format, e.g. `model.save('my_model.keras')` or `keras.saving.save_model(model, 'my_model.keras')`. \n"
          ]
        },
        {
          "output_type": "stream",
          "name": "stdout",
          "text": [
            "\b\b\b\b\b\b\b\b\b\b\b\b\b\b\b\b\b\b\b\b\b\b\b\b\b\b\b\b\b\b\b\b\b\b\b\b\b\b\b\b\b\b\b\b\b\b\b\b\b\b\b\b\b\b\b\b\b\b\b\b\b\b\b\b\b\b\b\b\b\b\b\b\b\b\b\r\u001b[1m322/322\u001b[0m \u001b[32m━━━━━━━━━━━━━━━━━━━━\u001b[0m\u001b[37m\u001b[0m \u001b[1m11s\u001b[0m 32ms/step - accuracy: 0.7928 - loss: 0.4481 - val_accuracy: 0.7934 - val_loss: 0.4509\n",
            "Epoch 4/15\n",
            "\u001b[1m322/322\u001b[0m \u001b[32m━━━━━━━━━━━━━━━━━━━━\u001b[0m\u001b[37m\u001b[0m \u001b[1m18s\u001b[0m 25ms/step - accuracy: 0.8121 - loss: 0.4042 - val_accuracy: 0.7817 - val_loss: 0.4538\n",
            "Epoch 5/15\n",
            "\u001b[1m322/322\u001b[0m \u001b[32m━━━━━━━━━━━━━━━━━━━━\u001b[0m\u001b[37m\u001b[0m \u001b[1m0s\u001b[0m 46ms/step - accuracy: 0.8224 - loss: 0.3872"
          ]
        },
        {
          "output_type": "stream",
          "name": "stderr",
          "text": [
            "WARNING:absl:You are saving your model as an HDF5 file via `model.save()` or `keras.saving.save_model(model)`. This file format is considered legacy. We recommend using instead the native Keras format, e.g. `model.save('my_model.keras')` or `keras.saving.save_model(model, 'my_model.keras')`. \n"
          ]
        },
        {
          "output_type": "stream",
          "name": "stdout",
          "text": [
            "\b\b\b\b\b\b\b\b\b\b\b\b\b\b\b\b\b\b\b\b\b\b\b\b\b\b\b\b\b\b\b\b\b\b\b\b\b\b\b\b\b\b\b\b\b\b\b\b\b\b\b\b\b\b\b\b\b\b\b\b\b\b\b\b\b\b\b\b\b\b\b\b\b\b\b\r\u001b[1m322/322\u001b[0m \u001b[32m━━━━━━━━━━━━━━━━━━━━\u001b[0m\u001b[37m\u001b[0m \u001b[1m16s\u001b[0m 49ms/step - accuracy: 0.8224 - loss: 0.3872 - val_accuracy: 0.8026 - val_loss: 0.4462\n",
            "Epoch 6/15\n",
            "\u001b[1m322/322\u001b[0m \u001b[32m━━━━━━━━━━━━━━━━━━━━\u001b[0m\u001b[37m\u001b[0m \u001b[1m20s\u001b[0m 47ms/step - accuracy: 0.8438 - loss: 0.3511 - val_accuracy: 0.7996 - val_loss: 0.4635\n",
            "Epoch 7/15\n",
            "\u001b[1m322/322\u001b[0m \u001b[32m━━━━━━━━━━━━━━━━━━━━\u001b[0m\u001b[37m\u001b[0m \u001b[1m23s\u001b[0m 55ms/step - accuracy: 0.8551 - loss: 0.3271 - val_accuracy: 0.7996 - val_loss: 0.4446\n",
            "Epoch 8/15\n",
            "\u001b[1m322/322\u001b[0m \u001b[32m━━━━━━━━━━━━━━━━━━━━\u001b[0m\u001b[37m\u001b[0m \u001b[1m21s\u001b[0m 56ms/step - accuracy: 0.8692 - loss: 0.3046 - val_accuracy: 0.7974 - val_loss: 0.4654\n",
            "Epoch 9/15\n",
            "\u001b[1m322/322\u001b[0m \u001b[32m━━━━━━━━━━━━━━━━━━━━\u001b[0m\u001b[37m\u001b[0m \u001b[1m10s\u001b[0m 31ms/step - accuracy: 0.8901 - loss: 0.2733 - val_accuracy: 0.7983 - val_loss: 0.4568\n",
            "Epoch 10/15\n",
            "\u001b[1m322/322\u001b[0m \u001b[32m━━━━━━━━━━━━━━━━━━━━\u001b[0m\u001b[37m\u001b[0m \u001b[1m10s\u001b[0m 30ms/step - accuracy: 0.8949 - loss: 0.2573 - val_accuracy: 0.7904 - val_loss: 0.5001\n"
          ]
        }
      ],
      "source": [
        "history_w2v = model_w2v.fit(   # Start training and store the training history in 'history_w2v'\n",
        "    X_train_pad,               # Input: padded training sequences (converted text to numbers, all same length)\n",
        "    y_train,                  # Output: target labels (0 for not sarcastic, 1 for sarcastic)\n",
        "\n",
        "    epochs=15,                # Train the model for up to 15 full passes over the data\n",
        "    batch_size=64,           # Process 64 samples at a time for each training step\n",
        "\n",
        "    validation_split=0.1,    # Use 10% of the training data for validation to monitor model performance\n",
        "\n",
        "    callbacks=[              # Use two callbacks:\n",
        "        early_stopping,              # Stop training early if validation loss stops improving\n",
        "        model_checkpoint_callback    # Save the best model based on highest validation accuracy\n",
        "    ],\n",
        "\n",
        "    class_weight=class_weights_dict,  # Apply class weights to handle imbalanced data\n",
        "\n",
        "    verbose=1                # Print detailed logs for training progress (loss, accuracy, etc.)\n",
        ")\n"
      ]
    },
    {
      "cell_type": "code",
      "execution_count": null,
      "id": "MZ99O8Zr6NAl",
      "metadata": {
        "id": "MZ99O8Zr6NAl",
        "colab": {
          "base_uri": "https://localhost:8080/"
        },
        "outputId": "2530cfbd-9b9d-4276-a46f-f48b62200cca"
      },
      "outputs": [
        {
          "output_type": "stream",
          "name": "stderr",
          "text": [
            "WARNING:absl:Compiled the loaded model, but the compiled metrics have yet to be built. `model.compile_metrics` will be empty until you train or evaluate the model.\n"
          ]
        }
      ],
      "source": [
        "# load the best model or model saved with the best weights\n",
        "\n",
        "best_model = keras.models.load_model(checkpoint_filepath)"
      ]
    },
    {
      "cell_type": "code",
      "execution_count": null,
      "id": "f271b76e54a52917",
      "metadata": {
        "id": "f271b76e54a52917",
        "colab": {
          "base_uri": "https://localhost:8080/",
          "height": 493
        },
        "outputId": "d3e08cfd-eabd-4ecd-a520-512ec1db7061"
      },
      "outputs": [
        {
          "output_type": "display_data",
          "data": {
            "text/plain": [
              "<Figure size 1200x500 with 2 Axes>"
            ],
            "image/png": "[encoded data removed]"
          },
          "metadata": {}
        }
      ],
      "source": [
        "# Visualize the results\n",
        "plt.figure(figsize=(12, 5))\n",
        "plt.subplot(1, 2, 1)\n",
        "plt.plot(history_w2v.history['accuracy'])\n",
        "plt.plot(history_w2v.history['val_accuracy'])\n",
        "plt.title('Word2Vec Model - Accuracy')\n",
        "plt.ylabel('Accuracy')\n",
        "plt.xlabel('Epoch')\n",
        "plt.legend(['Train', 'Validation'], loc='upper left')\n",
        "\n",
        "plt.subplot(1, 2, 2)\n",
        "plt.plot(history_w2v.history['loss'])\n",
        "plt.plot(history_w2v.history['val_loss'])\n",
        "plt.title('Word2Vec Model - Loss')\n",
        "plt.ylabel('Loss')\n",
        "plt.xlabel('Epoch')\n",
        "plt.legend(['Train', 'Validation'], loc='upper left')\n",
        "plt.tight_layout()\n",
        "plt.show()"
      ]
    },
    {
      "cell_type": "code",
      "execution_count": null,
      "id": "49ea53c7e73e5c0b",
      "metadata": {
        "id": "49ea53c7e73e5c0b",
        "colab": {
          "base_uri": "https://localhost:8080/",
          "height": 943
        },
        "outputId": "816432db-5e0a-43f4-a17c-0e35519ec3d0"
      },
      "outputs": [
        {
          "output_type": "stream",
          "name": "stdout",
          "text": [
            "\n",
            "Evaluating Model with Word2Vec embeddings:\n",
            "\u001b[1m179/179\u001b[0m \u001b[32m━━━━━━━━━━━━━━━━━━━━\u001b[0m\u001b[37m\u001b[0m \u001b[1m2s\u001b[0m 9ms/step\n",
            "\n",
            "Word2Vec Model Accuracy: 0.7942\n"
          ]
        },
        {
          "output_type": "display_data",
          "data": {
            "text/plain": [
              "<Figure size 800x600 with 2 Axes>"
            ],
            "image/png": "[encoded data removed]"
          },
          "metadata": {}
        },
        {
          "output_type": "stream",
          "name": "stdout",
          "text": [
            "\n",
            "Word2Vec Model Classification Report:\n",
            "                   precision    recall  f1-score   support\n",
            "\n",
            "Not Racist/Sexist       0.80      0.80      0.80      2995\n",
            "    Racist/Sexist       0.78      0.79      0.78      2729\n",
            "\n",
            "         accuracy                           0.79      5724\n",
            "        macro avg       0.79      0.79      0.79      5724\n",
            "     weighted avg       0.79      0.79      0.79      5724\n",
            "\n"
          ]
        },
        {
          "output_type": "execute_result",
          "data": {
            "text/plain": [
              "(0.794199860237596,\n",
              " array([[0],\n",
              "        [1],\n",
              "        [1],\n",
              "        ...,\n",
              "        [0],\n",
              "        [0],\n",
              "        [1]]))"
            ]
          },
          "metadata": {},
          "execution_count": 46
        }
      ],
      "source": [
        "# Evaluate the Word2Vec model\n",
        "print(\"\\nEvaluating Model with Word2Vec embeddings:\")\n",
        "evaluate_model(best_model, X_test_pad, y_test, \"Word2Vec Model\")"
      ]
    },
    {
      "cell_type": "code",
      "execution_count": null,
      "id": "xGT9TQT26tgG",
      "metadata": {
        "id": "xGT9TQT26tgG",
        "colab": {
          "base_uri": "https://localhost:8080/"
        },
        "outputId": "899e87b9-acaa-4365-ff7c-647e99a522be"
      },
      "outputs": [
        {
          "output_type": "stream",
          "name": "stdout",
          "text": [
            "Collecting gradio\n",
            "  Downloading gradio-5.29.0-py3-none-any.whl.metadata (16 kB)\n",
            "Collecting aiofiles<25.0,>=22.0 (from gradio)\n",
            "  Downloading aiofiles-24.1.0-py3-none-any.whl.metadata (10 kB)\n",
            "Requirement already satisfied: anyio<5.0,>=3.0 in /usr/local/lib/python3.11/dist-packages (from gradio) (4.9.0)\n",
            "Collecting fastapi<1.0,>=0.115.2 (from gradio)\n",
            "  Downloading fastapi-0.115.12-py3-none-any.whl.metadata (27 kB)\n",
            "Collecting ffmpy (from gradio)\n",
            "  Downloading ffmpy-0.5.0-py3-none-any.whl.metadata (3.0 kB)\n",
            "Collecting gradio-client==1.10.0 (from gradio)\n",
            "  Downloading gradio_client-1.10.0-py3-none-any.whl.metadata (7.1 kB)\n",
            "Collecting groovy~=0.1 (from gradio)\n",
            "  Downloading groovy-0.1.2-py3-none-any.whl.metadata (6.1 kB)\n",
            "Requirement already satisfied: httpx>=0.24.1 in /usr/local/lib/python3.11/dist-packages (from gradio) (0.28.1)\n",
            "Requirement already satisfied: huggingface-hub>=0.28.1 in /usr/local/lib/python3.11/dist-packages (from gradio) (0.31.1)\n",
            "Requirement already satisfied: jinja2<4.0 in /usr/local/lib/python3.11/dist-packages (from gradio) (3.1.6)\n",
            "Requirement already satisfied: markupsafe<4.0,>=2.0 in /usr/local/lib/python3.11/dist-packages (from gradio) (3.0.2)\n",
            "Requirement already satisfied: numpy<3.0,>=1.0 in /usr/local/lib/python3.11/dist-packages (from gradio) (1.23.5)\n",
            "Requirement already satisfied: orjson~=3.0 in /usr/local/lib/python3.11/dist-packages (from gradio) (3.10.18)\n",
            "Requirement already satisfied: packaging in /usr/local/lib/python3.11/dist-packages (from gradio) (24.2)\n",
            "Requirement already satisfied: pandas<3.0,>=1.0 in /usr/local/lib/python3.11/dist-packages (from gradio) (2.2.2)\n",
            "Requirement already satisfied: pillow<12.0,>=8.0 in /usr/local/lib/python3.11/dist-packages (from gradio) (11.2.1)\n",
            "Requirement already satisfied: pydantic<2.12,>=2.0 in /usr/local/lib/python3.11/dist-packages (from gradio) (2.11.4)\n",
            "Collecting pydub (from gradio)\n",
            "  Downloading pydub-0.25.1-py2.py3-none-any.whl.metadata (1.4 kB)\n",
            "Collecting python-multipart>=0.0.18 (from gradio)\n",
            "  Downloading python_multipart-0.0.20-py3-none-any.whl.metadata (1.8 kB)\n",
            "Requirement already satisfied: pyyaml<7.0,>=5.0 in /usr/local/lib/python3.11/dist-packages (from gradio) (6.0.2)\n",
            "Collecting ruff>=0.9.3 (from gradio)\n",
            "  Downloading ruff-0.11.9-py3-none-manylinux_2_17_x86_64.manylinux2014_x86_64.whl.metadata (25 kB)\n",
            "Collecting safehttpx<0.2.0,>=0.1.6 (from gradio)\n",
            "  Downloading safehttpx-0.1.6-py3-none-any.whl.metadata (4.2 kB)\n",
            "Collecting semantic-version~=2.0 (from gradio)\n",
            "  Downloading semantic_version-2.10.0-py2.py3-none-any.whl.metadata (9.7 kB)\n",
            "Collecting starlette<1.0,>=0.40.0 (from gradio)\n",
            "  Downloading starlette-0.46.2-py3-none-any.whl.metadata (6.2 kB)\n",
            "Collecting tomlkit<0.14.0,>=0.12.0 (from gradio)\n",
            "  Downloading tomlkit-0.13.2-py3-none-any.whl.metadata (2.7 kB)\n",
            "Requirement already satisfied: typer<1.0,>=0.12 in /usr/local/lib/python3.11/dist-packages (from gradio) (0.15.3)\n",
            "Requirement already satisfied: typing-extensions~=4.0 in /usr/local/lib/python3.11/dist-packages (from gradio) (4.13.2)\n",
            "Collecting uvicorn>=0.14.0 (from gradio)\n",
            "  Downloading uvicorn-0.34.2-py3-none-any.whl.metadata (6.5 kB)\n",
            "Requirement already satisfied: fsspec in /usr/local/lib/python3.11/dist-packages (from gradio-client==1.10.0->gradio) (2025.3.2)\n",
            "Requirement already satisfied: websockets<16.0,>=10.0 in /usr/local/lib/python3.11/dist-packages (from gradio-client==1.10.0->gradio) (15.0.1)\n",
            "Requirement already satisfied: idna>=2.8 in /usr/local/lib/python3.11/dist-packages (from anyio<5.0,>=3.0->gradio) (3.10)\n",
            "Requirement already satisfied: sniffio>=1.1 in /usr/local/lib/python3.11/dist-packages (from anyio<5.0,>=3.0->gradio) (1.3.1)\n",
            "Requirement already satisfied: certifi in /usr/local/lib/python3.11/dist-packages (from httpx>=0.24.1->gradio) (2025.4.26)\n",
            "Requirement already satisfied: httpcore==1.* in /usr/local/lib/python3.11/dist-packages (from httpx>=0.24.1->gradio) (1.0.9)\n",
            "Requirement already satisfied: h11>=0.16 in /usr/local/lib/python3.11/dist-packages (from httpcore==1.*->httpx>=0.24.1->gradio) (0.16.0)\n",
            "Requirement already satisfied: filelock in /usr/local/lib/python3.11/dist-packages (from huggingface-hub>=0.28.1->gradio) (3.18.0)\n",
            "Requirement already satisfied: requests in /usr/local/lib/python3.11/dist-packages (from huggingface-hub>=0.28.1->gradio) (2.32.3)\n",
            "Requirement already satisfied: tqdm>=4.42.1 in /usr/local/lib/python3.11/dist-packages (from huggingface-hub>=0.28.1->gradio) (4.67.1)\n",
            "Requirement already satisfied: hf-xet<2.0.0,>=1.1.0 in /usr/local/lib/python3.11/dist-packages (from huggingface-hub>=0.28.1->gradio) (1.1.0)\n",
            "Requirement already satisfied: python-dateutil>=2.8.2 in /usr/local/lib/python3.11/dist-packages (from pandas<3.0,>=1.0->gradio) (2.9.0.post0)\n",
            "Requirement already satisfied: pytz>=2020.1 in /usr/local/lib/python3.11/dist-packages (from pandas<3.0,>=1.0->gradio) (2025.2)\n",
            "Requirement already satisfied: tzdata>=2022.7 in /usr/local/lib/python3.11/dist-packages (from pandas<3.0,>=1.0->gradio) (2025.2)\n",
            "Requirement already satisfied: annotated-types>=0.6.0 in /usr/local/lib/python3.11/dist-packages (from pydantic<2.12,>=2.0->gradio) (0.7.0)\n",
            "Requirement already satisfied: pydantic-core==2.33.2 in /usr/local/lib/python3.11/dist-packages (from pydantic<2.12,>=2.0->gradio) (2.33.2)\n",
            "Requirement already satisfied: typing-inspection>=0.4.0 in /usr/local/lib/python3.11/dist-packages (from pydantic<2.12,>=2.0->gradio) (0.4.0)\n",
            "Requirement already satisfied: click>=8.0.0 in /usr/local/lib/python3.11/dist-packages (from typer<1.0,>=0.12->gradio) (8.1.8)\n",
            "Requirement already satisfied: shellingham>=1.3.0 in /usr/local/lib/python3.11/dist-packages (from typer<1.0,>=0.12->gradio) (1.5.4)\n",
            "Requirement already satisfied: rich>=10.11.0 in /usr/local/lib/python3.11/dist-packages (from typer<1.0,>=0.12->gradio) (13.9.4)\n",
            "Requirement already satisfied: six>=1.5 in /usr/local/lib/python3.11/dist-packages (from python-dateutil>=2.8.2->pandas<3.0,>=1.0->gradio) (1.17.0)\n",
            "Requirement already satisfied: markdown-it-py>=2.2.0 in /usr/local/lib/python3.11/dist-packages (from rich>=10.11.0->typer<1.0,>=0.12->gradio) (3.0.0)\n",
            "Requirement already satisfied: pygments<3.0.0,>=2.13.0 in /usr/local/lib/python3.11/dist-packages (from rich>=10.11.0->typer<1.0,>=0.12->gradio) (2.19.1)\n",
            "Requirement already satisfied: charset-normalizer<4,>=2 in /usr/local/lib/python3.11/dist-packages (from requests->huggingface-hub>=0.28.1->gradio) (3.4.2)\n",
            "Requirement already satisfied: urllib3<3,>=1.21.1 in /usr/local/lib/python3.11/dist-packages (from requests->huggingface-hub>=0.28.1->gradio) (2.4.0)\n",
            "Requirement already satisfied: mdurl~=0.1 in /usr/local/lib/python3.11/dist-packages (from markdown-it-py>=2.2.0->rich>=10.11.0->typer<1.0,>=0.12->gradio) (0.1.2)\n",
            "Downloading gradio-5.29.0-py3-none-any.whl (54.1 MB)\n",
            "\u001b[2K   \u001b[90m━━━━━━━━━━━━━━━━━━━━━━━━━━━━━━━━━━━━━━━━\u001b[0m \u001b[32m54.1/54.1 MB\u001b[0m \u001b[31m16.0 MB/s\u001b[0m eta \u001b[36m0:00:00\u001b[0m\n",
            "\u001b[?25hDownloading gradio_client-1.10.0-py3-none-any.whl (322 kB)\n",
            "\u001b[2K   \u001b[90m━━━━━━━━━━━━━━━━━━━━━━━━━━━━━━━━━━━━━━━━\u001b[0m \u001b[32m322.9/322.9 kB\u001b[0m \u001b[31m21.6 MB/s\u001b[0m eta \u001b[36m0:00:00\u001b[0m\n",
            "\u001b[?25hDownloading aiofiles-24.1.0-py3-none-any.whl (15 kB)\n",
            "Downloading fastapi-0.115.12-py3-none-any.whl (95 kB)\n",
            "\u001b[2K   \u001b[90m━━━━━━━━━━━━━━━━━━━━━━━━━━━━━━━━━━━━━━━━\u001b[0m \u001b[32m95.2/95.2 kB\u001b[0m \u001b[31m7.8 MB/s\u001b[0m eta \u001b[36m0:00:00\u001b[0m\n",
            "\u001b[?25hDownloading groovy-0.1.2-py3-none-any.whl (14 kB)\n",
            "Downloading python_multipart-0.0.20-py3-none-any.whl (24 kB)\n",
            "Downloading ruff-0.11.9-py3-none-manylinux_2_17_x86_64.manylinux2014_x86_64.whl (11.5 MB)\n",
            "\u001b[2K   \u001b[90m━━━━━━━━━━━━━━━━━━━━━━━━━━━━━━━━━━━━━━━━\u001b[0m \u001b[32m11.5/11.5 MB\u001b[0m \u001b[31m96.8 MB/s\u001b[0m eta \u001b[36m0:00:00\u001b[0m\n",
            "\u001b[?25hDownloading safehttpx-0.1.6-py3-none-any.whl (8.7 kB)\n",
            "Downloading semantic_version-2.10.0-py2.py3-none-any.whl (15 kB)\n",
            "Downloading starlette-0.46.2-py3-none-any.whl (72 kB)\n",
            "\u001b[2K   \u001b[90m━━━━━━━━━━━━━━━━━━━━━━━━━━━━━━━━━━━━━━━━\u001b[0m \u001b[32m72.0/72.0 kB\u001b[0m \u001b[31m5.4 MB/s\u001b[0m eta \u001b[36m0:00:00\u001b[0m\n",
            "\u001b[?25hDownloading tomlkit-0.13.2-py3-none-any.whl (37 kB)\n",
            "Downloading uvicorn-0.34.2-py3-none-any.whl (62 kB)\n",
            "\u001b[2K   \u001b[90m━━━━━━━━━━━━━━━━━━━━━━━━━━━━━━━━━━━━━━━━\u001b[0m \u001b[32m62.5/62.5 kB\u001b[0m \u001b[31m4.9 MB/s\u001b[0m eta \u001b[36m0:00:00\u001b[0m\n",
            "\u001b[?25hDownloading ffmpy-0.5.0-py3-none-any.whl (6.0 kB)\n",
            "Downloading pydub-0.25.1-py2.py3-none-any.whl (32 kB)\n",
            "Installing collected packages: pydub, uvicorn, tomlkit, semantic-version, ruff, python-multipart, groovy, ffmpy, aiofiles, starlette, safehttpx, gradio-client, fastapi, gradio\n",
            "Successfully installed aiofiles-24.1.0 fastapi-0.115.12 ffmpy-0.5.0 gradio-5.29.0 gradio-client-1.10.0 groovy-0.1.2 pydub-0.25.1 python-multipart-0.0.20 ruff-0.11.9 safehttpx-0.1.6 semantic-version-2.10.0 starlette-0.46.2 tomlkit-0.13.2 uvicorn-0.34.2\n"
          ]
        }
      ],
      "source": [
        "!pip install gradio"
      ]
    },
    {
      "cell_type": "code",
      "execution_count": null,
      "id": "uU295H1EQC7e",
      "metadata": {
        "id": "uU295H1EQC7e",
        "colab": {
          "base_uri": "https://localhost:8080/",
          "height": 596
        },
        "outputId": "0d963543-8faa-4f1f-f9bc-b6984327300b"
      },
      "outputs": [
        {
          "output_type": "stream",
          "name": "stdout",
          "text": [
            "Colab notebook detected. To show errors in colab notebook, set debug=True in launch()\n",
            "* Running on public URL: https://3ba409e0d3dad00e27.gradio.live\n",
            "\n",
            "This share link expires in 1 week. For free permanent hosting and GPU upgrades, run `gradio deploy` from the terminal in the working directory to deploy to Hugging Face Spaces (https://huggingface.co/spaces)\n"
          ]
        },
        {
          "output_type": "display_data",
          "data": {
            "text/plain": [
              "<IPython.core.display.HTML object>"
            ],
            "text/html": [
              "<div><iframe src=\"https://3ba409e0d3dad00e27.gradio.live\" width=\"100%\" height=\"500\" allow=\"autoplay; camera; microphone; clipboard-read; clipboard-write;\" frameborder=\"0\" allowfullscreen></iframe></div>"
            ]
          },
          "metadata": {}
        },
        {
          "output_type": "execute_result",
          "data": {
            "text/plain": []
          },
          "metadata": {},
          "execution_count": 48
        }
      ],
      "source": [
        "import gradio as gr\n",
        "import pickle\n",
        "\n",
        "# Load the tokenizer\n",
        "with open(\"tokenizer.pkl\", \"rb\") as f:\n",
        "    tokenizer = pickle.load(f)\n",
        "\n",
        "# Assuming 'best_model' is your loaded Word2Vec model (from previous code)\n",
        "# and 'max_len' is the maximum sequence length used during training\n",
        "\n",
        "def predict_sarcasm(headline):\n",
        "    headline_clean = preprocess_text(headline)  # Assuming 'preprocess_text' is your cleaning function\n",
        "    headline_seq = tokenizer.texts_to_sequences([headline_clean])\n",
        "    headline_pad = pad_sequences(headline_seq, padding='post', maxlen=25)  # Use max_len from your training\n",
        "    prediction = best_model.predict(headline_pad)[0][0]\n",
        "    return \"Sarcastic\" if prediction >= 0.5 else \"Not Sarcastic\"  # Adjust threshold if needed\n",
        "\n",
        "# Create the Gradio Interface\n",
        "interface = gr.Interface(\n",
        "    fn=predict_sarcasm,\n",
        "    inputs=gr.Textbox(lines=2, placeholder=\"Enter a headline...\"),\n",
        "    outputs=\"text\",\n",
        "    title=\"Sarcasm Detection\",\n",
        "    description=\"Enter a headline to detect if it's sarcastic or not.\"\n",
        ")\n",
        "\n",
        "# Launch in Colab\n",
        "interface.launch(share=True)"
      ]
    }
  ],
  "metadata": {
    "colab": {
      "provenance": []
    },
    "kernelspec": {
      "display_name": "Python 3",
      "name": "python3"
    },
    "language_info": {
      "name": "python"
    }
  },
  "nbformat": 4,
  "nbformat_minor": 5
}