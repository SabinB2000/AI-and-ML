{
  "nbformat": 4,
  "nbformat_minor": 0,
  "metadata": {
    "colab": {
      "provenance": []
    },
    "kernelspec": {
      "name": "python3",
      "display_name": "Python 3"
    },
    "language_info": {
      "name": "python"
    }
  },
  "cells": [
    {
      "cell_type": "code",
      "execution_count": null,
      "metadata": {
        "id": "pMpgOS92gQlB"
      },
      "outputs": [],
      "source": [
        "from pyspark.sql import SparkSession\n",
        "\n",
        "spark = SparkSession.builder \\\n",
        "    .appName(\"StudentDataFrame\") \\\n",
        "    .getOrCreate()"
      ]
    },
    {
      "cell_type": "code",
      "source": [
        "df = spark.read.json(\"/content/drive/MyDrive/AI & ML/week 8/json/student.json\")"
      ],
      "metadata": {
        "id": "qDfIn66FhLjn"
      },
      "execution_count": null,
      "outputs": []
    },
    {
      "cell_type": "code",
      "source": [
        "df.show()"
      ],
      "metadata": {
        "colab": {
          "base_uri": "https://localhost:8080/"
        },
        "id": "pY7JTQodk7vQ",
        "outputId": "aae65d09-99cc-4490-a454-4fca5a201dde"
      },
      "execution_count": null,
      "outputs": [
        {
          "output_type": "stream",
          "name": "stdout",
          "text": [
            "+----+----------------+--------------------+-------------------+------+\n",
            "| age|          course|               email|              lives|  name|\n",
            "+----+----------------+--------------------+-------------------+------+\n",
            "|NULL|BSc Horticulture|                NULL|        Bridge Farm|   Tom|\n",
            "|  45| MSc Agriculture|                NULL|               NULL| Helen|\n",
            "|  30|            NULL|S.Carter@borchest...|    Borchester Farm| Alice|\n",
            "|  21|BSc Horticulture|                NULL|        Bridge Farm|Johnny|\n",
            "|NULL| MSc Agriculture|                NULL|    Brookfield Farm|  Ruth|\n",
            "|  17|            NULL|                NULL|    Brookfield Farm|   Ben|\n",
            "|  40|            NULL|A.Macy@borchester...|Honeysuckle Cottage|  Adam|\n",
            "|  21|         BSc PPE|P.Aldridge@oxford...|             Oxford|Phoebe|\n",
            "|  25|            NULL|P.Archer@borchest...|   Rickyard Cottage|   Pip|\n",
            "|  35|HND Food Science|                NULL|Honeysuckle Cottage|   Ian|\n",
            "+----+----------------+--------------------+-------------------+------+\n",
            "\n"
          ]
        }
      ]
    },
    {
      "cell_type": "code",
      "source": [
        "df.printSchema()"
      ],
      "metadata": {
        "colab": {
          "base_uri": "https://localhost:8080/"
        },
        "id": "XZSI9KatlGXh",
        "outputId": "9e7742c2-8f00-454a-ff79-6f63ebe2d126"
      },
      "execution_count": null,
      "outputs": [
        {
          "output_type": "stream",
          "name": "stdout",
          "text": [
            "root\n",
            " |-- age: long (nullable = true)\n",
            " |-- course: string (nullable = true)\n",
            " |-- email: string (nullable = true)\n",
            " |-- lives: string (nullable = true)\n",
            " |-- name: string (nullable = true)\n",
            "\n"
          ]
        }
      ]
    },
    {
      "cell_type": "code",
      "source": [
        "df.select(\"name\").show()"
      ],
      "metadata": {
        "colab": {
          "base_uri": "https://localhost:8080/"
        },
        "id": "kxHTW_uelKRI",
        "outputId": "e83c44fd-3247-445e-b8b4-ac2e98e82c17"
      },
      "execution_count": null,
      "outputs": [
        {
          "output_type": "stream",
          "name": "stdout",
          "text": [
            "+------+\n",
            "|  name|\n",
            "+------+\n",
            "|   Tom|\n",
            "| Helen|\n",
            "| Alice|\n",
            "|Johnny|\n",
            "|  Ruth|\n",
            "|   Ben|\n",
            "|  Adam|\n",
            "|Phoebe|\n",
            "|   Pip|\n",
            "|   Ian|\n",
            "+------+\n",
            "\n"
          ]
        }
      ]
    },
    {
      "cell_type": "code",
      "source": [
        "df.select(df['name'], df['age'] + 1).show()"
      ],
      "metadata": {
        "colab": {
          "base_uri": "https://localhost:8080/"
        },
        "id": "SDVJgJLTlM5r",
        "outputId": "39a5bdc9-3d83-419f-91e5-cf632bb8117e"
      },
      "execution_count": null,
      "outputs": [
        {
          "output_type": "stream",
          "name": "stdout",
          "text": [
            "+------+---------+\n",
            "|  name|(age + 1)|\n",
            "+------+---------+\n",
            "|   Tom|     NULL|\n",
            "| Helen|       46|\n",
            "| Alice|       31|\n",
            "|Johnny|       22|\n",
            "|  Ruth|     NULL|\n",
            "|   Ben|       18|\n",
            "|  Adam|       41|\n",
            "|Phoebe|       22|\n",
            "|   Pip|       26|\n",
            "|   Ian|       36|\n",
            "+------+---------+\n",
            "\n"
          ]
        }
      ]
    },
    {
      "cell_type": "code",
      "source": [
        "df.filter(df['age'] > 21).show()"
      ],
      "metadata": {
        "colab": {
          "base_uri": "https://localhost:8080/"
        },
        "id": "a_LyK2c6lP2z",
        "outputId": "c5a8f1d5-1f2c-43ef-833a-4a42e68e5223"
      },
      "execution_count": null,
      "outputs": [
        {
          "output_type": "stream",
          "name": "stdout",
          "text": [
            "+---+----------------+--------------------+-------------------+-----+\n",
            "|age|          course|               email|              lives| name|\n",
            "+---+----------------+--------------------+-------------------+-----+\n",
            "| 45| MSc Agriculture|                NULL|               NULL|Helen|\n",
            "| 30|            NULL|S.Carter@borchest...|    Borchester Farm|Alice|\n",
            "| 40|            NULL|A.Macy@borchester...|Honeysuckle Cottage| Adam|\n",
            "| 25|            NULL|P.Archer@borchest...|   Rickyard Cottage|  Pip|\n",
            "| 35|HND Food Science|                NULL|Honeysuckle Cottage|  Ian|\n",
            "+---+----------------+--------------------+-------------------+-----+\n",
            "\n"
          ]
        }
      ]
    },
    {
      "cell_type": "code",
      "source": [
        "df.groupBy(\"course\").count().show()"
      ],
      "metadata": {
        "colab": {
          "base_uri": "https://localhost:8080/"
        },
        "id": "lPWoHy3ClS1D",
        "outputId": "ea7330b3-772f-4c2c-b5bf-7ea2d38e6e19"
      },
      "execution_count": null,
      "outputs": [
        {
          "output_type": "stream",
          "name": "stdout",
          "text": [
            "+----------------+-----+\n",
            "|          course|count|\n",
            "+----------------+-----+\n",
            "|         BSc PPE|    1|\n",
            "| MSc Agriculture|    2|\n",
            "|            NULL|    4|\n",
            "|BSc Horticulture|    2|\n",
            "|HND Food Science|    1|\n",
            "+----------------+-----+\n",
            "\n"
          ]
        }
      ]
    },
    {
      "cell_type": "code",
      "source": [
        "df.createOrReplaceTempView(\"student\")\n"
      ],
      "metadata": {
        "id": "YtsMz5WclW0t"
      },
      "execution_count": null,
      "outputs": []
    },
    {
      "cell_type": "code",
      "source": [
        "sqlDF = spark.sql(\"SELECT name, age, course FROM student WHERE age > 21\")\n"
      ],
      "metadata": {
        "id": "LUTGpw6UlaqR"
      },
      "execution_count": null,
      "outputs": []
    },
    {
      "cell_type": "code",
      "source": [
        "sqlDF.show()"
      ],
      "metadata": {
        "colab": {
          "base_uri": "https://localhost:8080/"
        },
        "id": "OWMFIHZDlc4o",
        "outputId": "780f8037-60dd-4a78-b153-38872ae42674"
      },
      "execution_count": null,
      "outputs": [
        {
          "output_type": "stream",
          "name": "stdout",
          "text": [
            "+-----+---+----------------+\n",
            "| name|age|          course|\n",
            "+-----+---+----------------+\n",
            "|Helen| 45| MSc Agriculture|\n",
            "|Alice| 30|            NULL|\n",
            "| Adam| 40|            NULL|\n",
            "|  Pip| 25|            NULL|\n",
            "|  Ian| 35|HND Food Science|\n",
            "+-----+---+----------------+\n",
            "\n"
          ]
        }
      ]
    },
    {
      "cell_type": "code",
      "source": [
        "df1 = spark.read.json(\"/content/drive/MyDrive/AI & ML/week 8/json/weather.json\")\n"
      ],
      "metadata": {
        "id": "6bC-h_Lelia3"
      },
      "execution_count": null,
      "outputs": []
    },
    {
      "cell_type": "code",
      "source": [
        "df.show()"
      ],
      "metadata": {
        "colab": {
          "base_uri": "https://localhost:8080/"
        },
        "id": "RrVC_DyTlrGo",
        "outputId": "604082d3-6795-4fc9-c7aa-08b67cc01a0d"
      },
      "execution_count": null,
      "outputs": [
        {
          "output_type": "stream",
          "name": "stdout",
          "text": [
            "+----+----------------+--------------------+-------------------+------+\n",
            "| age|          course|               email|              lives|  name|\n",
            "+----+----------------+--------------------+-------------------+------+\n",
            "|NULL|BSc Horticulture|                NULL|        Bridge Farm|   Tom|\n",
            "|  45| MSc Agriculture|                NULL|               NULL| Helen|\n",
            "|  30|            NULL|S.Carter@borchest...|    Borchester Farm| Alice|\n",
            "|  21|BSc Horticulture|                NULL|        Bridge Farm|Johnny|\n",
            "|NULL| MSc Agriculture|                NULL|    Brookfield Farm|  Ruth|\n",
            "|  17|            NULL|                NULL|    Brookfield Farm|   Ben|\n",
            "|  40|            NULL|A.Macy@borchester...|Honeysuckle Cottage|  Adam|\n",
            "|  21|         BSc PPE|P.Aldridge@oxford...|             Oxford|Phoebe|\n",
            "|  25|            NULL|P.Archer@borchest...|   Rickyard Cottage|   Pip|\n",
            "|  35|HND Food Science|                NULL|Honeysuckle Cottage|   Ian|\n",
            "+----+----------------+--------------------+-------------------+------+\n",
            "\n"
          ]
        }
      ]
    },
    {
      "cell_type": "code",
      "source": [
        "df.show(40)"
      ],
      "metadata": {
        "colab": {
          "base_uri": "https://localhost:8080/"
        },
        "id": "TUDyU2TcltQx",
        "outputId": "69b86bd2-407e-42c4-e6bb-63eaef4f3b1e"
      },
      "execution_count": null,
      "outputs": [
        {
          "output_type": "stream",
          "name": "stdout",
          "text": [
            "+----+----------------+--------------------+-------------------+------+\n",
            "| age|          course|               email|              lives|  name|\n",
            "+----+----------------+--------------------+-------------------+------+\n",
            "|NULL|BSc Horticulture|                NULL|        Bridge Farm|   Tom|\n",
            "|  45| MSc Agriculture|                NULL|               NULL| Helen|\n",
            "|  30|            NULL|S.Carter@borchest...|    Borchester Farm| Alice|\n",
            "|  21|BSc Horticulture|                NULL|        Bridge Farm|Johnny|\n",
            "|NULL| MSc Agriculture|                NULL|    Brookfield Farm|  Ruth|\n",
            "|  17|            NULL|                NULL|    Brookfield Farm|   Ben|\n",
            "|  40|            NULL|A.Macy@borchester...|Honeysuckle Cottage|  Adam|\n",
            "|  21|         BSc PPE|P.Aldridge@oxford...|             Oxford|Phoebe|\n",
            "|  25|            NULL|P.Archer@borchest...|   Rickyard Cottage|   Pip|\n",
            "|  35|HND Food Science|                NULL|Honeysuckle Cottage|   Ian|\n",
            "+----+----------------+--------------------+-------------------+------+\n",
            "\n"
          ]
        }
      ]
    },
    {
      "cell_type": "code",
      "source": [
        "df.printSchema()"
      ],
      "metadata": {
        "colab": {
          "base_uri": "https://localhost:8080/"
        },
        "id": "zGHFEL7clvyx",
        "outputId": "a50b730f-1ae0-436f-cbe2-42d3f4dd573b"
      },
      "execution_count": null,
      "outputs": [
        {
          "output_type": "stream",
          "name": "stdout",
          "text": [
            "root\n",
            " |-- age: long (nullable = true)\n",
            " |-- course: string (nullable = true)\n",
            " |-- email: string (nullable = true)\n",
            " |-- lives: string (nullable = true)\n",
            " |-- name: string (nullable = true)\n",
            "\n"
          ]
        }
      ]
    },
    {
      "cell_type": "code",
      "source": [
        "df.count()"
      ],
      "metadata": {
        "colab": {
          "base_uri": "https://localhost:8080/"
        },
        "id": "nCKCRv8zlx7n",
        "outputId": "739d2ca4-3efb-4744-b81a-bba25427d194"
      },
      "execution_count": null,
      "outputs": [
        {
          "output_type": "execute_result",
          "data": {
            "text/plain": [
              "10"
            ]
          },
          "metadata": {},
          "execution_count": 19
        }
      ]
    },
    {
      "cell_type": "code",
      "source": [
        "df.first()"
      ],
      "metadata": {
        "colab": {
          "base_uri": "https://localhost:8080/"
        },
        "id": "5b4FW1uvl08g",
        "outputId": "9bf8b4e9-0421-472e-da97-4ab82d078ac3"
      },
      "execution_count": null,
      "outputs": [
        {
          "output_type": "execute_result",
          "data": {
            "text/plain": [
              "Row(age=None, course='BSc Horticulture', email=None, lives='Bridge Farm', name='Tom')"
            ]
          },
          "metadata": {},
          "execution_count": 20
        }
      ]
    },
    {
      "cell_type": "code",
      "source": [
        "df.take(2)"
      ],
      "metadata": {
        "colab": {
          "base_uri": "https://localhost:8080/"
        },
        "id": "Bbgyowtxl69t",
        "outputId": "986ca670-a52b-48b0-e08b-894e5a0ab034"
      },
      "execution_count": null,
      "outputs": [
        {
          "output_type": "execute_result",
          "data": {
            "text/plain": [
              "[Row(age=None, course='BSc Horticulture', email=None, lives='Bridge Farm', name='Tom'),\n",
              " Row(age=45, course='MSc Agriculture', email=None, lives=None, name='Helen')]"
            ]
          },
          "metadata": {},
          "execution_count": 21
        }
      ]
    },
    {
      "cell_type": "code",
      "source": [
        "df.describe().show()"
      ],
      "metadata": {
        "colab": {
          "base_uri": "https://localhost:8080/"
        },
        "id": "uwmpF2P5mA8-",
        "outputId": "590a8b91-4325-4150-f930-8f24a50d1102"
      },
      "execution_count": null,
      "outputs": [
        {
          "output_type": "stream",
          "name": "stdout",
          "text": [
            "+-------+------------------+----------------+--------------------+----------------+----+\n",
            "|summary|               age|          course|               email|           lives|name|\n",
            "+-------+------------------+----------------+--------------------+----------------+----+\n",
            "|  count|                 8|               6|                   4|               9|  10|\n",
            "|   mean|             29.25|            NULL|                NULL|            NULL|NULL|\n",
            "| stddev|10.010708552059926|            NULL|                NULL|            NULL|NULL|\n",
            "|    min|                17|BSc Horticulture|A.Macy@borchester...| Borchester Farm|Adam|\n",
            "|    max|                45| MSc Agriculture|S.Carter@borchest...|Rickyard Cottage| Tom|\n",
            "+-------+------------------+----------------+--------------------+----------------+----+\n",
            "\n"
          ]
        }
      ]
    },
    {
      "cell_type": "code",
      "source": [
        "df.describe().first()"
      ],
      "metadata": {
        "colab": {
          "base_uri": "https://localhost:8080/"
        },
        "id": "b-s04OaemEL8",
        "outputId": "7d43b977-8be1-433c-b7bf-3b0985ae92bf"
      },
      "execution_count": null,
      "outputs": [
        {
          "output_type": "execute_result",
          "data": {
            "text/plain": [
              "Row(summary='count', age='8', course='6', email='4', lives='9', name='10')"
            ]
          },
          "metadata": {},
          "execution_count": 23
        }
      ]
    },
    {
      "cell_type": "code",
      "source": [
        "df1.select(\"user.screen_name\").show(40)\n"
      ],
      "metadata": {
        "colab": {
          "base_uri": "https://localhost:8080/"
        },
        "id": "Segy-QvdmGUy",
        "outputId": "f5e1aceb-be09-47d6-9cd8-675ae802d5c0"
      },
      "execution_count": null,
      "outputs": [
        {
          "output_type": "stream",
          "name": "stdout",
          "text": [
            "+---------------+\n",
            "|    screen_name|\n",
            "+---------------+\n",
            "|  highland_andy|\n",
            "|  highland_andy|\n",
            "|   WAWilliams15|\n",
            "|      AKinniyos|\n",
            "|       pararu25|\n",
            "| WalesCoastPath|\n",
            "|       MadFitba|\n",
            "|    Lillybetmax|\n",
            "|         Duo935|\n",
            "|          owz09|\n",
            "|      CairnToby|\n",
            "|        SGIRE82|\n",
            "|   BaitTheLines|\n",
            "|townsendoutdoor|\n",
            "|  jaewestside12|\n",
            "|  highland_andy|\n",
            "|     KateVause1|\n",
            "|   stoneartgall|\n",
            "|svencjohn_steve|\n",
            "|          PGWCC|\n",
            "|     Nightfly28|\n",
            "|      gcmallers|\n",
            "|   MCThomas1965|\n",
            "|CarolPoyerPeett|\n",
            "|        gez1087|\n",
            "|serimalbpickles|\n",
            "|     Samwill444|\n",
            "| EmmamorrisxELM|\n",
            "|   WAWilliams15|\n",
            "|        Mairebc|\n",
            "| Weather_Nathan|\n",
            "|   wenglishpaul|\n",
            "|    RuthHolmes2|\n",
            "|      leanjeanp|\n",
            "|DerekTheWeather|\n",
            "|   MCThomas1965|\n",
            "|  ruths_gallery|\n",
            "|       TimTar96|\n",
            "|  ruths_gallery|\n",
            "|  goldfinches12|\n",
            "+---------------+\n",
            "only showing top 40 rows\n",
            "\n"
          ]
        }
      ]
    },
    {
      "cell_type": "code",
      "source": [
        "df1.select ('user.screen_name').show(40)"
      ],
      "metadata": {
        "colab": {
          "base_uri": "https://localhost:8080/"
        },
        "id": "gz3ORIlamOh1",
        "outputId": "efb73234-c235-49cc-f5e5-3b872f1c0757"
      },
      "execution_count": null,
      "outputs": [
        {
          "output_type": "stream",
          "name": "stdout",
          "text": [
            "+---------------+\n",
            "|    screen_name|\n",
            "+---------------+\n",
            "|  highland_andy|\n",
            "|  highland_andy|\n",
            "|   WAWilliams15|\n",
            "|      AKinniyos|\n",
            "|       pararu25|\n",
            "| WalesCoastPath|\n",
            "|       MadFitba|\n",
            "|    Lillybetmax|\n",
            "|         Duo935|\n",
            "|          owz09|\n",
            "|      CairnToby|\n",
            "|        SGIRE82|\n",
            "|   BaitTheLines|\n",
            "|townsendoutdoor|\n",
            "|  jaewestside12|\n",
            "|  highland_andy|\n",
            "|     KateVause1|\n",
            "|   stoneartgall|\n",
            "|svencjohn_steve|\n",
            "|          PGWCC|\n",
            "|     Nightfly28|\n",
            "|      gcmallers|\n",
            "|   MCThomas1965|\n",
            "|CarolPoyerPeett|\n",
            "|        gez1087|\n",
            "|serimalbpickles|\n",
            "|     Samwill444|\n",
            "| EmmamorrisxELM|\n",
            "|   WAWilliams15|\n",
            "|        Mairebc|\n",
            "| Weather_Nathan|\n",
            "|   wenglishpaul|\n",
            "|    RuthHolmes2|\n",
            "|      leanjeanp|\n",
            "|DerekTheWeather|\n",
            "|   MCThomas1965|\n",
            "|  ruths_gallery|\n",
            "|       TimTar96|\n",
            "|  ruths_gallery|\n",
            "|  goldfinches12|\n",
            "+---------------+\n",
            "only showing top 40 rows\n",
            "\n"
          ]
        }
      ]
    },
    {
      "cell_type": "code",
      "source": [
        "df1.filter(df1['lang'] == \"en\").show()"
      ],
      "metadata": {
        "colab": {
          "base_uri": "https://localhost:8080/"
        },
        "id": "Dm7zxw8MmSK6",
        "outputId": "cecb0bc1-5e32-4dbe-e866-9a926e86654f"
      },
      "execution_count": null,
      "outputs": [
        {
          "output_type": "stream",
          "name": "stdout",
          "text": [
            "+------------+-----------+--------------------+--------------------+-----------------+--------------+---------+----+-------------------+-------------------+-----------------------+---------------------+-------------------------+-------------------+-----------------------+---------------+----+------------+--------------------+------------------+-------------+----------------+--------------------+-------------+---------+--------------------+--------------------+--------------------+---------+--------------------+\n",
            "|contributors|coordinates|          created_at|            entities|extended_entities|favorite_count|favorited| geo|                 id|             id_str|in_reply_to_screen_name|in_reply_to_status_id|in_reply_to_status_id_str|in_reply_to_user_id|in_reply_to_user_id_str|is_quote_status|lang|    metadata|               place|possibly_sensitive|quoted_status|quoted_status_id|quoted_status_id_str|retweet_count|retweeted|    retweeted_status|              source|                text|truncated|                user|\n",
            "+------------+-----------+--------------------+--------------------+-----------------+--------------+---------+----+-------------------+-------------------+-----------------------+---------------------+-------------------------+-------------------+-----------------------+---------------+----+------------+--------------------+------------------+-------------+----------------+--------------------+-------------+---------+--------------------+--------------------+--------------------+---------+--------------------+\n",
            "|        NULL|       NULL|Mon Feb 03 20:02:...|{[], NULL, [], [{...|             NULL|             0|    false|NULL|1224423049782603783|1224423049782603783|            Lillybetmax|  1224417619173834752|      1224417619173834752|1139793943032414208|    1139793943032414208|          false|  en|{en, recent}|                NULL|              NULL|         NULL|            NULL|                NULL|            0|    false|                NULL|<a href=\"http://t...|@Lillybetmax @Vis...|     true|{false, Wed Aug 2...|\n",
            "|        NULL|       NULL|Mon Feb 03 19:48:...|{[], NULL, [], []...|             NULL|             0|    false|NULL|1224419463136600064|1224419463136600064|                   NULL|                 NULL|                     NULL|               NULL|                   NULL|          false|  en|{en, recent}|                NULL|              NULL|         NULL|            NULL|                NULL|            3|    false|{NULL, NULL, Mon ...|<a href=\"http://t...|RT @therileyshot:...|    false|{false, Tue Jun 2...|\n",
            "|        NULL|       NULL|Mon Feb 03 19:45:...|{[], NULL, [], []...|             NULL|             0|    false|NULL|1224418703703408642|1224418703703408642|                   NULL|                 NULL|                     NULL|               NULL|                   NULL|          false|  en|{en, recent}|                NULL|              NULL|         NULL|            NULL|                NULL|           14|    false|{NULL, NULL, Mon ...|<a href=\"http://t...|RT @DerekTheWeath...|    false|{false, Mon Mar 2...|\n",
            "|        NULL|       NULL|Mon Feb 03 19:45:...|{[], NULL, [], []...|             NULL|             0|    false|NULL|1224418582056054785|1224418582056054785|                   NULL|                 NULL|                     NULL|               NULL|                   NULL|          false|  en|{en, recent}|                NULL|              NULL|         NULL|            NULL|                NULL|            2|    false|{NULL, NULL, Mon ...|<a href=\"http://t...|RT @highland_andy...|    false|{false, Thu Apr 2...|\n",
            "|        NULL|       NULL|Mon Feb 03 19:41:...|{[], NULL, [], [{...|             NULL|             1|    false|NULL|1224417619173834752|1224417619173834752|          highland_andy|  1224409962190905344|      1224409962190905344|          789877778|              789877778|          false|  en|{en, recent}|                NULL|              NULL|         NULL|            NULL|                NULL|            0|    false|                NULL|<a href=\"http://t...|@highland_andy @V...|     true|{false, Sat Jun 1...|\n",
            "|        NULL|       NULL|Mon Feb 03 19:41:...|{[], NULL, [], []...|             NULL|             0|    false|NULL|1224417601310396416|1224417601310396416|                   NULL|                 NULL|                     NULL|               NULL|                   NULL|          false|  en|{en, recent}|                NULL|              NULL|         NULL|            NULL|                NULL|           14|    false|{NULL, NULL, Mon ...|<a href=\"https://...|RT @DerekTheWeath...|    false|{false, Fri Jan 0...|\n",
            "|        NULL|       NULL|Mon Feb 03 19:40:...|{[], NULL, [], []...|             NULL|             0|    false|NULL|1224417439968112647|1224417439968112647|           WAWilliams15|  1224402911406497793|      1224402911406497793|          116506847|              116506847|          false|  en|{en, recent}|                NULL|              NULL|         NULL|            NULL|                NULL|            0|    false|                NULL|<a href=\"http://t...|@WAWilliams15 @De...|    false|{false, Wed Oct 1...|\n",
            "|        NULL|       NULL|Mon Feb 03 19:39:...|{[], NULL, [], []...|             NULL|             0|    false|NULL|1224417020999012352|1224417020999012352|                   NULL|                 NULL|                     NULL|               NULL|                   NULL|          false|  en|{en, recent}|                NULL|              NULL|         NULL|            NULL|                NULL|           14|    false|{NULL, NULL, Mon ...|<a href=\"http://t...|RT @DerekTheWeath...|    false|{false, Fri Nov 0...|\n",
            "|        NULL|       NULL|Mon Feb 03 19:32:...|{[], NULL, [], [{...|             NULL|             1|    false|NULL|1224415421094400000|1224415421094400000|          highland_andy|  1224409962190905344|      1224409962190905344|          789877778|              789877778|          false|  en|{en, recent}|                NULL|              NULL|         NULL|            NULL|                NULL|            0|    false|                NULL|<a href=\"http://t...|@highland_andy @V...|     true|{false, Sun Jun 1...|\n",
            "|        NULL|       NULL|Mon Feb 03 19:28:...|{[], NULL, [], []...|             NULL|             0|    false|NULL|1224414269690843138|1224414269690843138|                   NULL|                 NULL|                     NULL|               NULL|                   NULL|          false|  en|{en, recent}|                NULL|              NULL|         NULL|            NULL|                NULL|           14|    false|{NULL, NULL, Mon ...|<a href=\"http://t...|RT @DerekTheWeath...|    false|{false, Fri Jul 1...|\n",
            "|        NULL|       NULL|Mon Feb 03 19:17:...|{[], NULL, [], []...|             NULL|             0|    false|NULL|1224411533788270592|1224411533788270592|                   NULL|                 NULL|                     NULL|               NULL|                   NULL|          false|  en|{en, recent}|                NULL|              NULL|         NULL|            NULL|                NULL|            2|    false|{NULL, NULL, Mon ...|<a href=\"https://...|RT @highland_andy...|    false|{false, Fri Jan 2...|\n",
            "|        NULL|       NULL|Mon Feb 03 19:10:...|{[], NULL, [], [{...|             NULL|            43|    false|NULL|1224409962190905344|1224409962190905344|                   NULL|                 NULL|                     NULL|               NULL|                   NULL|          false|  en|{en, recent}|                NULL|             false|         NULL|            NULL|                NULL|            2|    false|                NULL|<a href=\"http://t...|This image has to...|     true|{false, Wed Aug 2...|\n",
            "|        NULL|       NULL|Mon Feb 03 19:07:...|{[{[107, 116], St...|             NULL|             0|    false|NULL|1224409064735756288|1224409064735756288|                   NULL|                 NULL|                     NULL|               NULL|                   NULL|          false|  en|{en, recent}|                NULL|              NULL|         NULL|            NULL|                NULL|            3|    false|{NULL, NULL, Mon ...|<a href=\"http://t...|RT @frasergj: A s...|    false|{false, Tue Sep 1...|\n",
            "|        NULL|       NULL|Mon Feb 03 19:05:...|{[], NULL, [], []...|             NULL|             0|    false|NULL|1224408680906489858|1224408680906489858|                   NULL|                 NULL|                     NULL|               NULL|                   NULL|          false|  en|{en, recent}|                NULL|              NULL|         NULL|            NULL|                NULL|            6|    false|{NULL, NULL, Sun ...|<a href=\"http://t...|RT @dunbar44: A s...|    false|{false, Sat Jun 1...|\n",
            "|        NULL|       NULL|Mon Feb 03 19:01:...|{[], NULL, [], []...|             NULL|             0|    false|NULL|1224407616807370757|1224407616807370757|                   NULL|                 NULL|                     NULL|               NULL|                   NULL|          false|  en|{en, recent}|                NULL|              NULL|         NULL|            NULL|                NULL|           14|    false|{NULL, NULL, Mon ...|<a href=\"http://t...|RT @DerekTheWeath...|    false|{false, Sat Dec 2...|\n",
            "|        NULL|       NULL|Mon Feb 03 18:59:...|{[], NULL, [], []...|             NULL|             0|    false|NULL|1224407088446820353|1224407088446820353|                   NULL|                 NULL|                     NULL|               NULL|                   NULL|          false|  en|{en, recent}|                NULL|              NULL|         NULL|            NULL|                NULL|           24|    false|{NULL, NULL, Mon ...|<a href=\"http://t...|RT @bbcweather: W...|    false|{false, Sun May 2...|\n",
            "|        NULL|       NULL|Mon Feb 03 18:56:...|{[], NULL, [], []...|             NULL|             0|    false|NULL|1224406347640340482|1224406347640340482|                   NULL|                 NULL|                     NULL|               NULL|                   NULL|          false|  en|{en, recent}|                NULL|              NULL|         NULL|            NULL|                NULL|           14|    false|{NULL, NULL, Mon ...|<a href=\"http://t...|RT @DerekTheWeath...|    false|{false, Tue May 1...|\n",
            "|        NULL|       NULL|Mon Feb 03 18:55:...|{[], NULL, [], []...|             NULL|             0|    false|NULL|1224405989790797829|1224405989790797829|        DerekTheWeather|  1224400483282014214|      1224400483282014214|          309929507|              309929507|          false|  en|{en, recent}|                NULL|              NULL|         NULL|            NULL|                NULL|            0|    false|                NULL|<a href=\"http://t...|@DerekTheWeather ...|    false|{false, Fri Feb 0...|\n",
            "|        NULL|       NULL|Mon Feb 03 18:52:...|{[], NULL, [], [{...|             NULL|             0|    false|NULL|1224405292416425985|1224405292416425985|              sotcstill|  1219369906480844802|      1219369906480844802|          324611883|              324611883|          false|  en|{en, recent}|{{[[[-6.791799, 5...|              NULL|         NULL|            NULL|                NULL|            0|    false|                NULL|<a href=\"http://t...|@sotcstill @OldDu...|     true|{false, Sat May 2...|\n",
            "|        NULL|       NULL|Mon Feb 03 18:52:...|{[], NULL, [], []...|             NULL|             0|    false|NULL|1224405283285487616|1224405283285487616|                   NULL|                 NULL|                     NULL|               NULL|                   NULL|          false|  en|{en, recent}|                NULL|              NULL|         NULL|            NULL|                NULL|           14|    false|{NULL, NULL, Mon ...|<a href=\"http://t...|RT @DerekTheWeath...|    false|{false, Thu Sep 2...|\n",
            "+------------+-----------+--------------------+--------------------+-----------------+--------------+---------+----+-------------------+-------------------+-----------------------+---------------------+-------------------------+-------------------+-----------------------+---------------+----+------------+--------------------+------------------+-------------+----------------+--------------------+-------------+---------+--------------------+--------------------+--------------------+---------+--------------------+\n",
            "only showing top 20 rows\n",
            "\n"
          ]
        }
      ]
    },
    {
      "cell_type": "code",
      "source": [
        "df1.filter(df1['lang'] == \"en\").select('user.screen_name', 'user.location').show(40)"
      ],
      "metadata": {
        "colab": {
          "base_uri": "https://localhost:8080/"
        },
        "id": "9RmhaPd4mndn",
        "outputId": "04241103-5785-4e10-c230-225086693950"
      },
      "execution_count": null,
      "outputs": [
        {
          "output_type": "stream",
          "name": "stdout",
          "text": [
            "+---------------+--------------------+\n",
            "|    screen_name|            location|\n",
            "+---------------+--------------------+\n",
            "|  highland_andy|Highlands of Scot...|\n",
            "|      AKinniyos|                Utah|\n",
            "| WalesCoastPath|               Wales|\n",
            "|       MadFitba|                    |\n",
            "|    Lillybetmax|   God's Own County |\n",
            "|         Duo935|      United Kingdom|\n",
            "|          owz09|     Ammanford,wales|\n",
            "|      CairnToby|                    |\n",
            "|        SGIRE82|             Ireland|\n",
            "|   BaitTheLines|      Swansea, Wales|\n",
            "|townsendoutdoor|          Cairngorms|\n",
            "|  highland_andy|Highlands of Scot...|\n",
            "|     KateVause1|Weston-super-Mare...|\n",
            "|   stoneartgall|                    |\n",
            "|svencjohn_steve|       Pembrokeshire|\n",
            "|          PGWCC|Port Glasgow Inve...|\n",
            "|     Nightfly28|   Coleford, England|\n",
            "|      gcmallers|     Hawarden, Wales|\n",
            "|   MCThomas1965|    Wicklow, Ireland|\n",
            "|CarolPoyerPeett|          West Wales|\n",
            "|        gez1087|            Wales UK|\n",
            "|serimalbpickles|               Wales|\n",
            "|     Samwill444|           Llanmadoc|\n",
            "| EmmamorrisxELM|Wales, United Kin...|\n",
            "|   WAWilliams15|               Wales|\n",
            "|        Mairebc|      🏴󠁧󠁢󠁷󠁬󠁳󠁿|\n",
            "| Weather_Nathan|Uk, Doncaster, So...|\n",
            "|   wenglishpaul|      Cardiff, Wales|\n",
            "|    RuthHolmes2|            Scotland|\n",
            "|      leanjeanp|    Central Scotland|\n",
            "|DerekTheWeather|Barrybados-Cardif...|\n",
            "|   MCThomas1965|    Wicklow, Ireland|\n",
            "|  ruths_gallery|Twickenham, Great...|\n",
            "|       TimTar96|         Buckingham |\n",
            "|  goldfinches12| Eastbourne, England|\n",
            "|PaoloSaracino10|                    |\n",
            "|    MyLunaRose1|          Surrey UK |\n",
            "|        GRMcKen|          NW England|\n",
            "|        JFr4ser|             Glasgow|\n",
            "|    SBillcliffe|                    |\n",
            "+---------------+--------------------+\n",
            "only showing top 40 rows\n",
            "\n"
          ]
        }
      ]
    },
    {
      "cell_type": "code",
      "source": [
        "df1.select('text').filter(df1['text'].contains(\"sun\")).show(10, False) # Changed df to df1 in the filter condition"
      ],
      "metadata": {
        "colab": {
          "base_uri": "https://localhost:8080/"
        },
        "id": "infsay_-mwpp",
        "outputId": "4ebb88c2-f68c-4907-b2f3-9b7768c9bba5"
      },
      "execution_count": null,
      "outputs": [
        {
          "output_type": "stream",
          "name": "stdout",
          "text": [
            "+--------------------------------------------------------------------------------------------------------------------------------------------+\n",
            "|text                                                                                                                                        |\n",
            "+--------------------------------------------------------------------------------------------------------------------------------------------+\n",
            "|RT @frasergj: A sunny day at @StirUni this afternoon....until the wind picked up, blowing rain clouds over #Stirling (3/2) #WeatherWatcherG…|\n",
            "|RT @frasergj: After a sunny start around #Stirling winds blowing rain clouds across (3/2) #WeatherWatcherGraham @BBCScotWeather @BBCAimsir… |\n",
            "|RT @frasergj: A sunny day at @StirUni this afternoon....until the wind picked up, blowing rain clouds over #Stirling (3/2) #WeatherWatcherG…|\n",
            "|RT @frasergj: A sunny day at @StirUni this afternoon....until the wind picked up, blowing rain clouds over #Stirling (3/2) #WeatherWatcherG…|\n",
            "|RT @frasergj: After a sunny start around #Stirling winds blowing rain clouds across (3/2) #WeatherWatcherGraham @BBCScotWeather @BBCAimsir… |\n",
            "|#sunset over #m6n #rushhour @bbcmtd @bbcweather Birmingham https://t.co/xfmiSqR0u3                                                          |\n",
            "|A chilly sunset in ryhill park @JonMitchellITV @kerriegosneyTV @itvweather @metoffice @BBCWthrWatchers @bbcweather… https://t.co/3kHPFOj7W2 |\n",
            "|A sunny day at @StirUni this afternoon....until the wind picked up, blowing rain clouds over #Stirling (3/2)… https://t.co/nkyHmHar8d       |\n",
            "|RT @frasergj: After a sunny start around #Stirling winds blowing rain clouds across (3/2) #WeatherWatcherGraham @BBCScotWeather @BBCAimsir… |\n",
            "|RT @frasergj: After a sunny start around #Stirling winds blowing rain clouds across (3/2) #WeatherWatcherGraham @BBCScotWeather @BBCAimsir… |\n",
            "+--------------------------------------------------------------------------------------------------------------------------------------------+\n",
            "only showing top 10 rows\n",
            "\n"
          ]
        }
      ]
    },
    {
      "cell_type": "code",
      "source": [
        "df1.createOrReplaceTempView(\"weather\")"
      ],
      "metadata": {
        "id": "oM_neFvSm56X"
      },
      "execution_count": null,
      "outputs": []
    },
    {
      "cell_type": "code",
      "source": [
        "sqlDF = spark.sql(\"SELECT user.screen_name, user.location FROM weather WHERE lang = 'en' \")"
      ],
      "metadata": {
        "id": "lw6ogz2DnBbG"
      },
      "execution_count": null,
      "outputs": []
    },
    {
      "cell_type": "code",
      "source": [
        "sqlDF = spark.sql('SELECT user.screen_name, user.location FROM weather WHERE lang = \"en\"')"
      ],
      "metadata": {
        "id": "SxGSDa3qnGuO"
      },
      "execution_count": null,
      "outputs": []
    },
    {
      "cell_type": "code",
      "source": [
        "sqlDF.show(50)"
      ],
      "metadata": {
        "colab": {
          "base_uri": "https://localhost:8080/"
        },
        "id": "13tCbX7mnMXC",
        "outputId": "c4589776-10e1-4b24-9c4c-0b38127d454e"
      },
      "execution_count": null,
      "outputs": [
        {
          "output_type": "stream",
          "name": "stdout",
          "text": [
            "+---------------+--------------------+\n",
            "|    screen_name|            location|\n",
            "+---------------+--------------------+\n",
            "|  highland_andy|Highlands of Scot...|\n",
            "|      AKinniyos|                Utah|\n",
            "| WalesCoastPath|               Wales|\n",
            "|       MadFitba|                    |\n",
            "|    Lillybetmax|   God's Own County |\n",
            "|         Duo935|      United Kingdom|\n",
            "|          owz09|     Ammanford,wales|\n",
            "|      CairnToby|                    |\n",
            "|        SGIRE82|             Ireland|\n",
            "|   BaitTheLines|      Swansea, Wales|\n",
            "|townsendoutdoor|          Cairngorms|\n",
            "|  highland_andy|Highlands of Scot...|\n",
            "|     KateVause1|Weston-super-Mare...|\n",
            "|   stoneartgall|                    |\n",
            "|svencjohn_steve|       Pembrokeshire|\n",
            "|          PGWCC|Port Glasgow Inve...|\n",
            "|     Nightfly28|   Coleford, England|\n",
            "|      gcmallers|     Hawarden, Wales|\n",
            "|   MCThomas1965|    Wicklow, Ireland|\n",
            "|CarolPoyerPeett|          West Wales|\n",
            "|        gez1087|            Wales UK|\n",
            "|serimalbpickles|               Wales|\n",
            "|     Samwill444|           Llanmadoc|\n",
            "| EmmamorrisxELM|Wales, United Kin...|\n",
            "|   WAWilliams15|               Wales|\n",
            "|        Mairebc|      🏴󠁧󠁢󠁷󠁬󠁳󠁿|\n",
            "| Weather_Nathan|Uk, Doncaster, So...|\n",
            "|   wenglishpaul|      Cardiff, Wales|\n",
            "|    RuthHolmes2|            Scotland|\n",
            "|      leanjeanp|    Central Scotland|\n",
            "|DerekTheWeather|Barrybados-Cardif...|\n",
            "|   MCThomas1965|    Wicklow, Ireland|\n",
            "|  ruths_gallery|Twickenham, Great...|\n",
            "|       TimTar96|         Buckingham |\n",
            "|  goldfinches12| Eastbourne, England|\n",
            "|PaoloSaracino10|                    |\n",
            "|    MyLunaRose1|          Surrey UK |\n",
            "|        GRMcKen|          NW England|\n",
            "|        JFr4ser|             Glasgow|\n",
            "|    SBillcliffe|                    |\n",
            "|  lizzz_elliott|    Bristol, England|\n",
            "|Paullambert1999|      United Kingdom|\n",
            "|     usagreat88|                    |\n",
            "|  elly189245978|Hemel Hempstead, ...|\n",
            "|   lana_preston|                    |\n",
            "|    visitnessie|                    |\n",
            "|ViewFromEngland|Hertfordshire, En...|\n",
            "|  LetDogsBeDogs|Coventry, West Mi...|\n",
            "|        PABHERE|                    |\n",
            "|    SBillcliffe|                    |\n",
            "+---------------+--------------------+\n",
            "only showing top 50 rows\n",
            "\n"
          ]
        }
      ]
    },
    {
      "cell_type": "code",
      "source": [
        "sqlDF = spark.sql(\"SELECT count(*) AS weather_count FROM weather\").show()"
      ],
      "metadata": {
        "colab": {
          "base_uri": "https://localhost:8080/"
        },
        "id": "kLFLQ8-LnPWx",
        "outputId": "1742c0b8-0bb4-4b47-fc88-8065781d94c9"
      },
      "execution_count": null,
      "outputs": [
        {
          "output_type": "stream",
          "name": "stdout",
          "text": [
            "+-------------+\n",
            "|weather_count|\n",
            "+-------------+\n",
            "|          250|\n",
            "+-------------+\n",
            "\n"
          ]
        }
      ]
    },
    {
      "cell_type": "code",
      "source": [
        "sqlDF = spark.sql(\"SELECT lang, count(*) AS language_count FROM weather GROUP BY lang\").show()"
      ],
      "metadata": {
        "colab": {
          "base_uri": "https://localhost:8080/"
        },
        "id": "bqNAUMcTnRsC",
        "outputId": "06828f3a-e96f-4c5b-f8f8-50388acac8f3"
      },
      "execution_count": null,
      "outputs": [
        {
          "output_type": "stream",
          "name": "stdout",
          "text": [
            "+----+--------------+\n",
            "|lang|language_count|\n",
            "+----+--------------+\n",
            "|  en|           236|\n",
            "| und|            13|\n",
            "|  es|             1|\n",
            "+----+--------------+\n",
            "\n"
          ]
        }
      ]
    },
    {
      "cell_type": "code",
      "source": [
        "sqlDF = spark.sql(\"SELECT text FROM weather WHERE text LIKE '%sun%' \").show()\n"
      ],
      "metadata": {
        "colab": {
          "base_uri": "https://localhost:8080/"
        },
        "id": "_u4nF7V1nT5z",
        "outputId": "19a1432a-4fdf-4f09-da72-f7f4bf9d5061"
      },
      "execution_count": null,
      "outputs": [
        {
          "output_type": "stream",
          "name": "stdout",
          "text": [
            "+--------------------+\n",
            "|                text|\n",
            "+--------------------+\n",
            "|RT @frasergj: A s...|\n",
            "|RT @frasergj: Aft...|\n",
            "|RT @frasergj: A s...|\n",
            "|RT @frasergj: A s...|\n",
            "|RT @frasergj: Aft...|\n",
            "|#sunset over #m6n...|\n",
            "|A chilly sunset i...|\n",
            "|A sunny day at @S...|\n",
            "|RT @frasergj: Aft...|\n",
            "|RT @frasergj: Aft...|\n",
            "|RT @frasergj: Aft...|\n",
            "|RT @frasergj: Aft...|\n",
            "|After a sunny sta...|\n",
            "|RT @Iceman26061: ...|\n",
            "|Porthleven 2014 t...|\n",
            "|Monday morning se...|\n",
            "+--------------------+\n",
            "\n"
          ]
        }
      ]
    },
    {
      "cell_type": "code",
      "source": [
        "sqlDF = spark.sql(\"SELECT text FROM weather WHERE UPPER(text) LIKE '%SUN%' \").show(20, False)"
      ],
      "metadata": {
        "colab": {
          "base_uri": "https://localhost:8080/"
        },
        "id": "mRg0dl7InW2q",
        "outputId": "6796397a-8ac6-4ccb-cb1a-9585ea80612f"
      },
      "execution_count": null,
      "outputs": [
        {
          "output_type": "stream",
          "name": "stdout",
          "text": [
            "+---------------------------------------------------------------------------------------------------------------------------------------------+\n",
            "|text                                                                                                                                         |\n",
            "+---------------------------------------------------------------------------------------------------------------------------------------------+\n",
            "|RT @frasergj: A sunny day at @StirUni this afternoon....until the wind picked up, blowing rain clouds over #Stirling (3/2) #WeatherWatcherG… |\n",
            "|RT @frasergj: After a sunny start around #Stirling winds blowing rain clouds across (3/2) #WeatherWatcherGraham @BBCScotWeather @BBCAimsir…  |\n",
            "|RT @frasergj: A sunny day at @StirUni this afternoon....until the wind picked up, blowing rain clouds over #Stirling (3/2) #WeatherWatcherG… |\n",
            "|RT @frasergj: A sunny day at @StirUni this afternoon....until the wind picked up, blowing rain clouds over #Stirling (3/2) #WeatherWatcherG… |\n",
            "|RT @simon_weather: Sunrise in Great Yarmouth @StormchaserUKEU @carlharlott @danholley @stormbell @Lowweather @TheSnowDreamer @iainG81 @MetR… |\n",
            "|RT @frasergj: After a sunny start around #Stirling winds blowing rain clouds across (3/2) #WeatherWatcherGraham @BBCScotWeather @BBCAimsir…  |\n",
            "|#sunset over #m6n #rushhour @bbcmtd @bbcweather Birmingham https://t.co/xfmiSqR0u3                                                           |\n",
            "|A chilly sunset in ryhill park @JonMitchellITV @kerriegosneyTV @itvweather @metoffice @BBCWthrWatchers @bbcweather… https://t.co/3kHPFOj7W2  |\n",
            "|A sunny day at @StirUni this afternoon....until the wind picked up, blowing rain clouds over #Stirling (3/2)… https://t.co/nkyHmHar8d        |\n",
            "|RT @frasergj: After a sunny start around #Stirling winds blowing rain clouds across (3/2) #WeatherWatcherGraham @BBCScotWeather @BBCAimsir…  |\n",
            "|RT @frasergj: After a sunny start around #Stirling winds blowing rain clouds across (3/2) #WeatherWatcherGraham @BBCScotWeather @BBCAimsir…  |\n",
            "|Sunshine, rain or snow. For me all of the enjoyment of the weather comes from how it feels. ☀️ 🌧 ❄️ https://t.co/fUOgmvCdlJ                 |\n",
            "|RT @simon_weather: Sunrise in Great Yarmouth @StormchaserUKEU @carlharlott @danholley @stormbell @Lowweather @TheSnowDreamer @iainG81 @MetR… |\n",
            "|RT @simon_weather: Sunrise in Great Yarmouth @StormchaserUKEU @carlharlott @danholley @stormbell @Lowweather @TheSnowDreamer @iainG81 @MetR… |\n",
            "|RT @simon_weather: Sunrise in Great Yarmouth @StormchaserUKEU @carlharlott @danholley @stormbell @Lowweather @TheSnowDreamer @iainG81 @MetR… |\n",
            "|RT @frasergj: After a sunny start around #Stirling winds blowing rain clouds across (3/2) #WeatherWatcherGraham @BBCScotWeather @BBCAimsir…  |\n",
            "|RT @frasergj: After a sunny start around #Stirling winds blowing rain clouds across (3/2) #WeatherWatcherGraham @BBCScotWeather @BBCAimsir…  |\n",
            "|After a sunny start around #Stirling winds blowing rain clouds across (3/2) #WeatherWatcherGraham @BBCScotWeather… https://t.co/tOtpDgqBXF   |\n",
            "|RT @ruths_gallery: It looks as if that jackdaw is making a contrail 😳🤣 Sunny spells are forecast for #Twickenham before a cloudy afternoon…|\n",
            "|RT @ruths_gallery: It looks as if that jackdaw is making a contrail 😳🤣 Sunny spells are forecast for #Twickenham before a cloudy afternoon…|\n",
            "+---------------------------------------------------------------------------------------------------------------------------------------------+\n",
            "only showing top 20 rows\n",
            "\n"
          ]
        }
      ]
    }
  ]
}